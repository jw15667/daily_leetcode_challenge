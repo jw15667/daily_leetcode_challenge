{
 "cells": [
  {
   "cell_type": "markdown",
   "metadata": {},
   "source": [
    "# 1004. Max Consecutive Ones III\n"
   ]
  },
  {
   "cell_type": "markdown",
   "metadata": {},
   "source": [
    "https://leetcode.com/problems/max-consecutive-ones-iii/"
   ]
  },
  {
   "cell_type": "code",
   "execution_count": 9,
   "metadata": {},
   "outputs": [],
   "source": [
    "A = [1,1,1,0,0,0,1,1,1,1,0]"
   ]
  },
  {
   "cell_type": "code",
   "execution_count": 10,
   "metadata": {},
   "outputs": [],
   "source": [
    "k = 2"
   ]
  },
  {
   "cell_type": "code",
   "execution_count": 11,
   "metadata": {},
   "outputs": [
    {
     "name": "stdout",
     "output_type": "stream",
     "text": [
      "The amount of zeros 2\n",
      "The size of right 0\n",
      "The size of left 0\n",
      "The amount of zeros 2\n",
      "The size of right 1\n",
      "The size of left 0\n",
      "The amount of zeros 2\n",
      "The size of right 2\n",
      "The size of left 0\n",
      "The amount of zeros 1\n",
      "The size of right 3\n",
      "The size of left 0\n",
      "The amount of zeros 0\n",
      "The size of right 4\n",
      "The size of left 0\n",
      "The amount of zeros -1\n",
      "The size of right 5\n",
      "The size of left 0\n",
      "The amount of zeros -1\n",
      "The size of right 6\n",
      "The size of left 1\n",
      "The amount of zeros -1\n",
      "The size of right 7\n",
      "The size of left 2\n",
      "The amount of zeros -1\n",
      "The size of right 8\n",
      "The size of left 3\n",
      "The amount of zeros 0\n",
      "The size of right 9\n",
      "The size of left 4\n",
      "The amount of zeros -1\n",
      "The size of right 10\n",
      "The size of left 4\n",
      "6\n"
     ]
    }
   ],
   "source": [
    "right = 0\n",
    "left = 0\n",
    "\n",
    "for right in range(len(A)):\n",
    "    k -= 1 - A[right]\n",
    "    print(f\"The amount of zeros {k}\")\n",
    "    print(f\"The size of right {right}\")\n",
    "    print(f\"The size of left {left}\")\n",
    "    \n",
    "    if k < 0:\n",
    "        k += 1 - A[left]\n",
    "        left += 1\n",
    "print(right - left + 1)\n"
   ]
  }
 ],
 "metadata": {
  "kernelspec": {
   "display_name": "Python 3",
   "language": "python",
   "name": "python3"
  },
  "language_info": {
   "codemirror_mode": {
    "name": "ipython",
    "version": 3
   },
   "file_extension": ".py",
   "mimetype": "text/x-python",
   "name": "python",
   "nbconvert_exporter": "python",
   "pygments_lexer": "ipython3",
   "version": "3.8.5"
  }
 },
 "nbformat": 4,
 "nbformat_minor": 4
}
