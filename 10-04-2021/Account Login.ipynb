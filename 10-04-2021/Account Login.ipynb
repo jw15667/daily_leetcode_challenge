{
 "cells": [
  {
   "cell_type": "markdown",
   "metadata": {},
   "source": [
    "https://leetcode.com/problems/minimum-swaps-to-group-all-1s-together/\n",
    "    \n",
    "Given a binary array data, return the minimum number of swaps required to group all 1’s present in the array together in any place in the array.  \n",
    "\n",
    "Input: data = [1,0,1,0,1]\n",
    "Output: 1\n",
    "Explanation: \n",
    "There are 3 ways to group all 1's together:\n",
    "[1,1,1,0,0] using 1 swap.\n",
    "[0,1,1,1,0] using 2 swaps.\n",
    "[0,0,1,1,1] using 1 swap.\n",
    "The minimum is 1."
   ]
  },
  {
   "cell_type": "code",
   "execution_count": null,
   "metadata": {},
   "outputs": [],
   "source": [
    "data = [1,0,1,0,1] "
   ]
  },
  {
   "cell_type": "code",
   "execution_count": 3,
   "metadata": {},
   "outputs": [],
   "source": [
    "from collections import Counter"
   ]
  },
  {
   "cell_type": "code",
   "execution_count": 47,
   "metadata": {},
   "outputs": [],
   "source": [
    "import collections"
   ]
  },
  {
   "cell_type": "code",
   "execution_count": null,
   "metadata": {},
   "outputs": [],
   "source": [
    "counter=Counter(data)"
   ]
  },
  {
   "cell_type": "code",
   "execution_count": null,
   "metadata": {},
   "outputs": [],
   "source": [
    "k=counter[1]\n",
    "k"
   ]
  },
  {
   "cell_type": "code",
   "execution_count": null,
   "metadata": {},
   "outputs": [],
   "source": [
    "counter=Counter(data)\n",
    "k=counter[1]\n",
    "\n",
    "start=0\n",
    "end=k\n",
    "result=len(data)\n",
    "\n",
    "while end <= len(data): \n",
    "    temp_data=data[start:end]\n",
    "    #print(temp_data)\n",
    "    temp_counter=Counter(temp_data)\n",
    "    #print(temp_counter)\n",
    "    changes=temp_counter[0]\n",
    "    result=min(result,changes)\n",
    "    start+=1\n",
    "    end+=1\n",
    "\n",
    "\n",
    "#print(result)"
   ]
  },
  {
   "cell_type": "code",
   "execution_count": null,
   "metadata": {},
   "outputs": [],
   "source": [
    "data = [1,0,1,0,1,0,0,1,1,0,1]"
   ]
  },
  {
   "cell_type": "code",
   "execution_count": null,
   "metadata": {},
   "outputs": [],
   "source": [
    "len(data)"
   ]
  },
  {
   "cell_type": "code",
   "execution_count": null,
   "metadata": {},
   "outputs": [],
   "source": [
    "data[10]"
   ]
  },
  {
   "cell_type": "code",
   "execution_count": 4,
   "metadata": {},
   "outputs": [],
   "source": [
    "data = [1,0,1,0,1,0,0,1,1,0,1]"
   ]
  },
  {
   "cell_type": "code",
   "execution_count": 5,
   "metadata": {},
   "outputs": [
    {
     "data": {
      "text/plain": [
       "6"
      ]
     },
     "execution_count": 5,
     "metadata": {},
     "output_type": "execute_result"
    }
   ],
   "source": [
    "counter=Counter(data)\n",
    "k=counter[1]\n",
    "k"
   ]
  },
  {
   "cell_type": "code",
   "execution_count": 9,
   "metadata": {},
   "outputs": [
    {
     "data": {
      "text/plain": [
       "[1, 0, 1, 0, 1, 0]"
      ]
     },
     "execution_count": 9,
     "metadata": {},
     "output_type": "execute_result"
    }
   ],
   "source": [
    "data[0:k]"
   ]
  },
  {
   "cell_type": "code",
   "execution_count": 8,
   "metadata": {},
   "outputs": [
    {
     "data": {
      "text/plain": [
       "3"
      ]
     },
     "execution_count": 8,
     "metadata": {},
     "output_type": "execute_result"
    }
   ],
   "source": [
    "k-sum(data[0:k])"
   ]
  },
  {
   "cell_type": "code",
   "execution_count": 6,
   "metadata": {},
   "outputs": [
    {
     "data": {
      "text/plain": [
       "[0, 1, 0, 1, 0, 0]"
      ]
     },
     "execution_count": 6,
     "metadata": {},
     "output_type": "execute_result"
    }
   ],
   "source": [
    "data[0+1:k+1]"
   ]
  },
  {
   "cell_type": "code",
   "execution_count": 7,
   "metadata": {},
   "outputs": [
    {
     "data": {
      "text/plain": [
       "4"
      ]
     },
     "execution_count": 7,
     "metadata": {},
     "output_type": "execute_result"
    }
   ],
   "source": [
    "k-sum(data[0+1:k+1])"
   ]
  },
  {
   "cell_type": "code",
   "execution_count": 10,
   "metadata": {},
   "outputs": [
    {
     "name": "stdout",
     "output_type": "stream",
     "text": [
      "3\n"
     ]
    }
   ],
   "source": [
    "temp_result=k-sum(data[0:k])\n",
    "result=len(data)\n",
    "result=min(result,temp_result)\n",
    "print(result)"
   ]
  },
  {
   "cell_type": "code",
   "execution_count": 34,
   "metadata": {},
   "outputs": [],
   "source": [
    "data = [1,0,1,0,1,0,1,1,1,0,1,0,0,1,1,1,0,0,1,1,1,0,1,0,1,1,0,0,0,1,1,1,1,0,0,1]"
   ]
  },
  {
   "cell_type": "code",
   "execution_count": 36,
   "metadata": {},
   "outputs": [],
   "source": [
    "data = [1,0,1,0,1,0,0,1,1,0,1]"
   ]
  },
  {
   "cell_type": "code",
   "execution_count": 39,
   "metadata": {},
   "outputs": [
    {
     "data": {
      "text/plain": [
       "6"
      ]
     },
     "execution_count": 39,
     "metadata": {},
     "output_type": "execute_result"
    }
   ],
   "source": [
    "k"
   ]
  },
  {
   "cell_type": "code",
   "execution_count": 42,
   "metadata": {},
   "outputs": [
    {
     "name": "stdout",
     "output_type": "stream",
     "text": [
      "k:  6\n",
      "first result: 3\n",
      "------\n",
      "i:  1\n",
      "j:  7\n",
      "temp_result:  4\n",
      "max result: 4\n",
      "i:  2\n",
      "j:  8\n",
      "temp_result:  4\n",
      "max result: 4\n",
      "i:  3\n",
      "j:  9\n",
      "temp_result:  4\n",
      "max result: 4\n",
      "i:  4\n",
      "j:  10\n",
      "temp_result:  4\n",
      "max result: 4\n",
      "final result:  4\n"
     ]
    }
   ],
   "source": [
    "counter=Counter(data)\n",
    "k=counter[1]\n",
    "print(\"k: \", k)\n",
    "\n",
    "result=sum(data[0:k])\n",
    "print(\"first result:\" , result)\n",
    "print(\"------\")\n",
    "\n",
    "i=1\n",
    "j=i+k\n",
    "\n",
    "while j<=len(data)-1:\n",
    "\n",
    "    print(\"i: \", i)\n",
    "    print(\"j: \", j)\n",
    "    \n",
    "    temp_result=result-data[i]+data[j]\n",
    "    print(\"temp_result: \",temp_result)\n",
    "    \n",
    "    result=max(result,temp_result)\n",
    "    print(\"max result:\", result)\n",
    "    \n",
    "    i+=1\n",
    "    j=i+k\n",
    "\n",
    "print(\"final result: \", result)"
   ]
  },
  {
   "cell_type": "code",
   "execution_count": null,
   "metadata": {},
   "outputs": [],
   "source": [
    "data=[1,0,1,0,1,0,0,1,1,0,1]"
   ]
  },
  {
   "cell_type": "code",
   "execution_count": null,
   "metadata": {},
   "outputs": [],
   "source": [
    "counter=Counter(data)\n",
    "k=counter[1]\n",
    "k"
   ]
  },
  {
   "cell_type": "code",
   "execution_count": null,
   "metadata": {},
   "outputs": [],
   "source": [
    "len(data)"
   ]
  },
  {
   "cell_type": "code",
   "execution_count": null,
   "metadata": {},
   "outputs": [],
   "source": [
    "counter=Counter(data)\n",
    "k=counter[1]\n",
    "\n",
    "temp_data=data[0:k]\n",
    "temp_result=sum(temp_data)\n",
    "result=len(data)\n",
    "result=min(result,temp_result)\n",
    "\n",
    "i=0\n",
    "j=i+k\n",
    "\n",
    "while j<len(data)-1:\n",
    "    temp_result=result-data[i]+data[j]\n",
    "    \n",
    "    result=min(result,temp_result)\n",
    "    \n",
    "    i+=1\n",
    "    j=i+k\n",
    "\n",
    "print(\"final result: \", result)"
   ]
  },
  {
   "cell_type": "code",
   "execution_count": null,
   "metadata": {},
   "outputs": [],
   "source": [
    "counter=Counter(data)\n",
    "k=counter[1]\n",
    "\n",
    "temp_data=data[start:end]\n",
    "temp_result=sum(temp_data)\n",
    "result=max(result,temp_result)\n",
    "print(result)\n",
    "\n",
    "for i in range(len(data)-k):\n",
    "    j=i+k-1\n",
    "    print(\"i: \", i)\n",
    "    print(\"j: \", j)\n",
    "    \n",
    "    temp_result=result-data[i]+data[j]\n",
    "    print(temp_result)\n",
    "    \n",
    "    result=min(result,temp_result)\n",
    "    print(result)\n",
    "\n",
    "final_result=k-\n",
    "print(\"final result: \", final_result)"
   ]
  },
  {
   "cell_type": "code",
   "execution_count": 44,
   "metadata": {},
   "outputs": [],
   "source": [
    "# solution 1\n",
    "\n",
    "ones = sum(data)\n",
    "cnt_one = max_one = 0\n",
    "left = right = 0\n",
    "while right < len(data):\n",
    "    # updating the number of 1's by adding the new element\n",
    "    cnt_one += data[right]\n",
    "    right += 1\n",
    "    # maintain the length of the window to ones\n",
    "    if right - left > ones:\n",
    "        # updating the number of 1's by removing the oldest element\n",
    "        cnt_one -= data[left]\n",
    "        left += 1\n",
    "    # record the maximum number of 1's in the window\n",
    "    max_one = max(max_one, cnt_one)\n",
    "#return ones - max_one\n"
   ]
  },
  {
   "cell_type": "code",
   "execution_count": 45,
   "metadata": {},
   "outputs": [
    {
     "data": {
      "text/plain": [
       "3"
      ]
     },
     "execution_count": 45,
     "metadata": {},
     "output_type": "execute_result"
    }
   ],
   "source": [
    "ones-max_one"
   ]
  },
  {
   "cell_type": "code",
   "execution_count": 49,
   "metadata": {},
   "outputs": [],
   "source": [
    "data=[1,0,1,0,1,0,0,1,1,0,1]"
   ]
  },
  {
   "cell_type": "code",
   "execution_count": 52,
   "metadata": {},
   "outputs": [
    {
     "name": "stdout",
     "output_type": "stream",
     "text": [
      "deque([1])\n",
      "count:  1\n",
      "deque([1, 0])\n",
      "count:  1\n",
      "deque([1, 0, 1])\n",
      "count:  2\n",
      "deque([1, 0, 1, 0])\n",
      "count:  2\n",
      "deque([1, 0, 1, 0, 1])\n",
      "count:  3\n",
      "deque([1, 0, 1, 0, 1, 0])\n",
      "count:  3\n",
      "deque([1, 0, 1, 0, 1, 0, 0])\n",
      "count:  3\n",
      "2\n",
      "----\n",
      "deque([0, 1, 0, 1, 0, 0, 1])\n",
      "count:  3\n",
      "3\n",
      "----\n",
      "deque([1, 0, 1, 0, 0, 1, 1])\n",
      "count:  4\n",
      "3\n",
      "----\n",
      "deque([0, 1, 0, 0, 1, 1, 0])\n",
      "count:  3\n",
      "3\n",
      "----\n",
      "deque([1, 0, 0, 1, 1, 0, 1])\n",
      "count:  4\n",
      "3\n",
      "----\n"
     ]
    }
   ],
   "source": [
    "# solution 2\n",
    "\n",
    "ones = sum(data)\n",
    "cnt_one = max_one = 0\n",
    "# maintain a deque with the size = ones\n",
    "deque = collections.deque()\n",
    "for i in range(len(data)):\n",
    "    # we would always add the new element into the deque\n",
    "    deque.append(data[i])\n",
    "    print(deque)\n",
    "    cnt_one += data[i]\n",
    "    print(\"count: \", cnt_one)\n",
    "    # when there are more than ones elements in the deque,\n",
    "    # remove the leftmost one\n",
    "    if len(deque) > ones:\n",
    "        cnt_one -= deque.popleft()\n",
    "        print(cnt_one)\n",
    "        print(\"----\")\n",
    "    max_one = max(max_one, cnt_one)\n",
    "#return ones - max_one"
   ]
  },
  {
   "cell_type": "code",
   "execution_count": null,
   "metadata": {},
   "outputs": [],
   "source": [
    "ones-max_one"
   ]
  }
 ],
 "metadata": {
  "kernelspec": {
   "display_name": "Python 3",
   "language": "python",
   "name": "python3"
  },
  "language_info": {
   "codemirror_mode": {
    "name": "ipython",
    "version": 3
   },
   "file_extension": ".py",
   "mimetype": "text/x-python",
   "name": "python",
   "nbconvert_exporter": "python",
   "pygments_lexer": "ipython3",
   "version": "3.8.3"
  }
 },
 "nbformat": 4,
 "nbformat_minor": 4
}
