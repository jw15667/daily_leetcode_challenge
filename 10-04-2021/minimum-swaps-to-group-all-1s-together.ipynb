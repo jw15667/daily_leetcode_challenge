{
 "cells": [
  {
   "cell_type": "markdown",
   "metadata": {},
   "source": [
    "# 1151. Minimum Swaps to Group All 1's Together\n"
   ]
  },
  {
   "cell_type": "markdown",
   "metadata": {},
   "source": [
    "https://leetcode.com/problems/minimum-swaps-to-group-all-1s-together/"
   ]
  },
  {
   "cell_type": "code",
   "execution_count": 33,
   "metadata": {},
   "outputs": [],
   "source": [
    "data = [1,0,1,0,1,0,0,1,1,0,1]\n",
    "window = len([one for one in data if one ==1])\n",
    "start = 0\n",
    "changes = float('inf')"
   ]
  },
  {
   "cell_type": "code",
   "execution_count": null,
   "metadata": {},
   "outputs": [],
   "source": [
    "window = len([one for one in data if one ==1])\n",
    "start = 0\n",
    "changes = float('inf')\n",
    "for i in range(len(data) - window +1):\n",
    "    local = data[start:i+window]\n",
    "    local_changes = len([one for one in local if one ==0])\n",
    "    changes = min(local_changes, changes)\n",
    "    start+=1\n",
    "return (changes)"
   ]
  },
  {
   "cell_type": "code",
   "execution_count": 56,
   "metadata": {},
   "outputs": [],
   "source": [
    "data= [1,0,1,0,1,0,1,1,1,0,1,0,0,1,1,1,0,0,1,1,1,0,1,0,1,1,0,0,0,1,1,1,1,0,0,1]\n",
    "k = len([one for one in data if one ==1])\n",
    "window = []\n",
    "for i in range(0, k):\n",
    "    win.append(next)"
   ]
  },
  {
   "cell_type": "code",
   "execution_count": 71,
   "metadata": {},
   "outputs": [
    {
     "data": {
      "text/plain": [
       "21"
      ]
     },
     "execution_count": 71,
     "metadata": {},
     "output_type": "execute_result"
    }
   ],
   "source": [
    "data= [1,0,1,0,1,0,1,1,1,0,1,0,0,1,1,1,0,0,1,1,1,0,1,0,1,1,0,0,0,1,1,1,1,0,0,1]\n",
    "k = len([one for one in data if one ==1])\n",
    "k"
   ]
  },
  {
   "cell_type": "code",
   "execution_count": 70,
   "metadata": {},
   "outputs": [
    {
     "name": "stdout",
     "output_type": "stream",
     "text": [
      "1\n"
     ]
    }
   ],
   "source": [
    "ones = sum(data)\n",
    "cnt_one = max_one = 0\n",
    "left = right = 0\n",
    "while right < len(data):\n",
    "    # updating the number of 1's by adding the new element\n",
    "    cnt_one += data[right]\n",
    "    right += 1\n",
    "    # maintain the length of the window to ones\n",
    "    if right - left > ones:\n",
    "        # updating the number of 1's by removing the oldest element\n",
    "        cnt_one -= data[left]\n",
    "        left += 1\n",
    "    # record the maximum number of 1's in the window\n",
    "    max_one = max(max_one, cnt_one)\n",
    "return ones - max_one"
   ]
  },
  {
   "cell_type": "code",
   "execution_count": 76,
   "metadata": {},
   "outputs": [
    {
     "name": "stdout",
     "output_type": "stream",
     "text": [
      "12\n",
      "13\n",
      "12\n",
      "13\n",
      "13\n",
      "13\n",
      "12\n",
      "11\n",
      "11\n",
      "12\n",
      "12\n",
      "13\n",
      "13\n",
      "12\n",
      "12\n"
     ]
    }
   ],
   "source": [
    "import collections\n",
    "ones = sum(data)\n",
    "cnt_one = max_one = 0\n",
    "\n",
    "# maintain a deque with the size = ones\n",
    "deque = collections.deque()\n",
    "for i in range(len(data)):\n",
    "\n",
    "    # we would always add the new element into the deque\n",
    "    deque.append(data[i])\n",
    "    cnt_one += data[i]\n",
    "    # when there are more than ones elements in the deque,\n",
    "    # remove the leftmost one\n",
    "    if len(deque) > ones:\n",
    "        cnt_one -= deque.popleft()\n",
    "        print(cnt_one)\n",
    "    max_one = max(max_one, cnt_one)\n",
    "# return ones - max_one"
   ]
  },
  {
   "cell_type": "code",
   "execution_count": 44,
   "metadata": {},
   "outputs": [
    {
     "data": {
      "text/plain": [
       "8"
      ]
     },
     "execution_count": 44,
     "metadata": {},
     "output_type": "execute_result"
    }
   ],
   "source": [
    "changes"
   ]
  },
  {
   "cell_type": "code",
   "execution_count": 55,
   "metadata": {},
   "outputs": [
    {
     "name": "stdout",
     "output_type": "stream",
     "text": [
      "8\n",
      "7\n",
      "6\n",
      "7\n",
      "8\n",
      "8\n",
      "8\n",
      "7\n",
      "7\n",
      "7\n",
      "7\n",
      "8\n",
      "7\n",
      "7\n",
      "6\n",
      "7\n",
      "7\n",
      "8\n",
      "7\n",
      "7\n",
      "7\n",
      "6\n"
     ]
    }
   ],
   "source": [
    "sumup = len([i for i in data[:k] if i ==0])\n",
    "res = sumup\n",
    "\n",
    "for i in range(k):\n",
    "    sumup+= -data[k-i-1] + data[-i-1]\n",
    "    \n",
    "    print(sumup)\n",
    "    res = min(res, sumup)\n",
    "print(res)\n"
   ]
  },
  {
   "cell_type": "code",
   "execution_count": null,
   "metadata": {},
   "outputs": [],
   "source": []
  }
 ],
 "metadata": {
  "kernelspec": {
   "display_name": "Python 3",
   "language": "python",
   "name": "python3"
  },
  "language_info": {
   "codemirror_mode": {
    "name": "ipython",
    "version": 3
   },
   "file_extension": ".py",
   "mimetype": "text/x-python",
   "name": "python",
   "nbconvert_exporter": "python",
   "pygments_lexer": "ipython3",
   "version": "3.8.5"
  }
 },
 "nbformat": 4,
 "nbformat_minor": 4
}
