{
 "cells": [
  {
   "cell_type": "code",
   "execution_count": 1,
   "metadata": {},
   "outputs": [],
   "source": [
    "nums = [1,2,3,4]\n",
    "minimum = 3"
   ]
  },
  {
   "cell_type": "code",
   "execution_count": 3,
   "metadata": {},
   "outputs": [
    {
     "data": {
      "text/plain": [
       "[1, 2, 3]"
      ]
     },
     "execution_count": 3,
     "metadata": {},
     "output_type": "execute_result"
    }
   ],
   "source": [
    "start=0\n",
    "end=[start+minimum]\n",
    "nums[start:start+minimum]"
   ]
  },
  {
   "cell_type": "code",
   "execution_count": 14,
   "metadata": {},
   "outputs": [
    {
     "data": {
      "text/plain": [
       "6"
      ]
     },
     "execution_count": 14,
     "metadata": {},
     "output_type": "execute_result"
    }
   ],
   "source": [
    "#set up first window with the length of minimum\n",
    "start=0\n",
    "end=[start+minimum-1]\n",
    "start_sum=sum(nums[start:start+minimum])\n",
    "start_sum"
   ]
  },
  {
   "cell_type": "code",
   "execution_count": 17,
   "metadata": {},
   "outputs": [
    {
     "name": "stdout",
     "output_type": "stream",
     "text": [
      "[1, 2]\n",
      "[1, 2]\n",
      "[1, 2]\n"
     ]
    }
   ],
   "source": [
    "start=0\n",
    "#for i in range(len(nums)):\n",
    "end=start+1\n",
    "temp_list=[]\n",
    "\n",
    "while end<len(nums):\n",
    "    if nums[start]+1==nums[start+1]:\n",
    "        temp_array=nums[start:start+2]\n",
    "        print(temp_array)\n",
    "        if len(temp_array)>=3:\n",
    "            temp_list.append(nums[start:start+1])\n",
    "            print(temp_list)\n",
    "        end+=1\n",
    "    else:\n",
    "        start+=1\n",
    "        \n",
    "        \n",
    "        "
   ]
  },
  {
   "cell_type": "code",
   "execution_count": null,
   "metadata": {},
   "outputs": [],
   "source": [
    "start=0\n",
    "#for i in range(len(nums)):\n",
    "end=start+1\n",
    "temp_list=[]\n",
    "\n",
    "#set up first window with the length of minimum\n",
    "index=start\n",
    "first_array=nums[index]\n",
    "while len(first_array)<=minimum:\n",
    "    if nums[index]+1==nums[index+1]:\n",
    "        len(first_array)\n",
    "\n",
    "while end<len(nums):\n",
    "    "
   ]
  },
  {
   "cell_type": "code",
   "execution_count": 10,
   "metadata": {},
   "outputs": [
    {
     "data": {
      "text/plain": [
       "9"
      ]
     },
     "execution_count": 10,
     "metadata": {},
     "output_type": "execute_result"
    }
   ],
   "source": [
    "start_sum - nums[start] + nums[end]"
   ]
  },
  {
   "cell_type": "code",
   "execution_count": 15,
   "metadata": {},
   "outputs": [
    {
     "data": {
      "text/plain": [
       "[1]"
      ]
     },
     "execution_count": 15,
     "metadata": {},
     "output_type": "execute_result"
    }
   ],
   "source": [
    "nums[start:start+1]"
   ]
  },
  {
   "cell_type": "code",
   "execution_count": 23,
   "metadata": {},
   "outputs": [],
   "source": [
    "A = [1,2,3,4,6,8]\n",
    "minimum = 3"
   ]
  },
  {
   "cell_type": "code",
   "execution_count": 24,
   "metadata": {},
   "outputs": [
    {
     "name": "stdout",
     "output_type": "stream",
     "text": [
      "i:  0\n",
      "1\n",
      "i:  1\n",
      "1\n",
      "comb:  1\n",
      "count:  1\n",
      "i:  2\n",
      "1\n",
      "comb:  2\n",
      "count:  3\n",
      "i:  3\n",
      "2\n",
      "i:  4\n",
      "2\n",
      "comb:  1\n",
      "count:  4\n",
      "4\n"
     ]
    }
   ],
   "source": [
    "count = comb = last_difference = 0\n",
    "for i in range(len(A)-1):\n",
    "    difference= A[i+1] - A[i]\n",
    "    print(\"i: \", i)\n",
    "    print(difference)\n",
    "    if i != 0 and difference == last_difference: \n",
    "        comb += 1\n",
    "        print(\"comb: \",comb)\n",
    "        count += comb\n",
    "        print(\"count: \",count)\n",
    "    else:\n",
    "        comb = 0\n",
    "    \n",
    "    last_difference = difference\n",
    "    \n",
    "print(count)"
   ]
  },
  {
   "cell_type": "code",
   "execution_count": 25,
   "metadata": {},
   "outputs": [],
   "source": [
    "A = [1,2,3,4,6,8]"
   ]
  },
  {
   "cell_type": "code",
   "execution_count": 27,
   "metadata": {},
   "outputs": [
    {
     "name": "stdout",
     "output_type": "stream",
     "text": [
      "4\n",
      "3\n",
      "4\n"
     ]
    }
   ],
   "source": [
    "i = 1\n",
    "res = 0\n",
    "while i < len(A):\n",
    "    diff = A[i] - A[i - 1]\n",
    "    prev, nex = i, i + 1\n",
    "    while nex < len(A) and A[nex] - A[prev] == diff:\n",
    "        prev, nex = nex, nex + 1\n",
    "    dist = (nex - i + 1)\n",
    "    print(dist)\n",
    "    if dist >= 3:\n",
    "        res += int((dist - 1) * (dist - 2) / 2)\n",
    "    i = nex\n",
    "print(res)"
   ]
  },
  {
   "cell_type": "markdown",
   "metadata": {},
   "source": [
    "https://leetcode.com/problems/longest-repeating-character-replacement/"
   ]
  },
  {
   "cell_type": "code",
   "execution_count": 28,
   "metadata": {},
   "outputs": [],
   "source": [
    "s = \"ABAB\"\n",
    "k = 2"
   ]
  },
  {
   "cell_type": "code",
   "execution_count": 29,
   "metadata": {},
   "outputs": [],
   "source": [
    "s = \"AABABBA\"\n",
    "k = 1"
   ]
  },
  {
   "cell_type": "code",
   "execution_count": 30,
   "metadata": {},
   "outputs": [],
   "source": [
    "from collections import Counter"
   ]
  },
  {
   "cell_type": "code",
   "execution_count": 38,
   "metadata": {},
   "outputs": [
    {
     "data": {
      "text/plain": [
       "'AA'"
      ]
     },
     "execution_count": 38,
     "metadata": {},
     "output_type": "execute_result"
    }
   ],
   "source": [
    "s[start:end+1]"
   ]
  },
  {
   "cell_type": "code",
   "execution_count": 41,
   "metadata": {},
   "outputs": [],
   "source": [
    "start=0\n",
    "end=start+1\n",
    "temp=Counter(s[start:end+1])"
   ]
  },
  {
   "cell_type": "code",
   "execution_count": 49,
   "metadata": {},
   "outputs": [
    {
     "name": "stdout",
     "output_type": "stream",
     "text": [
      "[2]\n"
     ]
    }
   ],
   "source": [
    "print(list(temp.values()))"
   ]
  },
  {
   "cell_type": "code",
   "execution_count": 69,
   "metadata": {},
   "outputs": [
    {
     "name": "stdout",
     "output_type": "stream",
     "text": [
      "AABA\n",
      "4\n"
     ]
    }
   ],
   "source": [
    "#set up initial window\n",
    "\n",
    "start=0\n",
    "end=1\n",
    "k=1\n",
    "\n",
    "while k>0:\n",
    "    if s[start]==s[end]:\n",
    "        end+=1\n",
    "\n",
    "    else:\n",
    "        k-=1\n",
    "        end+=1\n",
    "    \n",
    "maximum_window=len(s[start:end+1])\n",
    "temp_longest_array=s[start:end+1]\n",
    "print(temp_longest_array)\n",
    "print(maximum_window)"
   ]
  },
  {
   "cell_type": "code",
   "execution_count": 70,
   "metadata": {},
   "outputs": [
    {
     "data": {
      "text/plain": [
       "Counter({'A': 3, 'B': 1})"
      ]
     },
     "execution_count": 70,
     "metadata": {},
     "output_type": "execute_result"
    }
   ],
   "source": [
    "counter=Counter(temp_longest_array)\n",
    "counter"
   ]
  },
  {
   "cell_type": "code",
   "execution_count": 71,
   "metadata": {},
   "outputs": [
    {
     "data": {
      "text/plain": [
       "Counter({'A': 2, 'B': 2})"
      ]
     },
     "execution_count": 71,
     "metadata": {},
     "output_type": "execute_result"
    }
   ],
   "source": [
    "start+=1\n",
    "end+=1\n",
    "counter[s[start]]-=1\n",
    "counter[s[end]]+=1\n",
    "\n",
    "counter"
   ]
  },
  {
   "cell_type": "code",
   "execution_count": 75,
   "metadata": {},
   "outputs": [
    {
     "data": {
      "text/plain": [
       "False"
      ]
     },
     "execution_count": 75,
     "metadata": {},
     "output_type": "execute_result"
    }
   ],
   "source": [
    "k in list(counter.values())"
   ]
  },
  {
   "cell_type": "code",
   "execution_count": 77,
   "metadata": {},
   "outputs": [
    {
     "data": {
      "text/plain": [
       "Counter({'A': 3, 'B': 3})"
      ]
     },
     "execution_count": 77,
     "metadata": {},
     "output_type": "execute_result"
    }
   ],
   "source": [
    "while end<len(s)-1:\n",
    "    \n",
    "    if k in list(counter.values()) == False:\n",
    "        start+=1\n",
    "        end+=1\n",
    "        counter[s[start]]-=1\n",
    "        counter[s[end]]+=1\n",
    "\n",
    "    else:\n",
    "        end+=1\n",
    "        counter[s[end]]+=1\n",
    "        \n",
    "counter"
   ]
  },
  {
   "cell_type": "code",
   "execution_count": 61,
   "metadata": {},
   "outputs": [
    {
     "data": {
      "text/plain": [
       "Counter({'A': 2, 'B': 2})"
      ]
     },
     "execution_count": 61,
     "metadata": {},
     "output_type": "execute_result"
    }
   ],
   "source": [
    "counter=Counter(temp_longest_array)\n",
    "start+=1\n",
    "end+=1\n",
    "counter[s[start]]-=1\n",
    "counter[s[end]]+=1\n",
    "\n",
    "counter"
   ]
  },
  {
   "cell_type": "code",
   "execution_count": 65,
   "metadata": {},
   "outputs": [
    {
     "data": {
      "text/plain": [
       "7"
      ]
     },
     "execution_count": 65,
     "metadata": {},
     "output_type": "execute_result"
    }
   ],
   "source": [
    "start"
   ]
  },
  {
   "cell_type": "code",
   "execution_count": 67,
   "metadata": {},
   "outputs": [],
   "source": [
    "counter=Counter(temp_longest_array)\n",
    "start+=1\n",
    "end+=1\n",
    "while end < len(s):\n",
    "    counter[s[start]]-=1\n",
    "    counter[s[end]]+=1\n",
    "    if counter[s[end]]==counter[s[end]]:\n",
    "        start+=1\n",
    "        end+=1\n",
    "    else: \n",
    "        end+=1"
   ]
  },
  {
   "cell_type": "code",
   "execution_count": 68,
   "metadata": {},
   "outputs": [
    {
     "data": {
      "text/plain": [
       "Counter({'A': 2, 'B': 2})"
      ]
     },
     "execution_count": 68,
     "metadata": {},
     "output_type": "execute_result"
    }
   ],
   "source": [
    "counter"
   ]
  },
  {
   "cell_type": "code",
   "execution_count": 32,
   "metadata": {},
   "outputs": [
    {
     "ename": "SyntaxError",
     "evalue": "unexpected EOF while parsing (<ipython-input-32-aaebb5de1682>, line 7)",
     "output_type": "error",
     "traceback": [
      "\u001b[0;36m  File \u001b[0;32m\"<ipython-input-32-aaebb5de1682>\"\u001b[0;36m, line \u001b[0;32m7\u001b[0m\n\u001b[0;31m    \u001b[0m\n\u001b[0m    ^\u001b[0m\n\u001b[0;31mSyntaxError\u001b[0m\u001b[0;31m:\u001b[0m unexpected EOF while parsing\n"
     ]
    }
   ],
   "source": [
    "start=0\n",
    "end=1\n",
    "\n",
    "while end < len(s):\n",
    "    temp_s=Counter(s[start:end+1])\n",
    "    if k>0:\n",
    "        end+=1\n",
    "        "
   ]
  },
  {
   "cell_type": "code",
   "execution_count": null,
   "metadata": {},
   "outputs": [],
   "source": []
  },
  {
   "cell_type": "code",
   "execution_count": null,
   "metadata": {},
   "outputs": [],
   "source": []
  },
  {
   "cell_type": "code",
   "execution_count": null,
   "metadata": {},
   "outputs": [],
   "source": []
  }
 ],
 "metadata": {
  "kernelspec": {
   "display_name": "Python 3",
   "language": "python",
   "name": "python3"
  },
  "language_info": {
   "codemirror_mode": {
    "name": "ipython",
    "version": 3
   },
   "file_extension": ".py",
   "mimetype": "text/x-python",
   "name": "python",
   "nbconvert_exporter": "python",
   "pygments_lexer": "ipython3",
   "version": "3.8.3"
  }
 },
 "nbformat": 4,
 "nbformat_minor": 4
}
