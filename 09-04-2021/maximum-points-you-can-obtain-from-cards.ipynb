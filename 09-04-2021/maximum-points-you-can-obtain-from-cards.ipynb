{
 "cells": [
  {
   "cell_type": "markdown",
   "metadata": {},
   "source": [
    "https://leetcode.com/problems/maximum-points-you-can-obtain-from-cards/"
   ]
  },
  {
   "cell_type": "markdown",
   "metadata": {},
   "source": [
    "# 1423. Maximum Points You Can Obtain from Cards\n"
   ]
  },
  {
   "cell_type": "code",
   "execution_count": 28,
   "metadata": {},
   "outputs": [],
   "source": [
    "cardPoints = [1,2,3,4,5,6,1]\n",
    "k = 3\n"
   ]
  },
  {
   "cell_type": "code",
   "execution_count": 31,
   "metadata": {},
   "outputs": [],
   "source": [
    "cardPoints = [2,2,2]\n",
    "k = 2"
   ]
  },
  {
   "cell_type": "code",
   "execution_count": 118,
   "metadata": {},
   "outputs": [],
   "source": [
    "cardPoints = [9,7,7,9,7,7,9]\n",
    "k = 7"
   ]
  },
  {
   "cell_type": "code",
   "execution_count": 136,
   "metadata": {},
   "outputs": [],
   "source": [
    "cardPoints = [1,1000,1]\n",
    "k = 1"
   ]
  },
  {
   "cell_type": "code",
   "execution_count": 112,
   "metadata": {},
   "outputs": [],
   "source": [
    "cardPoints = [1,79,80,1,1,1,200,1]\n",
    "k = 3"
   ]
  },
  {
   "cell_type": "code",
   "execution_count": 134,
   "metadata": {},
   "outputs": [],
   "source": [
    "cardPoints = [100,40,17,9,73,75]\n",
    "k = 3"
   ]
  },
  {
   "cell_type": "code",
   "execution_count": 128,
   "metadata": {},
   "outputs": [],
   "source": [
    "cardPoints =[2,2,2]\n",
    "k=2"
   ]
  },
  {
   "cell_type": "code",
   "execution_count": 146,
   "metadata": {},
   "outputs": [],
   "source": [
    "cardPoints =[96,90,41,82,39,74,64,50,30]\n",
    "k=8"
   ]
  },
  {
   "cell_type": "code",
   "execution_count": 155,
   "metadata": {},
   "outputs": [],
   "source": [
    "class Solution:\n",
    "    def maxScore(self, cardPoints: List[int], k: int) -> int:\n",
    "        window = len(cardPoints) - k \n",
    "        lowest_window_score = float('inf')\n",
    "        start = 0\n",
    "\n",
    "        if k == len(cardPoints):\n",
    "            return (sum(cardPoints))\n",
    "        \n",
    "        elif k == 1:\n",
    "            x = (cardPoints[0])\n",
    "            f = (cardPoints[len(cardPoints)-1])\n",
    "            return max(x,f)\n",
    "\n",
    "        \n",
    "        else:\n",
    "            while start < len(cardPoints) - k + 1:\n",
    "                local =sum(cardPoints[start:start+window])\n",
    "                print(cardPoints[start:start+window])\n",
    "                lowest_window_score= min(lowest_window_score, local)\n",
    "                start+= 1\n",
    "        return (sum(cardPoints) - lowest_window_score)"
   ]
  },
  {
   "cell_type": "code",
   "execution_count": 188,
   "metadata": {},
   "outputs": [
    {
     "name": "stdout",
     "output_type": "stream",
     "text": [
      "536\n"
     ]
    }
   ],
   "source": [
    "if len(cardPoints)<=k:\n",
    "    print(sum(cardPoints))\n",
    "\n",
    "window  = len(cardPoints) - k\n",
    "start = 0\n",
    "high = 0\n",
    "local = sum(cardPoints) - sum(cardPoints[start:window])\n",
    "high = max(high, local)\n",
    "\n",
    "while window <len(cardPoints):\n",
    "    local = local + cardPoints[start]-cardPoints[window]\n",
    "    high =max(high, local)\n",
    "    start+=1\n",
    "    window+=1\n",
    "print(answer)"
   ]
  },
  {
   "cell_type": "code",
   "execution_count": 177,
   "metadata": {},
   "outputs": [
    {
     "name": "stdout",
     "output_type": "stream",
     "text": [
      "476\n",
      "525\n",
      "484\n",
      "527\n",
      "492\n",
      "502\n",
      "516\n",
      "536\n",
      "536\n"
     ]
    }
   ],
   "source": [
    "if len(cardPoints)<=k:\n",
    "            return sum(cardPoints)\n",
    "        start=0\n",
    "        end=len(cardPoints)-k\n",
    "        highest_score=0\n",
    "        local_score=sum(cardPoints)-sum(cardPoints[start:end])\n",
    "        highest_score=max(highest_score, local_score)\n",
    "        #print(highest_score)\n",
    "        while end<len(cardPoints):\n",
    "            #print(start)\n",
    "            #print(end)\n",
    "            local_score=local_score+cardPoints[start]-cardPoints[end]\n",
    "            highest_score=max(highest_score, local_score)\n",
    "            #print(local_score)\n",
    "            #print(highest_score)\n",
    "            #print(\"----\")\n",
    "            start+=1\n",
    "            end+=1\n",
    "        return highest_score\n"
   ]
  },
  {
   "cell_type": "markdown",
   "metadata": {},
   "source": [
    "## Leetcode Solution"
   ]
  },
  {
   "cell_type": "code",
   "execution_count": 170,
   "metadata": {},
   "outputs": [],
   "source": [
    "cardPoints =[96,90,41,82,39,74,64,50,30]\n",
    "k=8"
   ]
  },
  {
   "cell_type": "code",
   "execution_count": 171,
   "metadata": {},
   "outputs": [
    {
     "data": {
      "text/plain": [
       "536"
      ]
     },
     "execution_count": 171,
     "metadata": {},
     "output_type": "execute_result"
    }
   ],
   "source": [
    "sum(cardPoints) - 30"
   ]
  },
  {
   "cell_type": "code",
   "execution_count": 169,
   "metadata": {},
   "outputs": [
    {
     "name": "stdout",
     "output_type": "stream",
     "text": [
      "516\n",
      "502\n",
      "492\n",
      "527\n",
      "484\n",
      "525\n",
      "476\n",
      "470\n",
      "536\n"
     ]
    }
   ],
   "source": [
    "sumup = sum(cardPoints[:k])\n",
    "res = sumup\n",
    "\n",
    "for i in range(k):\n",
    "    sumup+= -cardPoints[k-i-1] + cardPoints[-i-1]\n",
    "    print(sumup)\n",
    "    res = max(res, sumup)\n",
    "print(res)\n"
   ]
  },
  {
   "cell_type": "code",
   "execution_count": null,
   "metadata": {},
   "outputs": [],
   "source": []
  }
 ],
 "metadata": {
  "kernelspec": {
   "display_name": "Python 3",
   "language": "python",
   "name": "python3"
  },
  "language_info": {
   "codemirror_mode": {
    "name": "ipython",
    "version": 3
   },
   "file_extension": ".py",
   "mimetype": "text/x-python",
   "name": "python",
   "nbconvert_exporter": "python",
   "pygments_lexer": "ipython3",
   "version": "3.8.5"
  }
 },
 "nbformat": 4,
 "nbformat_minor": 4
}
