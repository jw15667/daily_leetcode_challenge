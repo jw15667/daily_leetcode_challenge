{
 "cells": [
  {
   "cell_type": "markdown",
   "metadata": {},
   "source": [
    "https://leetcode.com/problems/find-all-anagrams-in-a-string/"
   ]
  },
  {
   "cell_type": "code",
   "execution_count": 45,
   "metadata": {},
   "outputs": [],
   "source": [
    "s= \"cbaebabacd\" \n",
    "p = \"abc\""
   ]
  },
  {
   "cell_type": "code",
   "execution_count": 38,
   "metadata": {},
   "outputs": [
    {
     "data": {
      "text/plain": [
       "'cba'"
      ]
     },
     "execution_count": 38,
     "metadata": {},
     "output_type": "execute_result"
    }
   ],
   "source": [
    "temp_s=s[0:3]\n",
    "temp_s"
   ]
  },
  {
   "cell_type": "code",
   "execution_count": 51,
   "metadata": {},
   "outputs": [],
   "source": [
    "s = \"abab\" \n",
    "p = \"ab\""
   ]
  },
  {
   "cell_type": "code",
   "execution_count": 4,
   "metadata": {},
   "outputs": [
    {
     "name": "stdout",
     "output_type": "stream",
     "text": [
      "2\n"
     ]
    }
   ],
   "source": [
    "window_size=len(p)\n",
    "print(window_size)"
   ]
  },
  {
   "cell_type": "code",
   "execution_count": 23,
   "metadata": {},
   "outputs": [
    {
     "data": {
      "text/plain": [
       "'baebabacd'"
      ]
     },
     "execution_count": 23,
     "metadata": {},
     "output_type": "execute_result"
    }
   ],
   "source": [
    "s.lstrip('c') "
   ]
  },
  {
   "cell_type": "code",
   "execution_count": 29,
   "metadata": {},
   "outputs": [
    {
     "data": {
      "text/plain": [
       "'ac'"
      ]
     },
     "execution_count": 29,
     "metadata": {},
     "output_type": "execute_result"
    }
   ],
   "source": [
    "import re\n",
    "temp_p = re.sub('b', '', p)\n",
    "temp_p"
   ]
  },
  {
   "cell_type": "code",
   "execution_count": 30,
   "metadata": {},
   "outputs": [
    {
     "data": {
      "text/plain": [
       "'ac'"
      ]
     },
     "execution_count": 30,
     "metadata": {},
     "output_type": "execute_result"
    }
   ],
   "source": [
    "temp_p = re.sub('b', '', temp_p)\n",
    "temp_p"
   ]
  },
  {
   "cell_type": "code",
   "execution_count": 31,
   "metadata": {},
   "outputs": [
    {
     "data": {
      "text/plain": [
       "'a'"
      ]
     },
     "execution_count": 31,
     "metadata": {},
     "output_type": "execute_result"
    }
   ],
   "source": [
    "temp_p = re.sub('c', '', temp_p)\n",
    "temp_p"
   ]
  },
  {
   "cell_type": "code",
   "execution_count": 56,
   "metadata": {},
   "outputs": [
    {
     "name": "stdout",
     "output_type": "stream",
     "text": [
      "0\n",
      "2\n",
      "temp_s:  ['a', 'b']\n",
      "p:  ['a', 'b']\n",
      "1\n",
      "2\n",
      "temp_s:  ['a', 'b']\n",
      "p:  ['a', 'b']\n",
      "2\n",
      "2\n",
      "temp_s:  ['a', 'b']\n",
      "p:  ['a', 'b']\n"
     ]
    }
   ],
   "source": [
    "left_index=0\n",
    "window_size=len(p)\n",
    "right_index=left_index+window_size\n",
    "\n",
    "result_index=[]\n",
    "\n",
    "p=sorted(p)\n",
    "\n",
    "while left_index <= (len(s)-window_size):\n",
    "    print(left_index)\n",
    "    print(len(s)-window_size)\n",
    "    right_index=left_index+window_size\n",
    "    \n",
    "    temp_s=sorted(s[left_index:right_index])\n",
    "    \n",
    "    print(\"temp_s: \",temp_s)\n",
    "    print(\"p: \", p)\n",
    "    \n",
    "    if temp_s==p:\n",
    "        result_index.append(left_index)\n",
    "    \n",
    "    #print(\"result: \", result_index)\n",
    "        \n",
    "    left_index+=1\n",
    "    \n",
    "#return result_index"
   ]
  },
  {
   "cell_type": "code",
   "execution_count": 48,
   "metadata": {},
   "outputs": [
    {
     "data": {
      "text/plain": [
       "[]"
      ]
     },
     "execution_count": 48,
     "metadata": {},
     "output_type": "execute_result"
    }
   ],
   "source": [
    "result_index"
   ]
  },
  {
   "cell_type": "code",
   "execution_count": 19,
   "metadata": {},
   "outputs": [
    {
     "name": "stdout",
     "output_type": "stream",
     "text": [
      "0\n",
      "2\n",
      "type:  <class 'int'> <class 'int'>\n",
      "temp:  0\n",
      "temp:  1\n",
      "temp:  2\n",
      "1\n",
      "3\n",
      "type:  <class 'int'> <class 'int'>\n",
      "temp:  1\n",
      "temp:  2\n",
      "2\n",
      "4\n",
      "type:  <class 'int'> <class 'int'>\n",
      "temp:  2\n",
      "3\n",
      "5\n",
      "type:  <class 'int'> <class 'int'>\n",
      "4\n",
      "6\n",
      "type:  <class 'int'> <class 'int'>\n",
      "temp:  4\n",
      "temp:  5\n",
      "temp:  6\n",
      "5\n",
      "7\n",
      "type:  <class 'int'> <class 'int'>\n",
      "temp:  5\n",
      "temp:  6\n",
      "temp:  7\n",
      "6\n",
      "8\n",
      "type:  <class 'int'> <class 'int'>\n",
      "temp:  6\n",
      "temp:  7\n",
      "temp:  8\n",
      "7\n",
      "9\n",
      "type:  <class 'int'> <class 'int'>\n",
      "temp:  7\n",
      "temp:  8\n"
     ]
    }
   ],
   "source": [
    "result_index=[]\n",
    "\n",
    "for left_index in range(len(s)-window_size):\n",
    "    right_index=left_index+window_size\n",
    "    print(left_index)\n",
    "    print(right_index)\n",
    "    temp_left=left_index\n",
    "    print(\"type: \", type(right_index),  type(temp_left ))\n",
    "    while str(s[temp_left]) in p and temp_left<=right_index:\n",
    "        print(\"temp: \", temp_left)\n",
    "        if temp_left==right_index:\n",
    "            result_index.append(left_index)\n",
    "        \n",
    "        temp_left+=1"
   ]
  },
  {
   "cell_type": "code",
   "execution_count": 20,
   "metadata": {},
   "outputs": [
    {
     "data": {
      "text/plain": [
       "[0, 4, 5, 6]"
      ]
     },
     "execution_count": 20,
     "metadata": {},
     "output_type": "execute_result"
    }
   ],
   "source": [
    "result_index"
   ]
  }
 ],
 "metadata": {
  "kernelspec": {
   "display_name": "Python 3",
   "language": "python",
   "name": "python3"
  },
  "language_info": {
   "codemirror_mode": {
    "name": "ipython",
    "version": 3
   },
   "file_extension": ".py",
   "mimetype": "text/x-python",
   "name": "python",
   "nbconvert_exporter": "python",
   "pygments_lexer": "ipython3",
   "version": "3.8.3"
  }
 },
 "nbformat": 4,
 "nbformat_minor": 4
}
