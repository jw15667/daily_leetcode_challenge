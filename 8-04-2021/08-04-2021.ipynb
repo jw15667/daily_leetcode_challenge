{
 "cells": [
  {
   "cell_type": "markdown",
   "metadata": {},
   "source": [
    "https://leetcode.com/problems/find-all-anagrams-in-a-string/"
   ]
  },
  {
   "cell_type": "code",
   "execution_count": 45,
   "metadata": {},
   "outputs": [],
   "source": [
    "s= \"cbaebabacd\" \n",
    "p = \"abc\""
   ]
  },
  {
   "cell_type": "code",
   "execution_count": 38,
   "metadata": {},
   "outputs": [
    {
     "data": {
      "text/plain": [
       "'cba'"
      ]
     },
     "execution_count": 38,
     "metadata": {},
     "output_type": "execute_result"
    }
   ],
   "source": [
    "temp_s=s[0:3]\n",
    "temp_s"
   ]
  },
  {
   "cell_type": "code",
   "execution_count": 51,
   "metadata": {},
   "outputs": [],
   "source": [
    "s = \"abab\" \n",
    "p = \"ab\""
   ]
  },
  {
   "cell_type": "code",
   "execution_count": 4,
   "metadata": {},
   "outputs": [
    {
     "name": "stdout",
     "output_type": "stream",
     "text": [
      "2\n"
     ]
    }
   ],
   "source": [
    "window_size=len(p)\n",
    "print(window_size)"
   ]
  },
  {
   "cell_type": "code",
   "execution_count": 23,
   "metadata": {},
   "outputs": [
    {
     "data": {
      "text/plain": [
       "'baebabacd'"
      ]
     },
     "execution_count": 23,
     "metadata": {},
     "output_type": "execute_result"
    }
   ],
   "source": [
    "s.lstrip('c') "
   ]
  },
  {
   "cell_type": "code",
   "execution_count": 29,
   "metadata": {},
   "outputs": [
    {
     "data": {
      "text/plain": [
       "'ac'"
      ]
     },
     "execution_count": 29,
     "metadata": {},
     "output_type": "execute_result"
    }
   ],
   "source": [
    "import re\n",
    "temp_p = re.sub('b', '', p)\n",
    "temp_p"
   ]
  },
  {
   "cell_type": "code",
   "execution_count": 30,
   "metadata": {},
   "outputs": [
    {
     "data": {
      "text/plain": [
       "'ac'"
      ]
     },
     "execution_count": 30,
     "metadata": {},
     "output_type": "execute_result"
    }
   ],
   "source": [
    "temp_p = re.sub('b', '', temp_p)\n",
    "temp_p"
   ]
  },
  {
   "cell_type": "code",
   "execution_count": 31,
   "metadata": {},
   "outputs": [
    {
     "data": {
      "text/plain": [
       "'a'"
      ]
     },
     "execution_count": 31,
     "metadata": {},
     "output_type": "execute_result"
    }
   ],
   "source": [
    "temp_p = re.sub('c', '', temp_p)\n",
    "temp_p"
   ]
  },
  {
   "cell_type": "code",
   "execution_count": 56,
   "metadata": {},
   "outputs": [
    {
     "name": "stdout",
     "output_type": "stream",
     "text": [
      "0\n",
      "2\n",
      "temp_s:  ['a', 'b']\n",
      "p:  ['a', 'b']\n",
      "1\n",
      "2\n",
      "temp_s:  ['a', 'b']\n",
      "p:  ['a', 'b']\n",
      "2\n",
      "2\n",
      "temp_s:  ['a', 'b']\n",
      "p:  ['a', 'b']\n"
     ]
    }
   ],
   "source": [
    "left_index=0\n",
    "window_size=len(p)\n",
    "right_index=left_index+window_size\n",
    "\n",
    "result_index=[]\n",
    "\n",
    "p=sorted(p)\n",
    "\n",
    "while left_index <= (len(s)-window_size):\n",
    "    print(left_index)\n",
    "    print(len(s)-window_size)\n",
    "    right_index=left_index+window_size\n",
    "    \n",
    "    temp_s=sorted(s[left_index:right_index])\n",
    "    \n",
    "    print(\"temp_s: \",temp_s)\n",
    "    print(\"p: \", p)\n",
    "    \n",
    "    if temp_s==p:\n",
    "        result_index.append(left_index)\n",
    "    \n",
    "    #print(\"result: \", result_index)\n",
    "        \n",
    "    left_index+=1\n",
    "    \n",
    "#return result_index"
   ]
  },
  {
   "cell_type": "code",
   "execution_count": 48,
   "metadata": {},
   "outputs": [
    {
     "data": {
      "text/plain": [
       "[]"
      ]
     },
     "execution_count": 48,
     "metadata": {},
     "output_type": "execute_result"
    }
   ],
   "source": [
    "result_index"
   ]
  },
  {
   "cell_type": "code",
   "execution_count": 64,
   "metadata": {},
   "outputs": [
    {
     "name": "stdout",
     "output_type": "stream",
     "text": [
      "[0, 1, 2]\n"
     ]
    }
   ],
   "source": [
    "from collections import Counter\n",
    "ns, np = len(s), len(p)\n",
    "if ns < np:\n",
    "    #return []\n",
    "    print([])\n",
    "    \n",
    "p_count = Counter(p)\n",
    "s_count = Counter()\n",
    "output = []\n",
    "# sliding window on the string s\n",
    "for i in range(ns):\n",
    "    # add one more letter \n",
    "    # on the right side of the window\n",
    "    s_count[s[i]] += 1\n",
    "    # remove one letter \n",
    "    # from the left side of the window\n",
    "    if i >= np:\n",
    "        if s_count[s[i - np]] == 1:\n",
    "            del s_count[s[i - np]]\n",
    "        else:\n",
    "            s_count[s[i - np]] -= 1\n",
    "    # compare array in the sliding window\n",
    "    # with the reference array\n",
    "    if p_count == s_count:\n",
    "        output.append(i - np + 1)\n",
    "#return output\n",
    "print(output)"
   ]
  },
  {
   "cell_type": "code",
   "execution_count": 20,
   "metadata": {},
   "outputs": [
    {
     "data": {
      "text/plain": [
       "[0, 4, 5, 6]"
      ]
     },
     "execution_count": 20,
     "metadata": {},
     "output_type": "execute_result"
    }
   ],
   "source": [
    "result_index"
   ]
  },
  {
   "cell_type": "markdown",
   "metadata": {},
   "source": [
    "https://leetcode.com/problems/permutation-in-string/"
   ]
  },
  {
   "cell_type": "code",
   "execution_count": 65,
   "metadata": {},
   "outputs": [],
   "source": [
    "s1 = \"ab\" \n",
    "s2 = \"eidbaooo\""
   ]
  },
  {
   "cell_type": "code",
   "execution_count": 84,
   "metadata": {},
   "outputs": [
    {
     "name": "stdout",
     "output_type": "stream",
     "text": [
      "Counter({'e': 1})\n",
      "Counter({'e': 1, 'i': 1})\n",
      "Counter({'e': 1, 'i': 1, 'd': 1})\n",
      "if-loop\n",
      "Counter({'i': 1, 'd': 1})\n",
      "----\n",
      "Counter({'i': 1, 'd': 1, 'b': 1})\n",
      "if-loop\n",
      "Counter({'d': 1, 'b': 1})\n",
      "----\n",
      "Counter({'d': 1, 'b': 1, 'a': 1})\n",
      "if-loop\n",
      "Counter({'b': 1, 'a': 1})\n",
      "----\n",
      "True\n"
     ]
    }
   ],
   "source": [
    "s1_len, s2_len = len(s1), len(s2)\n",
    "counter_s2=Counter()\n",
    "counter_s1=Counter(s1)\n",
    "#i == right pointer\n",
    "for i in range(s2_len):\n",
    "    \n",
    "    counter_s2[s2[i]]+=1\n",
    "    print(counter_s2)\n",
    "    \n",
    "    #starting if first when i == window_size\n",
    "    if i >= s1_len:\n",
    "        if counter_s2[s2[i-s1_len]]==1:\n",
    "            #deleting the letter seen longest ago\n",
    "            print(\"if-loop\")\n",
    "            del counter_s2[s2[i-s1_len]]\n",
    "            print(counter_s2)\n",
    "            print(\"----\")\n",
    "        else:\n",
    "            counter_s2[s2[i-s1_len]]-=1\n",
    "        \n",
    "    if counter_s1==counter_s2:\n",
    "        print(True)\n",
    "        break\n",
    "        #return True\n",
    "        \n",
    "        \n",
    "\n",
    "#print(counter_s2)"
   ]
  },
  {
   "cell_type": "code",
   "execution_count": null,
   "metadata": {},
   "outputs": [],
   "source": []
  }
 ],
 "metadata": {
  "kernelspec": {
   "display_name": "Python 3",
   "language": "python",
   "name": "python3"
  },
  "language_info": {
   "codemirror_mode": {
    "name": "ipython",
    "version": 3
   },
   "file_extension": ".py",
   "mimetype": "text/x-python",
   "name": "python",
   "nbconvert_exporter": "python",
   "pygments_lexer": "ipython3",
   "version": "3.8.3"
  }
 },
 "nbformat": 4,
 "nbformat_minor": 4
}
