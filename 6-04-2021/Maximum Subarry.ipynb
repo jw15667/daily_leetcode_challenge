{
 "cells": [
  {
   "cell_type": "markdown",
   "metadata": {},
   "source": [
    "https://leetcode.com/problems/maximum-subarray/?fbclid=IwAR0hbEFd4heuXSWjANldfBaya5KjkIEEbp1P87wIpHFgrzHHbgJb210gJlE"
   ]
  },
  {
   "cell_type": "code",
   "execution_count": 1,
   "metadata": {},
   "outputs": [],
   "source": [
    "nums = [-2,1,-3,4,-1,2,1,-5,4]"
   ]
  },
  {
   "cell_type": "code",
   "execution_count": 10,
   "metadata": {},
   "outputs": [
    {
     "data": {
      "text/plain": [
       "0"
      ]
     },
     "execution_count": 10,
     "metadata": {},
     "output_type": "execute_result"
    }
   ],
   "source": [
    "max(nums[1],nums[2])\n",
    "max(nums[0],0)"
   ]
  },
  {
   "cell_type": "code",
   "execution_count": 23,
   "metadata": {},
   "outputs": [
    {
     "name": "stdout",
     "output_type": "stream",
     "text": [
      "-2\n",
      "0\n",
      "-1\n",
      "0\n",
      "-4\n",
      "0\n",
      "0\n",
      "0\n",
      "-1\n",
      "0\n",
      "1\n",
      "1\n",
      "2\n",
      "2\n",
      "-3\n",
      "2\n",
      "1\n",
      "2\n"
     ]
    }
   ],
   "source": [
    "max_right_now=0\n",
    "temp=0\n",
    "for left in nums:\n",
    "    temp=temp+left\n",
    "    max_right_now=max(max_right_now,temp)\n",
    "    print(temp)\n",
    "    print(max_right_now)"
   ]
  },
  {
   "cell_type": "code",
   "execution_count": 25,
   "metadata": {},
   "outputs": [
    {
     "data": {
      "text/plain": [
       "2"
      ]
     },
     "execution_count": 25,
     "metadata": {},
     "output_type": "execute_result"
    }
   ],
   "source": [
    "max_right_now"
   ]
  },
  {
   "cell_type": "code",
   "execution_count": 34,
   "metadata": {},
   "outputs": [
    {
     "data": {
      "text/plain": [
       "4"
      ]
     },
     "execution_count": 34,
     "metadata": {},
     "output_type": "execute_result"
    }
   ],
   "source": [
    "max(nums)"
   ]
  },
  {
   "cell_type": "code",
   "execution_count": 26,
   "metadata": {},
   "outputs": [
    {
     "name": "stdout",
     "output_type": "stream",
     "text": [
      "0\n",
      "0\n",
      "1\n",
      "1\n",
      "0\n",
      "1\n",
      "4\n",
      "4\n",
      "3\n",
      "4\n",
      "5\n",
      "5\n",
      "6\n",
      "6\n",
      "1\n",
      "6\n",
      "5\n",
      "6\n"
     ]
    }
   ],
   "source": [
    "max_right_now=0\n",
    "temp=0\n",
    "\n",
    "if max(nums)<0:\n",
    "    return max(nums)\n",
    "\n",
    "if len(nums)==1:\n",
    "    return nums[0]\n",
    "\n",
    "for left in nums:\n",
    "    temp=temp+left\n",
    "    temp=max(temp,0) #not working for negative\n",
    "    max_right_now=max(max_right_now,temp)\n",
    "    print(temp)\n",
    "    print(max_right_now)"
   ]
  },
  {
   "cell_type": "code",
   "execution_count": 33,
   "metadata": {},
   "outputs": [
    {
     "name": "stdout",
     "output_type": "stream",
     "text": [
      "1\n",
      "2\n",
      "if statment\n",
      "2\n",
      "2\n",
      "if statment\n",
      "2\n",
      "2\n",
      "if statment\n",
      "2\n",
      "if statment\n",
      "2\n",
      "2\n"
     ]
    }
   ],
   "source": [
    "if len(nums)==1:\n",
    "    #return 1\n",
    "    print(1)\n",
    "    \n",
    "max_right_now=0\n",
    "left=0\n",
    "right=0\n",
    "while right<len(nums):\n",
    "    right+=1\n",
    "    max_right_now=max(max_right_now,right-left)\n",
    "    print(max_right_now)\n",
    "    if right<len(nums) and nums[right-1]>=nums[right]:\n",
    "        print(\"if statment\")\n",
    "        left=right"
   ]
  },
  {
   "cell_type": "code",
   "execution_count": 31,
   "metadata": {},
   "outputs": [
    {
     "data": {
      "text/plain": [
       "2"
      ]
     },
     "execution_count": 31,
     "metadata": {},
     "output_type": "execute_result"
    }
   ],
   "source": [
    "max_right_now"
   ]
  },
  {
   "cell_type": "code",
   "execution_count": null,
   "metadata": {},
   "outputs": [],
   "source": []
  }
 ],
 "metadata": {
  "kernelspec": {
   "display_name": "Python 3",
   "language": "python",
   "name": "python3"
  },
  "language_info": {
   "codemirror_mode": {
    "name": "ipython",
    "version": 3
   },
   "file_extension": ".py",
   "mimetype": "text/x-python",
   "name": "python",
   "nbconvert_exporter": "python",
   "pygments_lexer": "ipython3",
   "version": "3.8.3"
  }
 },
 "nbformat": 4,
 "nbformat_minor": 4
}
