{
 "cells": [
  {
   "cell_type": "markdown",
   "metadata": {},
   "source": [
    "https://leetcode.com/problems/maximum-points-you-can-obtain-from-cards/"
   ]
  },
  {
   "cell_type": "code",
   "execution_count": 1,
   "metadata": {},
   "outputs": [],
   "source": [
    "cardPoints = [1,2,3,4,5,6,1]\n",
    "k = 3"
   ]
  },
  {
   "cell_type": "code",
   "execution_count": 2,
   "metadata": {},
   "outputs": [],
   "source": [
    "cardPoints = [1,79,80,1,1,1,200,1]\n",
    "k = 3"
   ]
  },
  {
   "cell_type": "code",
   "execution_count": 31,
   "metadata": {},
   "outputs": [],
   "source": [
    "cardPoints =[100,40,17,9,73,75]\n",
    "k=3\n"
   ]
  },
  {
   "cell_type": "code",
   "execution_count": 36,
   "metadata": {},
   "outputs": [
    {
     "data": {
      "text/plain": [
       "9"
      ]
     },
     "execution_count": 36,
     "metadata": {},
     "output_type": "execute_result"
    }
   ],
   "source": [
    "len(cardPoints)"
   ]
  },
  {
   "cell_type": "code",
   "execution_count": 8,
   "metadata": {},
   "outputs": [
    {
     "data": {
      "text/plain": [
       "[1, 200, 1]"
      ]
     },
     "execution_count": 8,
     "metadata": {},
     "output_type": "execute_result"
    }
   ],
   "source": [
    "cardPoints[-1:-k-1:-1]"
   ]
  },
  {
   "cell_type": "code",
   "execution_count": 10,
   "metadata": {},
   "outputs": [
    {
     "data": {
      "text/plain": [
       "[1, 79, 80, 1, 200, 1]"
      ]
     },
     "execution_count": 10,
     "metadata": {},
     "output_type": "execute_result"
    }
   ],
   "source": [
    "new_array=cardPoints[:k]+cardPoints[-1:-k-1:-1]\n",
    "new_array"
   ]
  },
  {
   "cell_type": "code",
   "execution_count": 47,
   "metadata": {},
   "outputs": [],
   "source": [
    "window_size = k\n",
    "\n",
    "#if len(cardPoints)<=3:\n",
    "    #return sum(cardPoints)\n",
    "\n",
    "result=[]\n",
    "start=0\n",
    "end=len(cardPoints)-k\n",
    "summe=sum(cardPoints)\n",
    "\n",
    "\n",
    "#while result<k+1:\n",
    "    "
   ]
  },
  {
   "cell_type": "code",
   "execution_count": 16,
   "metadata": {},
   "outputs": [
    {
     "data": {
      "text/plain": [
       "8"
      ]
     },
     "execution_count": 16,
     "metadata": {},
     "output_type": "execute_result"
    }
   ],
   "source": [
    "len(cardPoints)"
   ]
  },
  {
   "cell_type": "code",
   "execution_count": 46,
   "metadata": {},
   "outputs": [
    {
     "data": {
      "text/plain": [
       "1"
      ]
     },
     "execution_count": 46,
     "metadata": {},
     "output_type": "execute_result"
    }
   ],
   "source": [
    "end"
   ]
  },
  {
   "cell_type": "code",
   "execution_count": 3,
   "metadata": {},
   "outputs": [
    {
     "data": {
      "text/plain": [
       "364"
      ]
     },
     "execution_count": 3,
     "metadata": {},
     "output_type": "execute_result"
    }
   ],
   "source": [
    "sum(cardPoints)"
   ]
  },
  {
   "cell_type": "code",
   "execution_count": 20,
   "metadata": {},
   "outputs": [
    {
     "data": {
      "text/plain": [
       "162"
      ]
     },
     "execution_count": 20,
     "metadata": {},
     "output_type": "execute_result"
    }
   ],
   "source": [
    "sum(cardPoints[start:end])"
   ]
  },
  {
   "cell_type": "code",
   "execution_count": 51,
   "metadata": {},
   "outputs": [
    {
     "name": "stdout",
     "output_type": "stream",
     "text": [
      "0\n",
      "1\n",
      "Temp:  96\n",
      "470\n",
      "470\n",
      "----\n",
      "1\n",
      "2\n",
      "Temp:  90\n",
      "476\n",
      "476\n",
      "----\n",
      "2\n",
      "3\n",
      "Temp:  41\n",
      "525\n",
      "525\n",
      "----\n",
      "3\n",
      "4\n",
      "Temp:  82\n",
      "484\n",
      "525\n",
      "----\n",
      "4\n",
      "5\n",
      "Temp:  39\n",
      "527\n",
      "527\n",
      "----\n",
      "5\n",
      "6\n",
      "Temp:  74\n",
      "492\n",
      "527\n",
      "----\n",
      "6\n",
      "7\n",
      "Temp:  64\n",
      "502\n",
      "527\n",
      "----\n",
      "7\n",
      "8\n",
      "Temp:  50\n",
      "516\n",
      "527\n",
      "----\n",
      "8\n",
      "9\n",
      "Temp:  30\n",
      "536\n",
      "536\n",
      "----\n"
     ]
    }
   ],
   "source": [
    "start=0\n",
    "end=len(cardPoints)-k\n",
    "summe=sum(cardPoints)\n",
    "\n",
    "\n",
    "min_right_now=sum(cardPoints[start:end])\n",
    "highest_score=0\n",
    "\n",
    "while end<=len(cardPoints):\n",
    "    \n",
    "    print(start)\n",
    "    print(end)\n",
    "    temp=sum(cardPoints[start:end])\n",
    "    print(\"Temp: \",temp)\n",
    "    local_score=summe-min(min_right_now, temp)\n",
    "    print(local_score)\n",
    "    highest_score=max(highest_score, local_score)\n",
    "    print(highest_score)\n",
    "    print(\"----\")\n",
    "    \n",
    "    start+=1\n",
    "    end+=1\n",
    "    \n",
    "    "
   ]
  },
  {
   "cell_type": "code",
   "execution_count": 34,
   "metadata": {},
   "outputs": [
    {
     "data": {
      "text/plain": [
       "215"
      ]
     },
     "execution_count": 34,
     "metadata": {},
     "output_type": "execute_result"
    }
   ],
   "source": [
    "score"
   ]
  },
  {
   "cell_type": "code",
   "execution_count": 44,
   "metadata": {},
   "outputs": [],
   "source": [
    "cardPoints =[96,90,41,82,39,74,64,50,30]\n",
    "k=8\n"
   ]
  },
  {
   "cell_type": "code",
   "execution_count": 73,
   "metadata": {},
   "outputs": [
    {
     "name": "stdout",
     "output_type": "stream",
     "text": [
      "96\n",
      "470\n"
     ]
    }
   ],
   "source": [
    "start=0\n",
    "end=len(cardPoints)-k\n",
    "\n",
    "summe=sum(cardPoints)\n",
    "highest_score=0\n",
    "min_right_now=sum(cardPoints[start:end])\n",
    "temp=min_right_now\n",
    "\n",
    "local_score=summe-min(min_right_now, temp)\n",
    "highest_score=max(highest_score, local_score)\n",
    "print(temp)\n",
    "print(highest_score)"
   ]
  },
  {
   "cell_type": "code",
   "execution_count": 72,
   "metadata": {},
   "outputs": [
    {
     "data": {
      "text/plain": [
       "1"
      ]
     },
     "execution_count": 72,
     "metadata": {},
     "output_type": "execute_result"
    }
   ],
   "source": [
    "end-start"
   ]
  },
  {
   "cell_type": "code",
   "execution_count": null,
   "metadata": {},
   "outputs": [],
   "source": []
  },
  {
   "cell_type": "code",
   "execution_count": null,
   "metadata": {},
   "outputs": [],
   "source": []
  },
  {
   "cell_type": "code",
   "execution_count": 60,
   "metadata": {},
   "outputs": [
    {
     "data": {
      "text/plain": [
       "476"
      ]
     },
     "execution_count": 60,
     "metadata": {},
     "output_type": "execute_result"
    }
   ],
   "source": [
    "start=0\n",
    "highest_score+cardPoints[start]-cardPoints[start+1]"
   ]
  },
  {
   "cell_type": "code",
   "execution_count": 62,
   "metadata": {},
   "outputs": [
    {
     "data": {
      "text/plain": [
       "519"
      ]
     },
     "execution_count": 62,
     "metadata": {},
     "output_type": "execute_result"
    }
   ],
   "source": [
    "start=1\n",
    "highest_score+cardPoints[start]-cardPoints[start+1]"
   ]
  },
  {
   "cell_type": "code",
   "execution_count": 63,
   "metadata": {},
   "outputs": [
    {
     "data": {
      "text/plain": [
       "429"
      ]
     },
     "execution_count": 63,
     "metadata": {},
     "output_type": "execute_result"
    }
   ],
   "source": [
    "start=2\n",
    "highest_score+cardPoints[start]-cardPoints[start+1]"
   ]
  },
  {
   "cell_type": "code",
   "execution_count": 64,
   "metadata": {},
   "outputs": [
    {
     "data": {
      "text/plain": [
       "513"
      ]
     },
     "execution_count": 64,
     "metadata": {},
     "output_type": "execute_result"
    }
   ],
   "source": [
    "start=3\n",
    "highest_score+cardPoints[start]-cardPoints[start+1]"
   ]
  },
  {
   "cell_type": "code",
   "execution_count": null,
   "metadata": {},
   "outputs": [],
   "source": []
  },
  {
   "cell_type": "code",
   "execution_count": 75,
   "metadata": {},
   "outputs": [
    {
     "name": "stdout",
     "output_type": "stream",
     "text": [
      "470\n",
      "0\n",
      "1\n",
      "476\n",
      "476\n",
      "----\n",
      "1\n",
      "2\n",
      "525\n",
      "525\n",
      "----\n",
      "2\n",
      "3\n",
      "484\n",
      "525\n",
      "----\n",
      "3\n",
      "4\n",
      "527\n",
      "527\n",
      "----\n",
      "4\n",
      "5\n",
      "492\n",
      "527\n",
      "----\n",
      "5\n",
      "6\n",
      "502\n",
      "527\n",
      "----\n",
      "6\n",
      "7\n",
      "516\n",
      "527\n",
      "----\n",
      "7\n",
      "8\n",
      "536\n",
      "536\n",
      "----\n"
     ]
    }
   ],
   "source": [
    "start=0\n",
    "end=len(cardPoints)-k\n",
    "\n",
    "highest_score=0\n",
    "local_score=sum(cardPoints)-sum(cardPoints[start:end])\n",
    "highest_score=max(highest_score, local_score)\n",
    "\n",
    "print(highest_score)\n",
    "\n",
    "while end<len(cardPoints):\n",
    "    \n",
    "    print(start)\n",
    "    print(end)\n",
    "    local_score=local_score+cardPoints[start]-cardPoints[end]\n",
    "    highest_score=max(highest_score, local_score)\n",
    "    print(local_score)\n",
    "    print(highest_score)\n",
    "    print(\"----\")\n",
    "    \n",
    "    start+=1\n",
    "    end+=1"
   ]
  },
  {
   "cell_type": "code",
   "execution_count": 56,
   "metadata": {},
   "outputs": [
    {
     "name": "stdout",
     "output_type": "stream",
     "text": [
      "96\n",
      "0\n",
      "1\n",
      "96\n",
      "215\n",
      "----\n",
      "1\n",
      "2\n",
      "90\n",
      "215\n",
      "----\n",
      "2\n",
      "3\n",
      "41\n",
      "215\n",
      "----\n",
      "3\n",
      "4\n",
      "82\n",
      "215\n",
      "----\n",
      "4\n",
      "5\n",
      "39\n",
      "215\n",
      "----\n",
      "5\n",
      "6\n",
      "74\n",
      "215\n",
      "----\n",
      "6\n",
      "7\n",
      "64\n",
      "215\n",
      "----\n",
      "7\n",
      "8\n",
      "50\n",
      "215\n",
      "----\n"
     ]
    }
   ],
   "source": [
    "#if len(cardPoints)<=k:\n",
    "    #return sum(cardPoints)\n",
    "\n",
    "start=0\n",
    "end=len(cardPoints)-k\n",
    "summe=sum(cardPoints)\n",
    "\n",
    "highest_score=0\n",
    "\n",
    "min_right_now=sum(cardPoints[start:end])\n",
    "local_score=summe-min(min_right_now, temp)\n",
    "highest_score=max(highest_score, local_score)\n",
    "\n",
    "print(min_right_now)\n",
    "print(min_right_now)\n",
    "\n",
    "while end<len(cardPoints):\n",
    "    \n",
    "    print(start)\n",
    "    print(end)\n",
    "    temp=sum(cardPoints[start:end])\n",
    "    print(temp)\n",
    "    local_score=summe-min(min_right_now, temp)\n",
    "    highest_score=max(highest_score, local_score)\n",
    "    print(score)\n",
    "    print(\"----\")\n",
    "    \n",
    "    start+=1\n",
    "    end+=1\n",
    "    \n",
    "#return highest_score\n"
   ]
  },
  {
   "cell_type": "code",
   "execution_count": 61,
   "metadata": {},
   "outputs": [
    {
     "name": "stdout",
     "output_type": "stream",
     "text": [
      "536\n",
      "-50\n",
      "30\n",
      "536\n",
      "----\n",
      "-64\n",
      "50\n",
      "536\n",
      "----\n",
      "-74\n",
      "64\n",
      "536\n",
      "----\n",
      "-39\n",
      "74\n",
      "536\n",
      "----\n",
      "-82\n",
      "39\n",
      "536\n",
      "----\n",
      "-41\n",
      "82\n",
      "536\n",
      "----\n",
      "-90\n",
      "41\n",
      "536\n",
      "----\n",
      "-96\n",
      "90\n",
      "536\n",
      "----\n"
     ]
    }
   ],
   "source": [
    "sumup = sum(cardPoints[:k])\n",
    "res = sumup\n",
    "print(res)\n",
    "       \n",
    "for i in range(k):\n",
    "    print(-cardPoints[k-i-1])\n",
    "    print(cardPoints[-i-1])\n",
    "    sumup+= -cardPoints[k-i-1] + cardPoints[-i-1]\n",
    "    res = max(res, sumup)\n",
    "    print(res)\n",
    "    print(\"----\")"
   ]
  },
  {
   "cell_type": "code",
   "execution_count": null,
   "metadata": {},
   "outputs": [],
   "source": []
  }
 ],
 "metadata": {
  "kernelspec": {
   "display_name": "Python 3",
   "language": "python",
   "name": "python3"
  },
  "language_info": {
   "codemirror_mode": {
    "name": "ipython",
    "version": 3
   },
   "file_extension": ".py",
   "mimetype": "text/x-python",
   "name": "python",
   "nbconvert_exporter": "python",
   "pygments_lexer": "ipython3",
   "version": "3.8.3"
  }
 },
 "nbformat": 4,
 "nbformat_minor": 4
}
