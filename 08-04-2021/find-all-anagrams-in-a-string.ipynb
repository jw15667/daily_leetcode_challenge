{
 "cells": [
  {
   "cell_type": "markdown",
   "metadata": {},
   "source": [
    "438. Find All Anagrams in a String"
   ]
  },
  {
   "cell_type": "markdown",
   "metadata": {},
   "source": [
    "https://leetcode.com/problems/find-all-anagrams-in-a-string/submissions/"
   ]
  },
  {
   "cell_type": "code",
   "execution_count": 34,
   "metadata": {},
   "outputs": [],
   "source": [
    "## first solution"
   ]
  },
  {
   "cell_type": "code",
   "execution_count": 51,
   "metadata": {},
   "outputs": [],
   "source": [
    "s= \"cbaebabacd\"\n",
    "p= sorted(\"abc\")\n",
    "result = ''"
   ]
  },
  {
   "cell_type": "code",
   "execution_count": 37,
   "metadata": {},
   "outputs": [
    {
     "name": "stdout",
     "output_type": "stream",
     "text": [
      "0\n",
      "1\n",
      "2\n"
     ]
    }
   ],
   "source": [
    "for start, x in enumerate(s):\n",
    "    end = start+ len(p)\n",
    "    new_word = s[start:end] \n",
    "    if sorted(new_word) == sorted(p):\n",
    "        print(start)\n",
    "    "
   ]
  },
  {
   "cell_type": "code",
   "execution_count": 54,
   "metadata": {},
   "outputs": [],
   "source": [
    "# second solution"
   ]
  },
  {
   "cell_type": "code",
   "execution_count": 69,
   "metadata": {},
   "outputs": [],
   "source": [
    "s= \"beeaaedcbc\"\n",
    "p= sorted(\"c\")\n",
    "result = ''"
   ]
  },
  {
   "cell_type": "code",
   "execution_count": 70,
   "metadata": {},
   "outputs": [],
   "source": [
    "start = 0\n",
    "window_size=len(p)\n",
    "result = ''"
   ]
  },
  {
   "cell_type": "code",
   "execution_count": 71,
   "metadata": {},
   "outputs": [
    {
     "name": "stdout",
     "output_type": "stream",
     "text": [
      "7\n",
      "9\n"
     ]
    }
   ],
   "source": [
    "while start <= len(s)-window_size:\n",
    "    result = s[start:start+window_size]\n",
    "    if sorted(result) == p:\n",
    "        print(start)\n"
   ]
  },
  {
   "cell_type": "code",
   "execution_count": null,
   "metadata": {},
   "outputs": [],
   "source": [
    "class Solution:\n",
    "    def findAnagrams(self, s: str, p: str) -> List[int]:\n",
    "        start = 0\n",
    "        p = sorted(p)\n",
    "        window_size=len(p)\n",
    "        answer = []\n",
    "        while start <= len(s)-window_size:            \n",
    "            result = sorted(s[start:start+window_size])\n",
    "            if result == p:\n",
    "                answer.append(start)\n",
    "            start+=1\n",
    "        return answer\n",
    "            "
   ]
  },
  {
   "cell_type": "code",
   "execution_count": 72,
   "metadata": {},
   "outputs": [],
   "source": [
    "# leetcode solution"
   ]
  },
  {
   "cell_type": "code",
   "execution_count": 79,
   "metadata": {},
   "outputs": [],
   "source": [
    "s= \"cbaebabacd\"\n",
    "p= sorted(\"abc\")\n",
    "result = ''"
   ]
  },
  {
   "cell_type": "code",
   "execution_count": 82,
   "metadata": {},
   "outputs": [
    {
     "name": "stdout",
     "output_type": "stream",
     "text": [
      "Counter({'c': 1})\n",
      "Counter({'c': 1, 'b': 1})\n",
      "Counter({'c': 1, 'b': 1, 'a': 1})\n",
      "Counter({'c': 1, 'b': 1, 'a': 1, 'e': 1})\n",
      "3\n",
      "deleting\n",
      "Counter({'b': 1, 'a': 1, 'e': 1})\n",
      "Counter({'b': 2, 'a': 1, 'e': 1})\n",
      "4\n",
      "Counter({'a': 2, 'b': 1, 'e': 1})\n",
      "5\n",
      "Counter({'b': 2, 'a': 1, 'e': 1})\n",
      "6\n",
      "deleting\n",
      "Counter({'b': 2, 'a': 1})\n",
      "Counter({'b': 2, 'a': 2})\n",
      "7\n",
      "Counter({'a': 2, 'b': 1, 'c': 1})\n",
      "8\n",
      "Counter({'b': 1, 'a': 1, 'c': 1, 'd': 1})\n",
      "9\n",
      "deleting\n",
      "Counter({'a': 1, 'c': 1, 'd': 1})\n"
     ]
    }
   ],
   "source": [
    "from collections import Counter\n",
    "ns, np = len(s), len(p)\n",
    "if ns < np:\n",
    "    print(0)\n",
    "    \n",
    "p_count = Counter(p)\n",
    "s_count = Counter()\n",
    "\n",
    "output = []\n",
    "# sliding window on the string s\n",
    "for i in range(ns):\n",
    "    # add one more letter \n",
    "    # on the right side of the window\n",
    "    s_count[s[i]] += 1\n",
    "    print(s_count)\n",
    "    # remove one letter \n",
    "    # from the left side of the window\n",
    "    if i >= np:\n",
    "        print(i)\n",
    "        if s_count[s[i - np]] == 1:\n",
    "            del s_count[s[i - np]]\n",
    "        else:\n",
    "            s_count[s[i - np]] -= 1\n",
    "    # compare array in the sliding window\n",
    "    # with the reference array\n",
    "    if p_count == s_count:\n",
    "        output.append(i - np + 1)\n",
    "        \n",
    "#         return output"
   ]
  },
  {
   "cell_type": "code",
   "execution_count": null,
   "metadata": {},
   "outputs": [],
   "source": []
  }
 ],
 "metadata": {
  "kernelspec": {
   "display_name": "Python 3",
   "language": "python",
   "name": "python3"
  },
  "language_info": {
   "codemirror_mode": {
    "name": "ipython",
    "version": 3
   },
   "file_extension": ".py",
   "mimetype": "text/x-python",
   "name": "python",
   "nbconvert_exporter": "python",
   "pygments_lexer": "ipython3",
   "version": "3.8.5"
  }
 },
 "nbformat": 4,
 "nbformat_minor": 4
}
