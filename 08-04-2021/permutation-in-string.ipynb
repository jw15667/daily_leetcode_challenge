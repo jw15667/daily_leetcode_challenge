{
 "cells": [
  {
   "cell_type": "markdown",
   "metadata": {},
   "source": [
    "567. Permutation in String\n"
   ]
  },
  {
   "cell_type": "markdown",
   "metadata": {},
   "source": [
    "https://leetcode.com/problems/permutation-in-string/https://leetcode.com/problems/permutation-in-string/"
   ]
  },
  {
   "cell_type": "code",
   "execution_count": 14,
   "metadata": {},
   "outputs": [],
   "source": [
    "s1 = \"abc\" \n",
    "s2 = \"aaidbaooo\""
   ]
  },
  {
   "cell_type": "code",
   "execution_count": 16,
   "metadata": {},
   "outputs": [
    {
     "name": "stdout",
     "output_type": "stream",
     "text": [
      "Counter({'a': 1, 'i': 1, 'd': 1})\n",
      "Counter({'i': 1, 'd': 1, 'b': 1})\n",
      "Counter({'d': 1, 'b': 1, 'a': 1})\n",
      "Counter({'b': 1, 'a': 1, 'o': 1})\n",
      "Counter({'o': 2, 'a': 1})\n",
      "Counter({'o': 3})\n"
     ]
    }
   ],
   "source": [
    "from collections import Counter\n",
    "\n",
    "n1, n2 = len(s1), len(s2)\n",
    "if n1 > n2:\n",
    "    print(0)\n",
    "s1_count = Counter(s1)\n",
    "s2_count = Counter()\n",
    "\n",
    "answer = []\n",
    "\n",
    "for i in range(n2):\n",
    "    s2_count[s2[i]] += 1\n",
    "    if i >= n1:\n",
    "        if s2_count[s2[i-n1]] ==1:\n",
    "            del s2_count[s2[i-n1]]\n",
    "        else:\n",
    "            s2_count[s2[i-n1]]-=1\n",
    "        print(s2_count)\n",
    "    if s1_count == s2_count:\n",
    "        print('True')\n",
    "        break"
   ]
  },
  {
   "cell_type": "code",
   "execution_count": null,
   "metadata": {},
   "outputs": [],
   "source": []
  }
 ],
 "metadata": {
  "kernelspec": {
   "display_name": "Python 3",
   "language": "python",
   "name": "python3"
  },
  "language_info": {
   "codemirror_mode": {
    "name": "ipython",
    "version": 3
   },
   "file_extension": ".py",
   "mimetype": "text/x-python",
   "name": "python",
   "nbconvert_exporter": "python",
   "pygments_lexer": "ipython3",
   "version": "3.8.5"
  }
 },
 "nbformat": 4,
 "nbformat_minor": 4
}
