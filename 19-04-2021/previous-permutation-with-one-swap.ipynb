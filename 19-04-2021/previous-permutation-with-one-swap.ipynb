{
 "cells": [
  {
   "cell_type": "markdown",
   "metadata": {},
   "source": [
    "# Previous Permutation With One Swap\n"
   ]
  },
  {
   "cell_type": "markdown",
   "metadata": {},
   "source": [
    "https://leetcode.com/problems/previous-permutation-with-one-swap/"
   ]
  },
  {
   "cell_type": "code",
   "execution_count": 141,
   "metadata": {},
   "outputs": [],
   "source": [
    "arr = [1,9,6,7,9,6,4,4,2,2,7,7,7,6,3,5,7,7,3,8,8,4,4,1,5,4,7,4,7,3,7,5,4,1,7,4,9,6,5,9,8,9,9,4,6,6,5,5,7,7,8,1,4,6,4,5,4,4,8,9,5,7,2,4]"
   ]
  },
  {
   "cell_type": "code",
   "execution_count": 140,
   "metadata": {},
   "outputs": [
    {
     "name": "stdout",
     "output_type": "stream",
     "text": [
      "(1, 7, 4, 6, 9)\n"
     ]
    }
   ],
   "source": [
    "from itertools import permutations\n",
    "new_tup = tuple(arr)\n",
    "answers = sorted(set([i for i in (permutations(arr)) if i < new_tup]))\n",
    "for i in answers[::-1]:\n",
    "    total = 0\n",
    "    for a, b in zip(new_tup, i):\n",
    "        if a != b:\n",
    "            total += 1\n",
    "    if total < 3:\n",
    "        print(i)\n",
    "        break"
   ]
  },
  {
   "cell_type": "code",
   "execution_count": 131,
   "metadata": {},
   "outputs": [],
   "source": [
    "i = len(A) - 2\n",
    "while i >= 0 and A[i] <= A[i+1]:\n",
    "    i -= 1\n",
    "if i >= 0:\n",
    "    max_ = i + 1\n",
    "    # max number greater on right that less than A[i]\n",
    "    for j in range(max_ + 1, len(A)):\n",
    "        if A[max_] < A[j] < A[i]: \n",
    "            max_ = j\n",
    "    A[max_], A[i] = A[i], A[max_]\n",
    "return A"
   ]
  },
  {
   "cell_type": "code",
   "execution_count": 31,
   "metadata": {},
   "outputs": [
    {
     "name": "stdout",
     "output_type": "stream",
     "text": [
      "(1, 1, 3, 3)\n",
      "(1, 3, 1, 3)\n",
      "(1, 3, 3, 1)\n",
      "(3, 1, 1, 3)\n",
      "(3, 1, 3, 1)\n",
      "(3, 3, 1, 1)\n"
     ]
    }
   ],
   "source": [
    "from itertools import permutations\n",
    "\n",
    "answer = tuple(arr)\n",
    "x = sorted(set(permutations(arr)))\n",
    "for i, a in enumerate(x):\n",
    "    print(a)\n",
    "#     if a == answer:\n",
    "#         if x[i+1] < answer:\n",
    "#             print(x[i+1])\n",
    "#         else:\n",
    "#             print(answer)\n"
   ]
  },
  {
   "cell_type": "code",
   "execution_count": 34,
   "metadata": {},
   "outputs": [
    {
     "data": {
      "text/plain": [
       "[(1, 1, 3, 3),\n",
       " (1, 3, 1, 3),\n",
       " (1, 3, 3, 1),\n",
       " (3, 1, 1, 3),\n",
       " (3, 1, 3, 1),\n",
       " (3, 3, 1, 1)]"
      ]
     },
     "execution_count": 34,
     "metadata": {},
     "output_type": "execute_result"
    }
   ],
   "source": [
    "[sorted(set(permutations(arr)))][0]"
   ]
  },
  {
   "cell_type": "code",
   "execution_count": 37,
   "metadata": {},
   "outputs": [
    {
     "data": {
      "text/plain": [
       "[(3, 1, 1, 3), (3, 1, 1, 3), (3, 1, 1, 3), (3, 1, 1, 3)]"
      ]
     },
     "execution_count": 37,
     "metadata": {},
     "output_type": "execute_result"
    }
   ],
   "source": [
    "answers"
   ]
  }
 ],
 "metadata": {
  "kernelspec": {
   "display_name": "Python 3",
   "language": "python",
   "name": "python3"
  },
  "language_info": {
   "codemirror_mode": {
    "name": "ipython",
    "version": 3
   },
   "file_extension": ".py",
   "mimetype": "text/x-python",
   "name": "python",
   "nbconvert_exporter": "python",
   "pygments_lexer": "ipython3",
   "version": "3.8.5"
  }
 },
 "nbformat": 4,
 "nbformat_minor": 4
}
