{
 "cells": [
  {
   "cell_type": "markdown",
   "metadata": {},
   "source": [
    "# Previous Permutation With One Swap\n"
   ]
  },
  {
   "cell_type": "markdown",
   "metadata": {},
   "source": [
    "https://leetcode.com/problems/previous-permutation-with-one-swap/"
   ]
  },
  {
   "cell_type": "code",
   "execution_count": 135,
   "metadata": {},
   "outputs": [],
   "source": [
    "arr = [1,9,4,6,7]"
   ]
  },
  {
   "cell_type": "code",
   "execution_count": 140,
   "metadata": {},
   "outputs": [
    {
     "name": "stdout",
     "output_type": "stream",
     "text": [
      "(1, 7, 4, 6, 9)\n"
     ]
    }
   ],
   "source": [
    "from itertools import permutations\n",
    "new_tup = tuple(arr)\n",
    "answers = sorted(set([i for i in (permutations(arr)) if i < new_tup]))\n",
    "for i in answers[::-1]:\n",
    "    total = 0\n",
    "    for a, b in zip(new_tup, i):\n",
    "        if a != b:\n",
    "            total += 1\n",
    "    if total < 3:\n",
    "        print(i)\n",
    "        break"
   ]
  },
  {
   "cell_type": "code",
   "execution_count": 131,
   "metadata": {},
   "outputs": [],
   "source": [
    "#     switch = 0\n",
    "#     answers[i]\n",
    "#     if answers[i] == new_tup:\n",
    "#         print(answers[i])\n",
    "#         for a,b in zip(answers[i+1],arr):\n",
    "#             if a != b:\n",
    "#                 switch +=1\n",
    "#         if switch < 3:\n",
    "#             print(answers[i+1])\n",
    "        \n",
    "# answers = sorted(set(answers))\n",
    "# print(answers)\n",
    "# new_tup = tuple(arr)\n",
    "# for i, a in enumerate(answers):\n",
    "#     if a == new_tup:\n",
    "#         print(answers[i-1])\n",
    "#         break"
   ]
  },
  {
   "cell_type": "code",
   "execution_count": 31,
   "metadata": {},
   "outputs": [
    {
     "name": "stdout",
     "output_type": "stream",
     "text": [
      "(1, 1, 3, 3)\n",
      "(1, 3, 1, 3)\n",
      "(1, 3, 3, 1)\n",
      "(3, 1, 1, 3)\n",
      "(3, 1, 3, 1)\n",
      "(3, 3, 1, 1)\n"
     ]
    }
   ],
   "source": [
    "from itertools import permutations\n",
    "\n",
    "answer = tuple(arr)\n",
    "x = sorted(set(permutations(arr)))\n",
    "for i, a in enumerate(x):\n",
    "    print(a)\n",
    "#     if a == answer:\n",
    "#         if x[i+1] < answer:\n",
    "#             print(x[i+1])\n",
    "#         else:\n",
    "#             print(answer)\n"
   ]
  },
  {
   "cell_type": "code",
   "execution_count": 34,
   "metadata": {},
   "outputs": [
    {
     "data": {
      "text/plain": [
       "[(1, 1, 3, 3),\n",
       " (1, 3, 1, 3),\n",
       " (1, 3, 3, 1),\n",
       " (3, 1, 1, 3),\n",
       " (3, 1, 3, 1),\n",
       " (3, 3, 1, 1)]"
      ]
     },
     "execution_count": 34,
     "metadata": {},
     "output_type": "execute_result"
    }
   ],
   "source": [
    "[sorted(set(permutations(arr)))][0]"
   ]
  },
  {
   "cell_type": "code",
   "execution_count": 37,
   "metadata": {},
   "outputs": [
    {
     "data": {
      "text/plain": [
       "[(3, 1, 1, 3), (3, 1, 1, 3), (3, 1, 1, 3), (3, 1, 1, 3)]"
      ]
     },
     "execution_count": 37,
     "metadata": {},
     "output_type": "execute_result"
    }
   ],
   "source": [
    "answers"
   ]
  }
 ],
 "metadata": {
  "kernelspec": {
   "display_name": "Python 3",
   "language": "python",
   "name": "python3"
  },
  "language_info": {
   "codemirror_mode": {
    "name": "ipython",
    "version": 3
   },
   "file_extension": ".py",
   "mimetype": "text/x-python",
   "name": "python",
   "nbconvert_exporter": "python",
   "pygments_lexer": "ipython3",
   "version": "3.8.5"
  }
 },
 "nbformat": 4,
 "nbformat_minor": 4
}
