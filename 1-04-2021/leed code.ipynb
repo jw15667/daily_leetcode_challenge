{
 "cells": [
  {
   "cell_type": "markdown",
   "metadata": {},
   "source": [
    "# 2021-03-22"
   ]
  },
  {
   "cell_type": "code",
   "execution_count": 4,
   "metadata": {},
   "outputs": [],
   "source": [
    "import pandas as pd\n",
    "import re"
   ]
  },
  {
   "cell_type": "code",
   "execution_count": 17,
   "metadata": {},
   "outputs": [],
   "source": [
    "s=\"Let's take LeetCode contest\"\n",
    "s_new=s.split(\" \")\n",
    "#str(s_new)"
   ]
  },
  {
   "cell_type": "code",
   "execution_count": 18,
   "metadata": {},
   "outputs": [
    {
     "data": {
      "text/plain": [
       "5"
      ]
     },
     "execution_count": 18,
     "metadata": {},
     "output_type": "execute_result"
    }
   ],
   "source": [
    "len(s_new[0])"
   ]
  },
  {
   "cell_type": "code",
   "execution_count": 64,
   "metadata": {},
   "outputs": [
    {
     "data": {
      "text/plain": [
       "4"
      ]
     },
     "execution_count": 64,
     "metadata": {},
     "output_type": "execute_result"
    }
   ],
   "source": [
    "len(s_new)"
   ]
  },
  {
   "cell_type": "code",
   "execution_count": 65,
   "metadata": {},
   "outputs": [
    {
     "name": "stdout",
     "output_type": "stream",
     "text": [
      "i 0\n",
      "Let's\n",
      "s'teL\n",
      "i 1\n",
      "take\n",
      "ekat\n",
      "i 2\n",
      "LeetCode\n",
      "edoCteeL\n",
      "i 3\n",
      "contest\n",
      "tsetnoc\n",
      "s'teL ekat edoCteeL tsetnoc\n"
     ]
    },
    {
     "data": {
      "text/plain": [
       "str"
      ]
     },
     "execution_count": 65,
     "metadata": {},
     "output_type": "execute_result"
    }
   ],
   "source": [
    "s_new=s.split(\" \")\n",
    "out=\"\"\n",
    "for i in range(len(s_new)):\n",
    "    print(\"i\",i)\n",
    "    print(s_new[i])\n",
    "    test=s_new[i][len(s_new[i])::-1]\n",
    "    print(test)\n",
    "    out+=str(test)\n",
    "    #print(out)\n",
    "    if i < len(s_new)-1:\n",
    "        out+=\" \"\n",
    "    else:\n",
    "        continue\n",
    "        \n",
    "print(out)\n",
    "type(out)"
   ]
  },
  {
   "cell_type": "code",
   "execution_count": 45,
   "metadata": {},
   "outputs": [
    {
     "data": {
      "text/plain": [
       "11"
      ]
     },
     "execution_count": 45,
     "metadata": {},
     "output_type": "execute_result"
    }
   ],
   "source": [
    "len(arr1)"
   ]
  },
  {
   "cell_type": "code",
   "execution_count": 85,
   "metadata": {},
   "outputs": [
    {
     "name": "stdout",
     "output_type": "stream",
     "text": [
      "first list [2]\n",
      "first list [2, 2]\n",
      "first list [2, 2, 2]\n",
      "append list [2]\n",
      "first list [2, 2, 2, 1]\n",
      "append list [2, 1]\n",
      "first list [2, 2, 2, 1, 4]\n",
      "append list [2, 1, 4]\n",
      "first list [2, 2, 2, 1, 4, 3]\n",
      "first list [2, 2, 2, 1, 4, 3, 3]\n",
      "append list [2, 1, 4, 3]\n",
      "first list [2, 2, 2, 1, 4, 3, 3, 9]\n",
      "append list [2, 1, 4, 3, 9]\n",
      "first list [2, 2, 2, 1, 4, 3, 3, 9, 6]\n",
      "append list [2, 1, 4, 3, 9, 6]\n",
      "final [2, 2, 2, 1, 4, 3, 3, 9, 6, 1, 2, 3, 4, 6, 9]\n"
     ]
    }
   ],
   "source": [
    "first_list=[]\n",
    "app_list=[]\n",
    "\n",
    "for num in arr2:\n",
    "    #print(num)\n",
    "    for j in range(len(arr1)):\n",
    "        #print(arr1[j])\n",
    "        if num==arr1[j]:\n",
    "        #if num-arr1[j]==0:\n",
    "            #print(\"yes\")\n",
    "            first_list.append(arr1[j])\n",
    "            print(\"first list\", first_list)\n",
    "        else:\n",
    "            continue\n",
    "            \n",
    "if num not in first_list:\n",
    "    continue\n",
    "else:\n",
    "    app_list.append(num)\n",
    "    print(\"append list\", app_list)\n",
    "\n",
    "app_list=sorted(app_list)\n",
    "out=first_list+app_list\n",
    "print(\"final\",out)"
   ]
  },
  {
   "cell_type": "code",
   "execution_count": 44,
   "metadata": {},
   "outputs": [],
   "source": [
    "arr1 = [2,3,1,3,2,4,6,7,9,2,19]\n",
    "arr2 = [2,1,4,3,9,6]"
   ]
  },
  {
   "cell_type": "code",
   "execution_count": 93,
   "metadata": {},
   "outputs": [
    {
     "name": "stdout",
     "output_type": "stream",
     "text": [
      "key:  2\n",
      "value:  0\n",
      "key:  1\n",
      "value:  1\n",
      "key:  4\n",
      "value:  2\n",
      "key:  3\n",
      "value:  3\n",
      "key:  9\n",
      "value:  4\n",
      "key:  6\n",
      "value:  5\n",
      "[2, 2, 2, 1, 4, 3, 3, 9, 6, 7, 19]\n"
     ]
    }
   ],
   "source": [
    "d = {}\n",
    "for i, num in enumerate(arr2):\n",
    "    print(\"key: \",num)\n",
    "    d[num] = i\n",
    "    print(\"value: \",d[num])\n",
    "front = [num for num in arr1 if num in d]\n",
    "end = [num for num in arr1 if num not in d]\n",
    "print(sorted(front, key=lambda x: d[x]) + sorted(end))\n"
   ]
  },
  {
   "cell_type": "code",
   "execution_count": 92,
   "metadata": {},
   "outputs": [
    {
     "data": {
      "text/plain": [
       "True"
      ]
     },
     "execution_count": 92,
     "metadata": {},
     "output_type": "execute_result"
    }
   ],
   "source": [
    "9 in d"
   ]
  },
  {
   "cell_type": "code",
   "execution_count": 94,
   "metadata": {},
   "outputs": [
    {
     "data": {
      "text/plain": [
       "4"
      ]
     },
     "execution_count": 94,
     "metadata": {},
     "output_type": "execute_result"
    }
   ],
   "source": [
    "d[9]"
   ]
  },
  {
   "cell_type": "code",
   "execution_count": 57,
   "metadata": {},
   "outputs": [
    {
     "name": "stdout",
     "output_type": "stream",
     "text": [
      "2\n",
      "yes\n",
      "1\n",
      "yes\n",
      "4\n",
      "yes\n",
      "3\n",
      "yes\n",
      "9\n",
      "yes\n",
      "6\n",
      "yes\n"
     ]
    }
   ],
   "source": [
    "for num in arr2:\n",
    "    print(num)\n",
    "    if num in arr1:\n",
    "        print(\"yes\")"
   ]
  },
  {
   "cell_type": "code",
   "execution_count": 54,
   "metadata": {},
   "outputs": [
    {
     "ename": "SyntaxError",
     "evalue": "invalid syntax (<ipython-input-54-d9c054673685>, line 5)",
     "output_type": "error",
     "traceback": [
      "\u001b[0;36m  File \u001b[0;32m\"<ipython-input-54-d9c054673685>\"\u001b[0;36m, line \u001b[0;32m5\u001b[0m\n\u001b[0;31m    first_list.append(arr1[j] if num==arr1[j] else continue for j in range(len(arr1)))\u001b[0m\n\u001b[0m                                                   ^\u001b[0m\n\u001b[0;31mSyntaxError\u001b[0m\u001b[0;31m:\u001b[0m invalid syntax\n"
     ]
    }
   ],
   "source": [
    "first_list=[]\n",
    "app_list=[]\n",
    "\n",
    "for num in arr2:\n",
    "    first_list.append(arr1[j] if num==arr1[j] else continue for j in range(len(arr1)))\n",
    "    print(\"first list\", first_list)"
   ]
  },
  {
   "cell_type": "code",
   "execution_count": null,
   "metadata": {},
   "outputs": [],
   "source": []
  },
  {
   "cell_type": "code",
   "execution_count": 47,
   "metadata": {
    "scrolled": true
   },
   "outputs": [
    {
     "name": "stdout",
     "output_type": "stream",
     "text": [
      "[2]\n",
      "[3]\n",
      "[3, 1]\n",
      "[3, 1, 3]\n",
      "[2, 2]\n",
      "[3, 1, 3, 4]\n",
      "[3, 1, 3, 4, 6]\n",
      "[3, 1, 3, 4, 6, 7]\n",
      "[3, 1, 3, 4, 6, 7, 9]\n",
      "[2, 2, 2]\n",
      "[3, 1, 3, 4, 6, 7, 9, 19]\n",
      "[3, 1, 3, 4, 6, 7, 9, 19, 2]\n",
      "[3, 1, 3, 4, 6, 7, 9, 19, 2, 3]\n",
      "[2, 2, 2, 1]\n",
      "[3, 1, 3, 4, 6, 7, 9, 19, 2, 3, 3]\n",
      "[3, 1, 3, 4, 6, 7, 9, 19, 2, 3, 3, 2]\n",
      "[3, 1, 3, 4, 6, 7, 9, 19, 2, 3, 3, 2, 4]\n",
      "[3, 1, 3, 4, 6, 7, 9, 19, 2, 3, 3, 2, 4, 6]\n",
      "[3, 1, 3, 4, 6, 7, 9, 19, 2, 3, 3, 2, 4, 6, 7]\n",
      "[3, 1, 3, 4, 6, 7, 9, 19, 2, 3, 3, 2, 4, 6, 7, 9]\n",
      "[3, 1, 3, 4, 6, 7, 9, 19, 2, 3, 3, 2, 4, 6, 7, 9, 2]\n",
      "[3, 1, 3, 4, 6, 7, 9, 19, 2, 3, 3, 2, 4, 6, 7, 9, 2, 19]\n",
      "[3, 1, 3, 4, 6, 7, 9, 19, 2, 3, 3, 2, 4, 6, 7, 9, 2, 19, 2]\n",
      "[3, 1, 3, 4, 6, 7, 9, 19, 2, 3, 3, 2, 4, 6, 7, 9, 2, 19, 2, 3]\n",
      "[3, 1, 3, 4, 6, 7, 9, 19, 2, 3, 3, 2, 4, 6, 7, 9, 2, 19, 2, 3, 1]\n",
      "[3, 1, 3, 4, 6, 7, 9, 19, 2, 3, 3, 2, 4, 6, 7, 9, 2, 19, 2, 3, 1, 3]\n",
      "[3, 1, 3, 4, 6, 7, 9, 19, 2, 3, 3, 2, 4, 6, 7, 9, 2, 19, 2, 3, 1, 3, 2]\n",
      "[2, 2, 2, 1, 4]\n",
      "[3, 1, 3, 4, 6, 7, 9, 19, 2, 3, 3, 2, 4, 6, 7, 9, 2, 19, 2, 3, 1, 3, 2, 6]\n",
      "[3, 1, 3, 4, 6, 7, 9, 19, 2, 3, 3, 2, 4, 6, 7, 9, 2, 19, 2, 3, 1, 3, 2, 6, 7]\n",
      "[3, 1, 3, 4, 6, 7, 9, 19, 2, 3, 3, 2, 4, 6, 7, 9, 2, 19, 2, 3, 1, 3, 2, 6, 7, 9]\n",
      "[3, 1, 3, 4, 6, 7, 9, 19, 2, 3, 3, 2, 4, 6, 7, 9, 2, 19, 2, 3, 1, 3, 2, 6, 7, 9, 2]\n",
      "[3, 1, 3, 4, 6, 7, 9, 19, 2, 3, 3, 2, 4, 6, 7, 9, 2, 19, 2, 3, 1, 3, 2, 6, 7, 9, 2, 19]\n",
      "[3, 1, 3, 4, 6, 7, 9, 19, 2, 3, 3, 2, 4, 6, 7, 9, 2, 19, 2, 3, 1, 3, 2, 6, 7, 9, 2, 19, 2]\n",
      "[2, 2, 2, 1, 4, 3]\n",
      "[3, 1, 3, 4, 6, 7, 9, 19, 2, 3, 3, 2, 4, 6, 7, 9, 2, 19, 2, 3, 1, 3, 2, 6, 7, 9, 2, 19, 2, 1]\n",
      "[2, 2, 2, 1, 4, 3, 3]\n",
      "[3, 1, 3, 4, 6, 7, 9, 19, 2, 3, 3, 2, 4, 6, 7, 9, 2, 19, 2, 3, 1, 3, 2, 6, 7, 9, 2, 19, 2, 1, 2]\n",
      "[3, 1, 3, 4, 6, 7, 9, 19, 2, 3, 3, 2, 4, 6, 7, 9, 2, 19, 2, 3, 1, 3, 2, 6, 7, 9, 2, 19, 2, 1, 2, 4]\n",
      "[3, 1, 3, 4, 6, 7, 9, 19, 2, 3, 3, 2, 4, 6, 7, 9, 2, 19, 2, 3, 1, 3, 2, 6, 7, 9, 2, 19, 2, 1, 2, 4, 6]\n",
      "[3, 1, 3, 4, 6, 7, 9, 19, 2, 3, 3, 2, 4, 6, 7, 9, 2, 19, 2, 3, 1, 3, 2, 6, 7, 9, 2, 19, 2, 1, 2, 4, 6, 7]\n",
      "[3, 1, 3, 4, 6, 7, 9, 19, 2, 3, 3, 2, 4, 6, 7, 9, 2, 19, 2, 3, 1, 3, 2, 6, 7, 9, 2, 19, 2, 1, 2, 4, 6, 7, 9]\n",
      "[3, 1, 3, 4, 6, 7, 9, 19, 2, 3, 3, 2, 4, 6, 7, 9, 2, 19, 2, 3, 1, 3, 2, 6, 7, 9, 2, 19, 2, 1, 2, 4, 6, 7, 9, 2]\n",
      "[3, 1, 3, 4, 6, 7, 9, 19, 2, 3, 3, 2, 4, 6, 7, 9, 2, 19, 2, 3, 1, 3, 2, 6, 7, 9, 2, 19, 2, 1, 2, 4, 6, 7, 9, 2, 19]\n",
      "[3, 1, 3, 4, 6, 7, 9, 19, 2, 3, 3, 2, 4, 6, 7, 9, 2, 19, 2, 3, 1, 3, 2, 6, 7, 9, 2, 19, 2, 1, 2, 4, 6, 7, 9, 2, 19, 2]\n",
      "[3, 1, 3, 4, 6, 7, 9, 19, 2, 3, 3, 2, 4, 6, 7, 9, 2, 19, 2, 3, 1, 3, 2, 6, 7, 9, 2, 19, 2, 1, 2, 4, 6, 7, 9, 2, 19, 2, 3]\n",
      "[3, 1, 3, 4, 6, 7, 9, 19, 2, 3, 3, 2, 4, 6, 7, 9, 2, 19, 2, 3, 1, 3, 2, 6, 7, 9, 2, 19, 2, 1, 2, 4, 6, 7, 9, 2, 19, 2, 3, 1]\n",
      "[3, 1, 3, 4, 6, 7, 9, 19, 2, 3, 3, 2, 4, 6, 7, 9, 2, 19, 2, 3, 1, 3, 2, 6, 7, 9, 2, 19, 2, 1, 2, 4, 6, 7, 9, 2, 19, 2, 3, 1, 3]\n",
      "[3, 1, 3, 4, 6, 7, 9, 19, 2, 3, 3, 2, 4, 6, 7, 9, 2, 19, 2, 3, 1, 3, 2, 6, 7, 9, 2, 19, 2, 1, 2, 4, 6, 7, 9, 2, 19, 2, 3, 1, 3, 2]\n",
      "[3, 1, 3, 4, 6, 7, 9, 19, 2, 3, 3, 2, 4, 6, 7, 9, 2, 19, 2, 3, 1, 3, 2, 6, 7, 9, 2, 19, 2, 1, 2, 4, 6, 7, 9, 2, 19, 2, 3, 1, 3, 2, 4]\n",
      "[3, 1, 3, 4, 6, 7, 9, 19, 2, 3, 3, 2, 4, 6, 7, 9, 2, 19, 2, 3, 1, 3, 2, 6, 7, 9, 2, 19, 2, 1, 2, 4, 6, 7, 9, 2, 19, 2, 3, 1, 3, 2, 4, 6]\n",
      "[3, 1, 3, 4, 6, 7, 9, 19, 2, 3, 3, 2, 4, 6, 7, 9, 2, 19, 2, 3, 1, 3, 2, 6, 7, 9, 2, 19, 2, 1, 2, 4, 6, 7, 9, 2, 19, 2, 3, 1, 3, 2, 4, 6, 7]\n",
      "[2, 2, 2, 1, 4, 3, 3, 9]\n",
      "[3, 1, 3, 4, 6, 7, 9, 19, 2, 3, 3, 2, 4, 6, 7, 9, 2, 19, 2, 3, 1, 3, 2, 6, 7, 9, 2, 19, 2, 1, 2, 4, 6, 7, 9, 2, 19, 2, 3, 1, 3, 2, 4, 6, 7, 2]\n",
      "[3, 1, 3, 4, 6, 7, 9, 19, 2, 3, 3, 2, 4, 6, 7, 9, 2, 19, 2, 3, 1, 3, 2, 6, 7, 9, 2, 19, 2, 1, 2, 4, 6, 7, 9, 2, 19, 2, 3, 1, 3, 2, 4, 6, 7, 2, 19]\n",
      "[3, 1, 3, 4, 6, 7, 9, 19, 2, 3, 3, 2, 4, 6, 7, 9, 2, 19, 2, 3, 1, 3, 2, 6, 7, 9, 2, 19, 2, 1, 2, 4, 6, 7, 9, 2, 19, 2, 3, 1, 3, 2, 4, 6, 7, 2, 19, 2]\n",
      "[3, 1, 3, 4, 6, 7, 9, 19, 2, 3, 3, 2, 4, 6, 7, 9, 2, 19, 2, 3, 1, 3, 2, 6, 7, 9, 2, 19, 2, 1, 2, 4, 6, 7, 9, 2, 19, 2, 3, 1, 3, 2, 4, 6, 7, 2, 19, 2, 3]\n",
      "[3, 1, 3, 4, 6, 7, 9, 19, 2, 3, 3, 2, 4, 6, 7, 9, 2, 19, 2, 3, 1, 3, 2, 6, 7, 9, 2, 19, 2, 1, 2, 4, 6, 7, 9, 2, 19, 2, 3, 1, 3, 2, 4, 6, 7, 2, 19, 2, 3, 1]\n",
      "[3, 1, 3, 4, 6, 7, 9, 19, 2, 3, 3, 2, 4, 6, 7, 9, 2, 19, 2, 3, 1, 3, 2, 6, 7, 9, 2, 19, 2, 1, 2, 4, 6, 7, 9, 2, 19, 2, 3, 1, 3, 2, 4, 6, 7, 2, 19, 2, 3, 1, 3]\n",
      "[3, 1, 3, 4, 6, 7, 9, 19, 2, 3, 3, 2, 4, 6, 7, 9, 2, 19, 2, 3, 1, 3, 2, 6, 7, 9, 2, 19, 2, 1, 2, 4, 6, 7, 9, 2, 19, 2, 3, 1, 3, 2, 4, 6, 7, 2, 19, 2, 3, 1, 3, 2]\n",
      "[3, 1, 3, 4, 6, 7, 9, 19, 2, 3, 3, 2, 4, 6, 7, 9, 2, 19, 2, 3, 1, 3, 2, 6, 7, 9, 2, 19, 2, 1, 2, 4, 6, 7, 9, 2, 19, 2, 3, 1, 3, 2, 4, 6, 7, 2, 19, 2, 3, 1, 3, 2, 4]\n",
      "[2, 2, 2, 1, 4, 3, 3, 9, 6]\n",
      "[3, 1, 3, 4, 6, 7, 9, 19, 2, 3, 3, 2, 4, 6, 7, 9, 2, 19, 2, 3, 1, 3, 2, 6, 7, 9, 2, 19, 2, 1, 2, 4, 6, 7, 9, 2, 19, 2, 3, 1, 3, 2, 4, 6, 7, 2, 19, 2, 3, 1, 3, 2, 4, 7]\n",
      "[3, 1, 3, 4, 6, 7, 9, 19, 2, 3, 3, 2, 4, 6, 7, 9, 2, 19, 2, 3, 1, 3, 2, 6, 7, 9, 2, 19, 2, 1, 2, 4, 6, 7, 9, 2, 19, 2, 3, 1, 3, 2, 4, 6, 7, 2, 19, 2, 3, 1, 3, 2, 4, 7, 9]\n",
      "[3, 1, 3, 4, 6, 7, 9, 19, 2, 3, 3, 2, 4, 6, 7, 9, 2, 19, 2, 3, 1, 3, 2, 6, 7, 9, 2, 19, 2, 1, 2, 4, 6, 7, 9, 2, 19, 2, 3, 1, 3, 2, 4, 6, 7, 2, 19, 2, 3, 1, 3, 2, 4, 7, 9, 2]\n",
      "[3, 1, 3, 4, 6, 7, 9, 19, 2, 3, 3, 2, 4, 6, 7, 9, 2, 19, 2, 3, 1, 3, 2, 6, 7, 9, 2, 19, 2, 1, 2, 4, 6, 7, 9, 2, 19, 2, 3, 1, 3, 2, 4, 6, 7, 2, 19, 2, 3, 1, 3, 2, 4, 7, 9, 2, 19]\n"
     ]
    }
   ],
   "source": [
    "first_list=[]\n",
    "app_list=[]\n",
    "\n",
    "for j in range(len(arr2)):\n",
    "    #print(\"j\",j)\n",
    "    for i in range(len(arr1)):\n",
    "        #print(\"i\",i)\n",
    "        if arr1[i]-arr2[j]==0:\n",
    "            first_list.append(arr1[i])\n",
    "            print(first_list)\n",
    "        else:\n",
    "            app_list.append(arr1[i])\n",
    "            print(app_list)"
   ]
  },
  {
   "cell_type": "code",
   "execution_count": null,
   "metadata": {},
   "outputs": [],
   "source": [
    "first_list"
   ]
  },
  {
   "cell_type": "code",
   "execution_count": 29,
   "metadata": {},
   "outputs": [
    {
     "ename": "SyntaxError",
     "evalue": "invalid syntax (<ipython-input-29-c9a0e577f4e9>, line 5)",
     "output_type": "error",
     "traceback": [
      "\u001b[0;36m  File \u001b[0;32m\"<ipython-input-29-c9a0e577f4e9>\"\u001b[0;36m, line \u001b[0;32m5\u001b[0m\n\u001b[0;31m    first_list=[arr1[j] for j in range(len(arr1)) if arr2[i]-arr2[j]==0 else continue]\u001b[0m\n\u001b[0m                                                                        ^\u001b[0m\n\u001b[0;31mSyntaxError\u001b[0m\u001b[0;31m:\u001b[0m invalid syntax\n"
     ]
    }
   ],
   "source": [
    "first_list=[]\n",
    "app_list=[]\n",
    "\n",
    "for i in range(len(arr2)):\n",
    "    first_list=[arr1[j] for j in range(len(arr1)) if arr2[i]-arr2[j]==0 else continue]\n",
    "\n",
    "first_list\n"
   ]
  },
  {
   "cell_type": "code",
   "execution_count": null,
   "metadata": {},
   "outputs": [],
   "source": [
    "d = {}\n",
    "for i, num in enumerate(arr2):\n",
    "    d[num] = i\n",
    "front = [num for num in arr1 if num in d]\n",
    "end = [num for num in arr1 if num not in d]\n",
    "sorted(front, key=lambda x: d[x]) + sorted(end)"
   ]
  },
  {
   "cell_type": "markdown",
   "metadata": {},
   "source": [
    "## 2021-03-2021"
   ]
  },
  {
   "cell_type": "code",
   "execution_count": 95,
   "metadata": {},
   "outputs": [],
   "source": [
    "s = [\"h\",\"e\",\"l\",\"l\",\"o\"]"
   ]
  },
  {
   "cell_type": "code",
   "execution_count": 98,
   "metadata": {},
   "outputs": [
    {
     "data": {
      "text/plain": [
       "['h', 'e', 'l', 'l', 'o']"
      ]
     },
     "execution_count": 98,
     "metadata": {},
     "output_type": "execute_result"
    }
   ],
   "source": [
    "s[:]=s[len(s)::-1]"
   ]
  },
  {
   "cell_type": "code",
   "execution_count": 97,
   "metadata": {},
   "outputs": [
    {
     "data": {
      "text/plain": [
       "['o', 'l', 'l', 'e', 'h']"
      ]
     },
     "execution_count": 97,
     "metadata": {},
     "output_type": "execute_result"
    }
   ],
   "source": [
    "s"
   ]
  },
  {
   "cell_type": "code",
   "execution_count": 174,
   "metadata": {},
   "outputs": [],
   "source": [
    "paragraph = \"Bob hit a ball, the hit BALL flew far after it was hit.\"\n",
    "banned = [\"hit\"]"
   ]
  },
  {
   "cell_type": "code",
   "execution_count": 149,
   "metadata": {},
   "outputs": [],
   "source": [
    "#paragraph=\"a, a, a, a, b,b,b,c, c\""
   ]
  },
  {
   "cell_type": "code",
   "execution_count": null,
   "metadata": {},
   "outputs": [],
   "source": []
  },
  {
   "cell_type": "code",
   "execution_count": 175,
   "metadata": {},
   "outputs": [],
   "source": [
    "d={}\n",
    "l=[]\n",
    "l=re.sub(\"[^a-zA-Z]+\", \" \", paragraph).lower().split(\" \")\n",
    "#l\n",
    "#l=[re.sub(\"[^a-zA-Z]\",\"\", x).lower() for x in l]"
   ]
  },
  {
   "cell_type": "code",
   "execution_count": 176,
   "metadata": {},
   "outputs": [],
   "source": [
    "for word in l:\n",
    "    if word in d:\n",
    "        d[word]+=1\n",
    "    else:\n",
    "        d[word]=1"
   ]
  },
  {
   "cell_type": "code",
   "execution_count": 177,
   "metadata": {},
   "outputs": [
    {
     "data": {
      "text/plain": [
       "{'bob': 1,\n",
       " 'a': 1,\n",
       " 'ball': 2,\n",
       " 'the': 1,\n",
       " 'flew': 1,\n",
       " 'far': 1,\n",
       " 'after': 1,\n",
       " 'it': 1,\n",
       " 'was': 1,\n",
       " '': 1}"
      ]
     },
     "execution_count": 177,
     "metadata": {},
     "output_type": "execute_result"
    }
   ],
   "source": [
    "for i in range(len(banned)):\n",
    "    d.pop(banned[i])\n",
    "    \n",
    "d"
   ]
  },
  {
   "cell_type": "code",
   "execution_count": 178,
   "metadata": {},
   "outputs": [
    {
     "data": {
      "text/plain": [
       "'ball'"
      ]
     },
     "execution_count": 178,
     "metadata": {},
     "output_type": "execute_result"
    }
   ],
   "source": [
    "d = sorted(d.items(), key=lambda x: x[1], reverse=True)\n",
    "d[0][0]"
   ]
  },
  {
   "cell_type": "markdown",
   "metadata": {},
   "source": [
    "## 2021-04-24"
   ]
  },
  {
   "cell_type": "code",
   "execution_count": 205,
   "metadata": {},
   "outputs": [],
   "source": [
    "s=\"abac\""
   ]
  },
  {
   "cell_type": "code",
   "execution_count": 196,
   "metadata": {},
   "outputs": [
    {
     "data": {
      "text/plain": [
       "'aba'"
      ]
     },
     "execution_count": 196,
     "metadata": {},
     "output_type": "execute_result"
    }
   ],
   "source": [
    "s[:]"
   ]
  },
  {
   "cell_type": "code",
   "execution_count": 204,
   "metadata": {},
   "outputs": [
    {
     "name": "stdout",
     "output_type": "stream",
     "text": [
      "[True]\n",
      "[True, True]\n",
      "[True, True, True]\n"
     ]
    },
    {
     "ename": "IndexError",
     "evalue": "string index out of range",
     "output_type": "error",
     "traceback": [
      "\u001b[0;31m---------------------------------------------------------------------------\u001b[0m",
      "\u001b[0;31mIndexError\u001b[0m                                Traceback (most recent call last)",
      "\u001b[0;32m<ipython-input-204-480a482383fc>\u001b[0m in \u001b[0;36m<module>\u001b[0;34m\u001b[0m\n\u001b[1;32m      6\u001b[0m         \u001b[0mprint\u001b[0m\u001b[0;34m(\u001b[0m\u001b[0mcheck_list\u001b[0m\u001b[0;34m)\u001b[0m\u001b[0;34m\u001b[0m\u001b[0;34m\u001b[0m\u001b[0m\n\u001b[1;32m      7\u001b[0m     \u001b[0;32melif\u001b[0m \u001b[0ms\u001b[0m\u001b[0;34m[\u001b[0m\u001b[0mi\u001b[0m\u001b[0;34m]\u001b[0m\u001b[0;34m!=\u001b[0m\u001b[0ms\u001b[0m\u001b[0;34m[\u001b[0m\u001b[0;34m-\u001b[0m\u001b[0mi\u001b[0m\u001b[0;34m-\u001b[0m\u001b[0;36m1\u001b[0m\u001b[0;34m]\u001b[0m\u001b[0;34m:\u001b[0m\u001b[0;34m\u001b[0m\u001b[0;34m\u001b[0m\u001b[0m\n\u001b[0;32m----> 8\u001b[0;31m         \u001b[0;32mif\u001b[0m \u001b[0ms\u001b[0m\u001b[0;34m[\u001b[0m\u001b[0mi\u001b[0m\u001b[0;34m]\u001b[0m\u001b[0;34m==\u001b[0m\u001b[0ms\u001b[0m\u001b[0;34m[\u001b[0m\u001b[0;34m-\u001b[0m\u001b[0mi\u001b[0m\u001b[0;34m-\u001b[0m\u001b[0;36m2\u001b[0m\u001b[0;34m]\u001b[0m\u001b[0;34m:\u001b[0m\u001b[0;34m\u001b[0m\u001b[0;34m\u001b[0m\u001b[0m\n\u001b[0m\u001b[1;32m      9\u001b[0m             \u001b[0mout\u001b[0m\u001b[0;34m=\u001b[0m\u001b[0;32mTrue\u001b[0m\u001b[0;34m\u001b[0m\u001b[0;34m\u001b[0m\u001b[0m\n\u001b[1;32m     10\u001b[0m             \u001b[0mcheck_list\u001b[0m\u001b[0;34m.\u001b[0m\u001b[0mappend\u001b[0m\u001b[0;34m(\u001b[0m\u001b[0mout\u001b[0m\u001b[0;34m)\u001b[0m\u001b[0;34m\u001b[0m\u001b[0;34m\u001b[0m\u001b[0m\n",
      "\u001b[0;31mIndexError\u001b[0m: string index out of range"
     ]
    }
   ],
   "source": [
    "check_list=[]\n",
    "for i in range(len(s)):\n",
    "    if s[i]==s[-i-1]:\n",
    "        out=True\n",
    "        check_list.append(out)\n",
    "        print(check_list)\n",
    "    elif s[i]!=s[-i-1]:\n",
    "        if s[i]==s[-i-2]:\n",
    "            out=True\n",
    "            check_list.append(out)\n",
    "            print(check_list)\n",
    "        elif s[i]!=s[-i-2]:\n",
    "            out=False\n",
    "            check_list.append(out)\n",
    "            print(check_list)"
   ]
  },
  {
   "cell_type": "code",
   "execution_count": 213,
   "metadata": {},
   "outputs": [
    {
     "data": {
      "text/plain": [
       "'bac'"
      ]
     },
     "execution_count": 213,
     "metadata": {},
     "output_type": "execute_result"
    }
   ],
   "source": [
    "#s[:i-2]+s[i-1:]\n",
    "s[:0] + s[0+1:]"
   ]
  },
  {
   "cell_type": "code",
   "execution_count": 214,
   "metadata": {},
   "outputs": [
    {
     "data": {
      "text/plain": [
       "'aac'"
      ]
     },
     "execution_count": 214,
     "metadata": {},
     "output_type": "execute_result"
    }
   ],
   "source": [
    "s[:1] + s[1+1:]"
   ]
  },
  {
   "cell_type": "code",
   "execution_count": 215,
   "metadata": {},
   "outputs": [
    {
     "data": {
      "text/plain": [
       "'abc'"
      ]
     },
     "execution_count": 215,
     "metadata": {},
     "output_type": "execute_result"
    }
   ],
   "source": [
    "s[:2] + s[2+1:]"
   ]
  },
  {
   "cell_type": "code",
   "execution_count": 216,
   "metadata": {},
   "outputs": [
    {
     "data": {
      "text/plain": [
       "'aba'"
      ]
     },
     "execution_count": 216,
     "metadata": {},
     "output_type": "execute_result"
    }
   ],
   "source": [
    "s[:3] + s[3+1:]"
   ]
  },
  {
   "cell_type": "code",
   "execution_count": 226,
   "metadata": {},
   "outputs": [],
   "source": [
    "s=\"lagerrfegal\""
   ]
  },
  {
   "cell_type": "code",
   "execution_count": 229,
   "metadata": {},
   "outputs": [
    {
     "name": "stdout",
     "output_type": "stream",
     "text": [
      "i:  0\n",
      "i:  1\n",
      "i:  2\n",
      "i:  3\n",
      "i:  4\n",
      "i:  5\n",
      "i:  6\n",
      "You could delete the character  f\n",
      "True\n",
      "i:  7\n",
      "i:  8\n",
      "i:  9\n",
      "i:  10\n"
     ]
    }
   ],
   "source": [
    "out=False\n",
    "s=s.lower()\n",
    "if s[:]==s[::-1]:\n",
    "    out=True\n",
    "    print(out)\n",
    "    #return out\n",
    "\n",
    "else: \n",
    "    for i in range(len(s)):\n",
    "        print(\"i: \", i)\n",
    "        #print(\"while condition: \",out)\n",
    "        test=s[:i] + s[i+1:]\n",
    "        if test[:]==test[::-1]:\n",
    "\n",
    "            out=True\n",
    "            print(\"You could delete the character \", s[i])\n",
    "            print(out)\n",
    "            #return out\n",
    "        else:\n",
    "            out=False\n",
    "    #return out\n",
    "\n",
    "    "
   ]
  },
  {
   "cell_type": "code",
   "execution_count": 244,
   "metadata": {},
   "outputs": [],
   "source": [
    "piles=[9,8,7,6,5,1,2,3,4]\n",
    "piles=sorted(piles,reverse=True)\n"
   ]
  },
  {
   "cell_type": "code",
   "execution_count": null,
   "metadata": {},
   "outputs": [],
   "source": []
  },
  {
   "cell_type": "code",
   "execution_count": 243,
   "metadata": {},
   "outputs": [
    {
     "data": {
      "text/plain": [
       "[8, 7]"
      ]
     },
     "execution_count": 243,
     "metadata": {},
     "output_type": "execute_result"
    }
   ],
   "source": [
    "i=0\n",
    "j=len(piles)-1\n",
    "for i in range(len(piles)):\n",
    "    "
   ]
  },
  {
   "cell_type": "code",
   "execution_count": null,
   "metadata": {},
   "outputs": [],
   "source": [
    "for i in range(len(piles)):\n",
    "    a = piles[i]\n",
    "    b = piles[i+i]\n",
    "    c = piles [j]\n"
   ]
  },
  {
   "cell_type": "markdown",
   "metadata": {},
   "source": [
    "### 2021-03-25"
   ]
  },
  {
   "cell_type": "code",
   "execution_count": 44,
   "metadata": {},
   "outputs": [],
   "source": [
    "s=\"bab\"\n",
    "t=\"aba\""
   ]
  },
  {
   "cell_type": "code",
   "execution_count": 71,
   "metadata": {},
   "outputs": [],
   "source": [
    "s = \"leetcode\" \n",
    "t = \"practice\""
   ]
  },
  {
   "cell_type": "code",
   "execution_count": 98,
   "metadata": {},
   "outputs": [
    {
     "ename": "TypeError",
     "evalue": "unsupported operand type(s) for +: 'dict' and 'dict'",
     "output_type": "error",
     "traceback": [
      "\u001b[0;31m---------------------------------------------------------------------------\u001b[0m",
      "\u001b[0;31mTypeError\u001b[0m                                 Traceback (most recent call last)",
      "\u001b[0;32m<ipython-input-98-a7f9d53b694f>\u001b[0m in \u001b[0;36m<module>\u001b[0;34m\u001b[0m\n\u001b[1;32m     14\u001b[0m         \u001b[0mletters2\u001b[0m\u001b[0;34m[\u001b[0m\u001b[0mletter\u001b[0m\u001b[0;34m]\u001b[0m\u001b[0;34m=\u001b[0m\u001b[0;36m1\u001b[0m\u001b[0;34m\u001b[0m\u001b[0;34m\u001b[0m\u001b[0m\n\u001b[1;32m     15\u001b[0m \u001b[0;34m\u001b[0m\u001b[0m\n\u001b[0;32m---> 16\u001b[0;31m \u001b[0minter1\u001b[0m\u001b[0;34m=\u001b[0m\u001b[0mlist\u001b[0m\u001b[0;34m(\u001b[0m\u001b[0;34m(\u001b[0m\u001b[0mletters1\u001b[0m\u001b[0;34m+\u001b[0m\u001b[0mletters2\u001b[0m\u001b[0;34m)\u001b[0m\u001b[0;34m.\u001b[0m\u001b[0melements\u001b[0m\u001b[0;34m(\u001b[0m\u001b[0;34m)\u001b[0m\u001b[0;34m)\u001b[0m\u001b[0;34m\u001b[0m\u001b[0;34m\u001b[0m\u001b[0m\n\u001b[0m\u001b[1;32m     17\u001b[0m \u001b[0;34m\u001b[0m\u001b[0m\n\u001b[1;32m     18\u001b[0m \u001b[0mlen\u001b[0m\u001b[0;34m(\u001b[0m\u001b[0ms\u001b[0m\u001b[0;34m)\u001b[0m\u001b[0;34m-\u001b[0m\u001b[0mlen\u001b[0m\u001b[0;34m(\u001b[0m\u001b[0minter1\u001b[0m\u001b[0;34m)\u001b[0m\u001b[0;34m\u001b[0m\u001b[0;34m\u001b[0m\u001b[0m\n",
      "\u001b[0;31mTypeError\u001b[0m: unsupported operand type(s) for +: 'dict' and 'dict'"
     ]
    }
   ],
   "source": [
    "letters1={}\n",
    "letters2={}\n",
    "\n",
    "for letter in s:\n",
    "    if letter in letters1:\n",
    "        letters1[letter]+=1\n",
    "    else:\n",
    "        letters1[letter]=1\n",
    "    \n",
    "for letter in t:\n",
    "    if letter in letters2:\n",
    "        letters2[letter]+=1\n",
    "    else:\n",
    "        letters2[letter]=1\n",
    "        \n",
    "inter1=list((letters1+letters2).elements())\n",
    "\n",
    "len(s)-len(inter1)"
   ]
  },
  {
   "cell_type": "code",
   "execution_count": 75,
   "metadata": {},
   "outputs": [
    {
     "data": {
      "text/plain": [
       "{'l': 1, 'e': 3, 't': 1, 'c': 1, 'o': 1, 'd': 1}"
      ]
     },
     "execution_count": 75,
     "metadata": {},
     "output_type": "execute_result"
    }
   ],
   "source": [
    "letters1"
   ]
  },
  {
   "cell_type": "code",
   "execution_count": 76,
   "metadata": {},
   "outputs": [
    {
     "data": {
      "text/plain": [
       "{'p': 1, 'r': 1, 'a': 1, 'c': 2, 't': 1, 'i': 1, 'e': 1}"
      ]
     },
     "execution_count": 76,
     "metadata": {},
     "output_type": "execute_result"
    }
   ],
   "source": [
    "letters2"
   ]
  },
  {
   "cell_type": "code",
   "execution_count": 73,
   "metadata": {},
   "outputs": [
    {
     "name": "stdout",
     "output_type": "stream",
     "text": [
      "t : 0\n",
      "c : -1\n",
      "e : 2\n"
     ]
    }
   ],
   "source": [
    "for key in inter1: \n",
    "    #print(key)\n",
    "    print(key, \":\", letters1[key]-letters2[key])"
   ]
  },
  {
   "cell_type": "markdown",
   "metadata": {},
   "source": [
    "#### exchanging two e's to get pratice"
   ]
  },
  {
   "cell_type": "code",
   "execution_count": 70,
   "metadata": {},
   "outputs": [
    {
     "data": {
      "text/plain": [
       "[1]"
      ]
     },
     "execution_count": 70,
     "metadata": {},
     "output_type": "execute_result"
    }
   ],
   "source": [
    "out=[]\n",
    "for key in inter1: \n",
    "    test=letters1[key]-letters2[key]\n",
    "    if test > 0:\n",
    "        out.append(test)\n",
    "out"
   ]
  },
  {
   "cell_type": "code",
   "execution_count": 64,
   "metadata": {},
   "outputs": [],
   "source": [
    "#faster?\n",
    "out=[]\n",
    "out+=[letters2[key]-letters2[key] for key in inter1]"
   ]
  },
  {
   "cell_type": "code",
   "execution_count": 77,
   "metadata": {},
   "outputs": [
    {
     "data": {
      "text/plain": [
       "{'p': 1, 'r': 1, 'a': 1, 'i': 1}"
      ]
     },
     "execution_count": 77,
     "metadata": {},
     "output_type": "execute_result"
    }
   ],
   "source": [
    "for key in inter1:\n",
    "    letters2.pop(key,None)\n",
    "    \n",
    "letters2"
   ]
  },
  {
   "cell_type": "code",
   "execution_count": 80,
   "metadata": {},
   "outputs": [
    {
     "data": {
      "text/plain": [
       "[1, 1, 1, 1]"
      ]
     },
     "execution_count": 80,
     "metadata": {},
     "output_type": "execute_result"
    }
   ],
   "source": [
    "list(letters2.values())"
   ]
  },
  {
   "cell_type": "code",
   "execution_count": 52,
   "metadata": {},
   "outputs": [
    {
     "name": "stdout",
     "output_type": "stream",
     "text": [
      "2\n",
      "1\n"
     ]
    }
   ],
   "source": [
    "for key in inter1: \n",
    "    print(letters1[key])"
   ]
  },
  {
   "cell_type": "code",
   "execution_count": 38,
   "metadata": {},
   "outputs": [
    {
     "data": {
      "text/plain": [
       "{'p': 0, 'r': 1, 'a': 2, 'i': 5}"
      ]
     },
     "execution_count": 38,
     "metadata": {},
     "output_type": "execute_result"
    }
   ],
   "source": [
    "letters2"
   ]
  },
  {
   "cell_type": "code",
   "execution_count": 32,
   "metadata": {},
   "outputs": [
    {
     "data": {
      "text/plain": [
       "7"
      ]
     },
     "execution_count": 32,
     "metadata": {},
     "output_type": "execute_result"
    }
   ],
   "source": [
    "len(letters2.keys())"
   ]
  },
  {
   "cell_type": "code",
   "execution_count": 83,
   "metadata": {},
   "outputs": [
    {
     "data": {
      "text/plain": [
       "{'a', 'c', 'd', 'e', 'i', 'l', 'o', 'p', 'r', 't'}"
      ]
     },
     "execution_count": 83,
     "metadata": {},
     "output_type": "execute_result"
    }
   ],
   "source": [
    "l = set(list(c1.keys())+list(c2.keys()))\n",
    "l"
   ]
  },
  {
   "cell_type": "code",
   "execution_count": null,
   "metadata": {},
   "outputs": [],
   "source": [
    "out_list=[]"
   ]
  },
  {
   "cell_type": "code",
   "execution_count": null,
   "metadata": {},
   "outputs": [],
   "source": [
    "for letter in inter1.tolist():\n",
    "    "
   ]
  },
  {
   "cell_type": "code",
   "execution_count": 8,
   "metadata": {},
   "outputs": [
    {
     "data": {
      "text/plain": [
       "{'c', 'd', 'e', 'l', 'o', 't'}"
      ]
     },
     "execution_count": 8,
     "metadata": {},
     "output_type": "execute_result"
    }
   ],
   "source": [
    "set(s)"
   ]
  },
  {
   "cell_type": "code",
   "execution_count": 9,
   "metadata": {},
   "outputs": [
    {
     "data": {
      "text/plain": [
       "{'a', 'c', 'e', 'i', 'p', 'r', 't'}"
      ]
     },
     "execution_count": 9,
     "metadata": {},
     "output_type": "execute_result"
    }
   ],
   "source": [
    "set(t)"
   ]
  },
  {
   "cell_type": "code",
   "execution_count": 81,
   "metadata": {},
   "outputs": [],
   "source": [
    "from collections import Counter"
   ]
  },
  {
   "cell_type": "code",
   "execution_count": 90,
   "metadata": {},
   "outputs": [
    {
     "data": {
      "text/plain": [
       "1"
      ]
     },
     "execution_count": 90,
     "metadata": {},
     "output_type": "execute_result"
    }
   ],
   "source": [
    "c1 = Counter(s)\n",
    "c2 = Counter(t)\n",
    "c1[\"l\"]"
   ]
  },
  {
   "cell_type": "code",
   "execution_count": 86,
   "metadata": {},
   "outputs": [
    {
     "data": {
      "text/plain": [
       "collections.Counter"
      ]
     },
     "execution_count": 86,
     "metadata": {},
     "output_type": "execute_result"
    }
   ],
   "source": [
    "type(c1)"
   ]
  },
  {
   "cell_type": "code",
   "execution_count": 85,
   "metadata": {},
   "outputs": [
    {
     "data": {
      "text/plain": [
       "['l', 'e', 't', 'c', 'o', 'd', 'p', 'r', 'a', 'c', 't', 'i', 'e']"
      ]
     },
     "execution_count": 85,
     "metadata": {},
     "output_type": "execute_result"
    }
   ],
   "source": [
    "list(c1.keys())+list(c2.keys())\n"
   ]
  },
  {
   "cell_type": "code",
   "execution_count": 92,
   "metadata": {},
   "outputs": [
    {
     "data": {
      "text/plain": [
       "1"
      ]
     },
     "execution_count": 92,
     "metadata": {},
     "output_type": "execute_result"
    }
   ],
   "source": [
    "c1.get(\"l\",0)"
   ]
  },
  {
   "cell_type": "code",
   "execution_count": 94,
   "metadata": {},
   "outputs": [
    {
     "data": {
      "text/plain": [
       "['e', 't', 'c']"
      ]
     },
     "execution_count": 94,
     "metadata": {},
     "output_type": "execute_result"
    }
   ],
   "source": [
    "list((Counter(s) & Counter(t)).elements())"
   ]
  },
  {
   "cell_type": "code",
   "execution_count": 95,
   "metadata": {},
   "outputs": [
    {
     "data": {
      "text/plain": [
       "8"
      ]
     },
     "execution_count": 95,
     "metadata": {},
     "output_type": "execute_result"
    }
   ],
   "source": [
    "len(s)"
   ]
  },
  {
   "cell_type": "code",
   "execution_count": 100,
   "metadata": {},
   "outputs": [
    {
     "data": {
      "text/plain": [
       "17"
      ]
     },
     "execution_count": 100,
     "metadata": {},
     "output_type": "execute_result"
    }
   ],
   "source": [
    "l=[2,13,3,11,5,17,7]\n",
    "2\n",
    "3,11,5,17,7,13\n",
    "3\n",
    "5,17,7,13,11\n",
    "5\n",
    "7,13,11,17\n",
    "7\n",
    "11,17,13\n",
    "11\n",
    "13,17\n",
    "13\n",
    "17\n",
    "17"
   ]
  },
  {
   "cell_type": "code",
   "execution_count": 127,
   "metadata": {},
   "outputs": [
    {
     "ename": "IndexError",
     "evalue": "list index out of range",
     "output_type": "error",
     "traceback": [
      "\u001b[0;31m---------------------------------------------------------------------------\u001b[0m",
      "\u001b[0;31mIndexError\u001b[0m                                Traceback (most recent call last)",
      "\u001b[0;32m<ipython-input-127-afc0d49763c0>\u001b[0m in \u001b[0;36m<module>\u001b[0;34m\u001b[0m\n\u001b[1;32m     10\u001b[0m         \u001b[0mout\u001b[0m\u001b[0;34m.\u001b[0m\u001b[0mappend\u001b[0m\u001b[0;34m(\u001b[0m\u001b[0ml\u001b[0m\u001b[0;34m[\u001b[0m\u001b[0mi\u001b[0m\u001b[0;34m]\u001b[0m\u001b[0;34m)\u001b[0m\u001b[0;34m\u001b[0m\u001b[0;34m\u001b[0m\u001b[0m\n\u001b[1;32m     11\u001b[0m         \u001b[0;31m#print(l[i])\u001b[0m\u001b[0;34m\u001b[0m\u001b[0;34m\u001b[0m\u001b[0;34m\u001b[0m\u001b[0m\n\u001b[0;32m---> 12\u001b[0;31m         \u001b[0;32mif\u001b[0m \u001b[0ml2\u001b[0m\u001b[0;34m[\u001b[0m\u001b[0mi\u001b[0m\u001b[0;34m+\u001b[0m\u001b[0;36m1\u001b[0m\u001b[0;34m]\u001b[0m \u001b[0;32min\u001b[0m \u001b[0mout\u001b[0m\u001b[0;34m:\u001b[0m\u001b[0;34m\u001b[0m\u001b[0;34m\u001b[0m\u001b[0m\n\u001b[0m\u001b[1;32m     13\u001b[0m             \u001b[0;32mcontinue\u001b[0m\u001b[0;34m\u001b[0m\u001b[0;34m\u001b[0m\u001b[0m\n\u001b[1;32m     14\u001b[0m         \u001b[0;32melse\u001b[0m\u001b[0;34m:\u001b[0m\u001b[0;34m\u001b[0m\u001b[0;34m\u001b[0m\u001b[0m\n",
      "\u001b[0;31mIndexError\u001b[0m: list index out of range"
     ]
    }
   ],
   "source": [
    "deck=[1,2,3]\n",
    "l=sorted(deck)\n",
    "out=[]\n",
    "if len(l)<2:\n",
    "    print(l)\n",
    "    #return l\n",
    "else:\n",
    "    l2=sorted(l[round(len(l)/2):len(l)],reverse=True)\n",
    "    for i in range(round(len(l)/2)):\n",
    "        out.append(l[i])\n",
    "        #print(l[i])\n",
    "        if l2[i+1] in out:\n",
    "            continue\n",
    "        else:\n",
    "            out.append(l2[i+1])\n",
    "            #print(l2[i-2])"
   ]
  },
  {
   "cell_type": "code",
   "execution_count": 122,
   "metadata": {},
   "outputs": [
    {
     "data": {
      "text/plain": [
       "[2, 13, 3, 11, 5, 17, 7]"
      ]
     },
     "execution_count": 122,
     "metadata": {},
     "output_type": "execute_result"
    }
   ],
   "source": [
    "out"
   ]
  },
  {
   "cell_type": "code",
   "execution_count": 112,
   "metadata": {},
   "outputs": [
    {
     "name": "stdout",
     "output_type": "stream",
     "text": [
      "[2, 3]\n",
      "[5, 7]\n"
     ]
    }
   ],
   "source": [
    "l11=l1[:round(len(l1)/2)]\n",
    "print(l11)\n",
    "l12=l1[round(len(l1)/2):]\n",
    "print(l12)"
   ]
  },
  {
   "cell_type": "code",
   "execution_count": 113,
   "metadata": {},
   "outputs": [
    {
     "name": "stdout",
     "output_type": "stream",
     "text": [
      "[13]\n",
      "[17]\n"
     ]
    }
   ],
   "source": [
    "l31=l3[:round(len(l3)/2)]\n",
    "print(l31)\n",
    "l32=l3[round(len(l3)/2):]\n",
    "print(l32)"
   ]
  },
  {
   "cell_type": "code",
   "execution_count": 117,
   "metadata": {},
   "outputs": [
    {
     "ename": "NameError",
     "evalue": "name 'cycle' is not defined",
     "output_type": "error",
     "traceback": [
      "\u001b[0;31m---------------------------------------------------------------------------\u001b[0m",
      "\u001b[0;31mNameError\u001b[0m                                 Traceback (most recent call last)",
      "\u001b[0;32m<ipython-input-117-6ca2da507aae>\u001b[0m in \u001b[0;36m<module>\u001b[0;34m\u001b[0m\n\u001b[0;32m----> 1\u001b[0;31m \u001b[0mtest\u001b[0m\u001b[0;34m=\u001b[0m\u001b[0mset\u001b[0m\u001b[0;34m(\u001b[0m\u001b[0mzip\u001b[0m\u001b[0;34m(\u001b[0m\u001b[0ml11\u001b[0m\u001b[0;34m,\u001b[0m\u001b[0mcycle\u001b[0m\u001b[0;34m(\u001b[0m\u001b[0ml31\u001b[0m\u001b[0;34m)\u001b[0m\u001b[0;34m)\u001b[0m\u001b[0;34m)\u001b[0m\u001b[0;34m\u001b[0m\u001b[0;34m\u001b[0m\u001b[0m\n\u001b[0m\u001b[1;32m      2\u001b[0m \u001b[0mtest\u001b[0m\u001b[0;34m\u001b[0m\u001b[0;34m\u001b[0m\u001b[0m\n",
      "\u001b[0;31mNameError\u001b[0m: name 'cycle' is not defined"
     ]
    }
   ],
   "source": [
    "test=set(zip(l11,cycle(l31)))\n",
    "test"
   ]
  },
  {
   "cell_type": "code",
   "execution_count": 106,
   "metadata": {},
   "outputs": [
    {
     "data": {
      "text/plain": [
       "4"
      ]
     },
     "execution_count": 106,
     "metadata": {},
     "output_type": "execute_result"
    }
   ],
   "source": [
    "round(len(l)/2)"
   ]
  },
  {
   "cell_type": "code",
   "execution_count": null,
   "metadata": {},
   "outputs": [],
   "source": [
    "1,2,3,4,6,5,7"
   ]
  },
  {
   "cell_type": "code",
   "execution_count": null,
   "metadata": {},
   "outputs": [],
   "source": []
  },
  {
   "cell_type": "code",
   "execution_count": null,
   "metadata": {},
   "outputs": [],
   "source": [
    "2,13,3,11,5,17,7,13,11,17,13,17\n",
    "1,00,1,00,1,00,1,00,11,00,11,last"
   ]
  },
  {
   "cell_type": "markdown",
   "metadata": {},
   "source": [
    "### 2021-03-26"
   ]
  },
  {
   "cell_type": "code",
   "execution_count": 157,
   "metadata": {},
   "outputs": [],
   "source": [
    "tiles = \"AAB\"\n",
    "c=Counter(tiles)"
   ]
  },
  {
   "cell_type": "code",
   "execution_count": 158,
   "metadata": {},
   "outputs": [
    {
     "data": {
      "text/plain": [
       "2"
      ]
     },
     "execution_count": 158,
     "metadata": {},
     "output_type": "execute_result"
    }
   ],
   "source": [
    "#each letter\n",
    "out=len(c.keys())\n",
    "out"
   ]
  },
  {
   "cell_type": "markdown",
   "metadata": {},
   "source": [
    "Combinations are selections of objects, with or without repetition, order does not matter. The number of k-element combinations of n objects, without repetition is Cn,k = (n k ) = n! k!( n − k)! ."
   ]
  },
  {
   "cell_type": "code",
   "execution_count": 159,
   "metadata": {},
   "outputs": [],
   "source": [
    "#unique letter combination\n",
    "from itertools import permutations\n",
    "perm1=permutations([\"A\",\"A\",\"B\"],out)"
   ]
  },
  {
   "cell_type": "code",
   "execution_count": 161,
   "metadata": {},
   "outputs": [
    {
     "data": {
      "text/plain": [
       "6"
      ]
     },
     "execution_count": 161,
     "metadata": {},
     "output_type": "execute_result"
    }
   ],
   "source": [
    "len(list(perm1))"
   ]
  },
  {
   "cell_type": "code",
   "execution_count": 163,
   "metadata": {},
   "outputs": [
    {
     "data": {
      "text/plain": [
       "3"
      ]
     },
     "execution_count": 163,
     "metadata": {},
     "output_type": "execute_result"
    }
   ],
   "source": [
    "perm2=permutations([\"A\",\"A\",\"B\"],(out-1))\n",
    "len(list(perm2))"
   ]
  },
  {
   "cell_type": "code",
   "execution_count": 156,
   "metadata": {},
   "outputs": [
    {
     "data": {
      "text/plain": [
       "6"
      ]
     },
     "execution_count": 156,
     "metadata": {},
     "output_type": "execute_result"
    }
   ],
   "source": [
    "perm3=permutations([\"A\",\"A\",\"A\",\"B\",\"B\",\"C\"],(out-2))\n",
    "len(list(perm3))"
   ]
  },
  {
   "cell_type": "code",
   "execution_count": 174,
   "metadata": {},
   "outputs": [
    {
     "data": {
      "text/plain": [
       "{('A', 'A'), ('A', 'B'), ('B', 'A'), ('B', 'B')}"
      ]
     },
     "execution_count": 174,
     "metadata": {},
     "output_type": "execute_result"
    }
   ],
   "source": [
    "from itertools import product\n",
    "out=[x for x in product([\"A\",\"A\",\"B\"], repeat = len(tiles)-1)]\n",
    "set(out)"
   ]
  },
  {
   "cell_type": "code",
   "execution_count": null,
   "metadata": {},
   "outputs": [],
   "source": [
    "from itertools import product\n",
    "out=[x for x in product([\"A\",\"A\",\"B\"], repeat = len(tiles)-1)]\n",
    "set(out)"
   ]
  },
  {
   "cell_type": "code",
   "execution_count": 166,
   "metadata": {},
   "outputs": [
    {
     "ename": "TypeError",
     "evalue": "'int' object is not iterable",
     "output_type": "error",
     "traceback": [
      "\u001b[0;31m---------------------------------------------------------------------------\u001b[0m",
      "\u001b[0;31mTypeError\u001b[0m                                 Traceback (most recent call last)",
      "\u001b[0;32m<ipython-input-166-bb3c05a1a2e3>\u001b[0m in \u001b[0;36m<module>\u001b[0;34m\u001b[0m\n\u001b[1;32m      1\u001b[0m \u001b[0;32mfrom\u001b[0m \u001b[0mitertools\u001b[0m \u001b[0;32mimport\u001b[0m \u001b[0mproduct\u001b[0m\u001b[0;34m\u001b[0m\u001b[0;34m\u001b[0m\u001b[0m\n\u001b[0;32m----> 2\u001b[0;31m \u001b[0mlist\u001b[0m\u001b[0;34m(\u001b[0m\u001b[0mproduct\u001b[0m\u001b[0;34m(\u001b[0m\u001b[0;34m[\u001b[0m\u001b[0;34m'a'\u001b[0m\u001b[0;34m,\u001b[0m \u001b[0;34m'b'\u001b[0m\u001b[0;34m,\u001b[0m \u001b[0;34m'c'\u001b[0m\u001b[0;34m]\u001b[0m\u001b[0;34m,\u001b[0m \u001b[0;36m2\u001b[0m\u001b[0;34m)\u001b[0m\u001b[0;34m)\u001b[0m\u001b[0;34m\u001b[0m\u001b[0;34m\u001b[0m\u001b[0m\n\u001b[0m",
      "\u001b[0;31mTypeError\u001b[0m: 'int' object is not iterable"
     ]
    }
   ],
   "source": [
    "from itertools import product\n",
    "list(product(['a', 'b', 'c'], 2))"
   ]
  },
  {
   "cell_type": "markdown",
   "metadata": {},
   "source": [
    "### 2021-03-29"
   ]
  },
  {
   "cell_type": "code",
   "execution_count": 189,
   "metadata": {},
   "outputs": [
    {
     "data": {
      "text/plain": [
       "Counter({4: 1, 3: 2, 2: 2, 7: 1, 8: 1, 1: 1})"
      ]
     },
     "execution_count": 189,
     "metadata": {},
     "output_type": "execute_result"
    }
   ],
   "source": [
    "inp=[4,3,2,7,8,2,3,1]\n",
    "\n",
    "from collections import Counter\n",
    "test=Counter(inp)\n",
    "test"
   ]
  },
  {
   "cell_type": "code",
   "execution_count": 190,
   "metadata": {},
   "outputs": [
    {
     "data": {
      "text/plain": [
       "[(3, 2), (2, 2), (4, 1), (7, 1), (8, 1), (1, 1)]"
      ]
     },
     "execution_count": 190,
     "metadata": {},
     "output_type": "execute_result"
    }
   ],
   "source": [
    "test2=list(test.most_common())\n",
    "test2"
   ]
  },
  {
   "cell_type": "code",
   "execution_count": 187,
   "metadata": {},
   "outputs": [
    {
     "data": {
      "text/plain": [
       "6"
      ]
     },
     "execution_count": 187,
     "metadata": {},
     "output_type": "execute_result"
    }
   ],
   "source": [
    "len(list(test.most_common()))"
   ]
  },
  {
   "cell_type": "code",
   "execution_count": 193,
   "metadata": {},
   "outputs": [
    {
     "data": {
      "text/plain": [
       "[3, 2]"
      ]
     },
     "execution_count": 193,
     "metadata": {},
     "output_type": "execute_result"
    }
   ],
   "source": [
    "out=[test2[i][0] for i in range(len(test2)) if test2[i][1]>1]\n",
    "out"
   ]
  },
  {
   "cell_type": "code",
   "execution_count": 200,
   "metadata": {},
   "outputs": [],
   "source": [
    "nums = [1,2,3]"
   ]
  },
  {
   "cell_type": "code",
   "execution_count": 202,
   "metadata": {},
   "outputs": [
    {
     "data": {
      "text/plain": [
       "[(1, 2, 3)]"
      ]
     },
     "execution_count": 202,
     "metadata": {},
     "output_type": "execute_result"
    }
   ],
   "source": [
    "from itertools import combinations\n",
    "\n",
    "test=list(combinations(nums,3))"
   ]
  },
  {
   "cell_type": "code",
   "execution_count": 203,
   "metadata": {},
   "outputs": [],
   "source": [
    "out=combinations([x for x in test],len(test))"
   ]
  },
  {
   "cell_type": "code",
   "execution_count": 205,
   "metadata": {},
   "outputs": [
    {
     "name": "stdout",
     "output_type": "stream",
     "text": [
      "<itertools.combinations object at 0x7ffd0244cef0>\n"
     ]
    }
   ],
   "source": [
    "print(out)"
   ]
  },
  {
   "cell_type": "code",
   "execution_count": 207,
   "metadata": {},
   "outputs": [],
   "source": [
    "answer=set(permutations([x for x in nums],len(nums)))"
   ]
  },
  {
   "cell_type": "code",
   "execution_count": 208,
   "metadata": {},
   "outputs": [
    {
     "data": {
      "text/plain": [
       "{(1, 2, 3), (1, 3, 2), (2, 1, 3), (2, 3, 1), (3, 1, 2), (3, 2, 1)}"
      ]
     },
     "execution_count": 208,
     "metadata": {},
     "output_type": "execute_result"
    }
   ],
   "source": [
    "answer"
   ]
  },
  {
   "cell_type": "code",
   "execution_count": 221,
   "metadata": {},
   "outputs": [
    {
     "data": {
      "text/plain": [
       "[(3, 2, 1)]"
      ]
     },
     "execution_count": 221,
     "metadata": {},
     "output_type": "execute_result"
    }
   ],
   "source": [
    "nums = [1,2,3]\n",
    "nums = [3,2,1]\n",
    "nums_list=[tuple(nums)]\n",
    "nums_list"
   ]
  },
  {
   "cell_type": "code",
   "execution_count": 222,
   "metadata": {},
   "outputs": [
    {
     "data": {
      "text/plain": [
       "[(1, 2, 3), (1, 3, 2), (2, 1, 3), (2, 3, 1), (3, 1, 2), (3, 2, 1)]"
      ]
     },
     "execution_count": 222,
     "metadata": {},
     "output_type": "execute_result"
    }
   ],
   "source": [
    "answer=sorted(list(set(permutations([x for x in nums],len(nums)))))\n",
    "answer"
   ]
  },
  {
   "cell_type": "code",
   "execution_count": 223,
   "metadata": {},
   "outputs": [
    {
     "data": {
      "text/plain": [
       "True"
      ]
     },
     "execution_count": 223,
     "metadata": {},
     "output_type": "execute_result"
    }
   ],
   "source": [
    "answer[0]<answer[1]"
   ]
  },
  {
   "cell_type": "code",
   "execution_count": 226,
   "metadata": {},
   "outputs": [
    {
     "data": {
      "text/plain": [
       "6"
      ]
     },
     "execution_count": 226,
     "metadata": {},
     "output_type": "execute_result"
    }
   ],
   "source": [
    "len(answer)"
   ]
  },
  {
   "cell_type": "code",
   "execution_count": 224,
   "metadata": {},
   "outputs": [
    {
     "data": {
      "text/plain": [
       "5"
      ]
     },
     "execution_count": 224,
     "metadata": {},
     "output_type": "execute_result"
    }
   ],
   "source": [
    "index=answer.index(nums_list[0])\n",
    "index"
   ]
  },
  {
   "cell_type": "code",
   "execution_count": 225,
   "metadata": {},
   "outputs": [
    {
     "ename": "IndexError",
     "evalue": "list index out of range",
     "output_type": "error",
     "traceback": [
      "\u001b[0;31m---------------------------------------------------------------------------\u001b[0m",
      "\u001b[0;31mIndexError\u001b[0m                                Traceback (most recent call last)",
      "\u001b[0;32m<ipython-input-225-6677aa471df8>\u001b[0m in \u001b[0;36m<module>\u001b[0;34m\u001b[0m\n\u001b[0;32m----> 1\u001b[0;31m \u001b[0mout\u001b[0m\u001b[0;34m=\u001b[0m\u001b[0manswer\u001b[0m\u001b[0;34m[\u001b[0m\u001b[0mindex\u001b[0m\u001b[0;34m+\u001b[0m\u001b[0;36m1\u001b[0m\u001b[0;34m]\u001b[0m\u001b[0;34m\u001b[0m\u001b[0;34m\u001b[0m\u001b[0m\n\u001b[0m\u001b[1;32m      2\u001b[0m \u001b[0mout\u001b[0m\u001b[0;34m\u001b[0m\u001b[0;34m\u001b[0m\u001b[0m\n",
      "\u001b[0;31mIndexError\u001b[0m: list index out of range"
     ]
    }
   ],
   "source": [
    "out=answer[index+1]\n",
    "out"
   ]
  },
  {
   "cell_type": "code",
   "execution_count": 234,
   "metadata": {},
   "outputs": [],
   "source": [
    "nums = [1,2,3]\n",
    "#nums = [3,2,1]"
   ]
  },
  {
   "cell_type": "code",
   "execution_count": 229,
   "metadata": {},
   "outputs": [
    {
     "data": {
      "text/plain": [
       "5"
      ]
     },
     "execution_count": 229,
     "metadata": {},
     "output_type": "execute_result"
    }
   ],
   "source": [
    "answer.index(nums_list[0])"
   ]
  },
  {
   "cell_type": "code",
   "execution_count": 238,
   "metadata": {},
   "outputs": [
    {
     "data": {
      "text/plain": [
       "3"
      ]
     },
     "execution_count": 238,
     "metadata": {},
     "output_type": "execute_result"
    }
   ],
   "source": [
    "len(nums_list[0])"
   ]
  },
  {
   "cell_type": "code",
   "execution_count": 232,
   "metadata": {},
   "outputs": [
    {
     "data": {
      "text/plain": [
       "5"
      ]
     },
     "execution_count": 232,
     "metadata": {},
     "output_type": "execute_result"
    }
   ],
   "source": [
    "(len(answer)-1)"
   ]
  },
  {
   "cell_type": "code",
   "execution_count": 235,
   "metadata": {},
   "outputs": [
    {
     "name": "stdout",
     "output_type": "stream",
     "text": [
      "(1, 3, 2)\n"
     ]
    }
   ],
   "source": [
    "nums_list=[tuple(nums)]\n",
    "answer=sorted(list(set(permutations([x for x in nums],len(nums)))))\n",
    "\n",
    "if len(nums_list[0])==1:\n",
    "    print(nums)\n",
    "    #return nums\n",
    "\n",
    "elif answer.index(nums_list[0])==(len(answer)-1):\n",
    "    print(answer[0])\n",
    "    #return answer[0]\n",
    "\n",
    "else:\n",
    "    print(answer[answer.index(nums_list[0])+1])\n",
    "    #return answer[answer.index(nums_list[0])+1]"
   ]
  },
  {
   "cell_type": "markdown",
   "metadata": {},
   "source": [
    "### 2021-03-30"
   ]
  },
  {
   "cell_type": "code",
   "execution_count": 285,
   "metadata": {},
   "outputs": [],
   "source": [
    "S = \"havefunonleetcode\"\n",
    "K = 5"
   ]
  },
  {
   "cell_type": "code",
   "execution_count": 279,
   "metadata": {},
   "outputs": [],
   "source": [
    "S = \"home\"\n",
    "K = 5"
   ]
  },
  {
   "cell_type": "code",
   "execution_count": 275,
   "metadata": {},
   "outputs": [
    {
     "data": {
      "text/plain": [
       "'havef'"
      ]
     },
     "execution_count": 275,
     "metadata": {},
     "output_type": "execute_result"
    }
   ],
   "source": [
    "S[0:5]"
   ]
  },
  {
   "cell_type": "code",
   "execution_count": 268,
   "metadata": {},
   "outputs": [
    {
     "data": {
      "text/plain": [
       "-1"
      ]
     },
     "execution_count": 268,
     "metadata": {},
     "output_type": "execute_result"
    }
   ],
   "source": [
    "len(S)-K"
   ]
  },
  {
   "cell_type": "code",
   "execution_count": 280,
   "metadata": {},
   "outputs": [
    {
     "data": {
      "text/plain": [
       "[]"
      ]
     },
     "execution_count": 280,
     "metadata": {},
     "output_type": "execute_result"
    }
   ],
   "source": [
    "out=[]\n",
    "\n",
    "for i in range(len(S)-(K-1)):\n",
    "    out.append(S[i:i+(K)])\n",
    "out=[list(set(o)) for o in out if len(list(set(set(o))))==K]\n",
    "    \n",
    "return len(out)"
   ]
  },
  {
   "cell_type": "code",
   "execution_count": 281,
   "metadata": {},
   "outputs": [
    {
     "data": {
      "text/plain": [
       "[]"
      ]
     },
     "execution_count": 281,
     "metadata": {},
     "output_type": "execute_result"
    }
   ],
   "source": [
    "out=[list(set(o)) for o in out if len(list(set(set(o))))==K]\n",
    "out"
   ]
  },
  {
   "cell_type": "code",
   "execution_count": 282,
   "metadata": {},
   "outputs": [
    {
     "data": {
      "text/plain": [
       "0"
      ]
     },
     "execution_count": 282,
     "metadata": {},
     "output_type": "execute_result"
    }
   ],
   "source": [
    "len(out)"
   ]
  },
  {
   "cell_type": "code",
   "execution_count": null,
   "metadata": {},
   "outputs": [],
   "source": [
    "print(len(out))"
   ]
  },
  {
   "cell_type": "code",
   "execution_count": 287,
   "metadata": {
    "collapsed": true
   },
   "outputs": [
    {
     "name": "stdout",
     "output_type": "stream",
     "text": [
      "h\n",
      "1\n",
      "a\n",
      "1\n",
      "v\n",
      "1\n",
      "e\n",
      "1\n",
      "f\n",
      "1\n",
      "u\n",
      "1\n",
      "n\n",
      "1\n",
      "o\n",
      "1\n",
      "n\n",
      "2\n",
      "l\n",
      "1\n",
      "e\n",
      "1\n",
      "e\n",
      "2\n",
      "t\n",
      "1\n",
      "c\n",
      "1\n",
      "o\n",
      "1\n",
      "d\n",
      "1\n",
      "e\n",
      "1\n"
     ]
    },
    {
     "data": {
      "text/plain": [
       "6"
      ]
     },
     "execution_count": 287,
     "metadata": {},
     "output_type": "execute_result"
    }
   ],
   "source": [
    "\n",
    "from collections import Counter\n",
    "pos, N, result = 0, len(S), 0\n",
    "if N < K: \n",
    "    print(0)\n",
    "    \n",
    "chars = Counter()\n",
    "for index in range(N):\n",
    "    # always increase the count for the current\n",
    "    # character.    \n",
    "    chars[S[index]] += 1\n",
    "    print(S[index])\n",
    "    print(chars[S[index]])\n",
    "    # if we have duplicate characters\n",
    "    while chars[S[index]] > 1:\n",
    "        # move the starting pointer up\n",
    "        # until there are no more duplicates\n",
    "        # (removing the char @ pos each increment)\n",
    "        chars[S[pos]] -= 1\n",
    "        pos += 1\n",
    "    # if the length of the current subset is\n",
    "    # equal to k, then we have a solution\n",
    "    if index - pos + 1 == K:\n",
    "        result += 1\n",
    "        chars[S[pos]] -= 1\n",
    "        pos += 1\n",
    "\n",
    "result"
   ]
  },
  {
   "cell_type": "code",
   "execution_count": 288,
   "metadata": {},
   "outputs": [],
   "source": [
    "nums = [1,2,1,3,2,5]"
   ]
  },
  {
   "cell_type": "code",
   "execution_count": 302,
   "metadata": {},
   "outputs": [],
   "source": [
    "num=Counter(nums)\n",
    "out=[n for n in set(num) if num[n]==1 ]"
   ]
  },
  {
   "cell_type": "code",
   "execution_count": 303,
   "metadata": {},
   "outputs": [
    {
     "data": {
      "text/plain": [
       "[3, 5]"
      ]
     },
     "execution_count": 303,
     "metadata": {},
     "output_type": "execute_result"
    }
   ],
   "source": [
    "out"
   ]
  },
  {
   "cell_type": "code",
   "execution_count": 304,
   "metadata": {},
   "outputs": [
    {
     "data": {
      "text/plain": [
       "[5, 3]"
      ]
     },
     "execution_count": 304,
     "metadata": {},
     "output_type": "execute_result"
    }
   ],
   "source": [
    "import collections\n",
    "\n",
    "[ i[0] for i in collections.Counter(nums).most_common()[:-3:-1] ]\n",
    "#getting the least common, indexing list backwards from 0 to -3 (not included, steps -1)"
   ]
  },
  {
   "cell_type": "markdown",
   "metadata": {},
   "source": [
    "### 2021-03-31"
   ]
  },
  {
   "cell_type": "code",
   "execution_count": 394,
   "metadata": {},
   "outputs": [],
   "source": [
    "#T = [89,62,70,58,47,47,46,76,100,70]\n",
    "T=[73, 74, 75, 71, 69, 72, 76, 73]"
   ]
  },
  {
   "cell_type": "code",
   "execution_count": 309,
   "metadata": {},
   "outputs": [
    {
     "data": {
      "text/plain": [
       "8"
      ]
     },
     "execution_count": 309,
     "metadata": {},
     "output_type": "execute_result"
    }
   ],
   "source": [
    "len(T)"
   ]
  },
  {
   "cell_type": "code",
   "execution_count": 337,
   "metadata": {},
   "outputs": [
    {
     "ename": "IndexError",
     "evalue": "list index out of range",
     "output_type": "error",
     "traceback": [
      "\u001b[0;31m---------------------------------------------------------------------------\u001b[0m",
      "\u001b[0;31mIndexError\u001b[0m                                Traceback (most recent call last)",
      "\u001b[0;32m<ipython-input-337-60ad5509dff2>\u001b[0m in \u001b[0;36m<module>\u001b[0;34m\u001b[0m\n\u001b[1;32m      8\u001b[0m     \u001b[0;32melse\u001b[0m\u001b[0;34m:\u001b[0m\u001b[0;34m\u001b[0m\u001b[0;34m\u001b[0m\u001b[0m\n\u001b[1;32m      9\u001b[0m         \u001b[0;31m#counter=0\u001b[0m\u001b[0;34m\u001b[0m\u001b[0;34m\u001b[0m\u001b[0;34m\u001b[0m\u001b[0m\n\u001b[0;32m---> 10\u001b[0;31m         \u001b[0;32mwhile\u001b[0m \u001b[0mT\u001b[0m\u001b[0;34m[\u001b[0m\u001b[0mi\u001b[0m\u001b[0;34m]\u001b[0m\u001b[0;34m>\u001b[0m\u001b[0mT\u001b[0m\u001b[0;34m[\u001b[0m\u001b[0mj\u001b[0m\u001b[0;34m+\u001b[0m\u001b[0;36m1\u001b[0m\u001b[0;34m]\u001b[0m\u001b[0;34m:\u001b[0m\u001b[0;34m\u001b[0m\u001b[0;34m\u001b[0m\u001b[0m\n\u001b[0m\u001b[1;32m     11\u001b[0m             \u001b[0mcounter\u001b[0m\u001b[0;34m+=\u001b[0m\u001b[0;36m1\u001b[0m\u001b[0;34m\u001b[0m\u001b[0;34m\u001b[0m\u001b[0m\n\u001b[1;32m     12\u001b[0m             \u001b[0mj\u001b[0m\u001b[0;34m+=\u001b[0m\u001b[0;36m1\u001b[0m\u001b[0;34m\u001b[0m\u001b[0;34m\u001b[0m\u001b[0m\n",
      "\u001b[0;31mIndexError\u001b[0m: list index out of range"
     ]
    }
   ],
   "source": [
    "counter=0\n",
    "days=[]\n",
    "for i in range(len(T)):\n",
    "    j=i\n",
    "    #while j+1<len(T):\n",
    "    if T[i]<T[j+1]:\n",
    "        days.append(1)\n",
    "    else:\n",
    "        #counter=0\n",
    "        while T[i]>T[j+1]:\n",
    "            counter+=1\n",
    "            j+=1\n",
    "        days.append(counter)\n",
    "        counter=0\n",
    "    #else:\n",
    "        #print(\"break out\")"
   ]
  },
  {
   "cell_type": "code",
   "execution_count": 338,
   "metadata": {},
   "outputs": [
    {
     "data": {
      "text/plain": [
       "[1, 1, 3, 1, 1, 1]"
      ]
     },
     "execution_count": 338,
     "metadata": {},
     "output_type": "execute_result"
    }
   ],
   "source": [
    "days"
   ]
  },
  {
   "cell_type": "code",
   "execution_count": 385,
   "metadata": {},
   "outputs": [
    {
     "name": "stdout",
     "output_type": "stream",
     "text": [
      "i:  0\n",
      "pos:  1\n",
      "to add:  8\n",
      "[8]\n",
      "i:  1\n",
      "pos:  2\n",
      "to add:  1\n",
      "[8, 1]\n",
      "i:  2\n",
      "pos:  3\n",
      "to add:  5\n",
      "[8, 1, 5]\n",
      "i:  3\n",
      "pos:  4\n",
      "to add:  4\n",
      "[8, 1, 5, 4]\n",
      "i:  4\n",
      "pos:  5\n",
      "to add:  3\n",
      "[8, 1, 5, 4, 3]\n",
      "i:  5\n",
      "pos:  6\n",
      "to add:  2\n",
      "[8, 1, 5, 4, 3, 2]\n",
      "i:  6\n",
      "pos:  7\n",
      "to add:  1\n",
      "[8, 1, 5, 4, 3, 2, 1]\n",
      "i:  7\n",
      "pos:  8\n",
      "to add:  1\n",
      "[8, 1, 5, 4, 3, 2, 1, 1]\n",
      "i:  8\n",
      "pos:  9\n",
      "to add:  0\n",
      "[8, 1, 5, 4, 3, 2, 1, 1, 0]\n",
      "i:  9\n",
      "pos:  10\n",
      "if\n",
      "[8, 1, 5, 4, 3, 2, 1, 1, 0, 0]\n"
     ]
    }
   ],
   "source": [
    "#counter=0\n",
    "days=[]\n",
    "for i in range(len(T)):\n",
    "    pos=i+1\n",
    "    print(\"i: \", i)\n",
    "    print(\"pos: \", pos)\n",
    "    if (len(T))-1<pos:\n",
    "        print(\"if\")\n",
    "        days.append(0)\n",
    "    elif pos>len(T)-1:\n",
    "        days.append(0)\n",
    "    else:\n",
    "        while T[i]>=T[pos]:\n",
    "            pos+=1\n",
    "            if pos>len(T)-1:\n",
    "                pos=i\n",
    "                break\n",
    "        print(\"to add: \", pos-i)\n",
    "        days.append(pos-i)    \n",
    "    print(days)"
   ]
  },
  {
   "cell_type": "code",
   "execution_count": 364,
   "metadata": {},
   "outputs": [
    {
     "data": {
      "text/plain": [
       "[1, 1, 4, 2, 1, 1, 0, 2, 0]"
      ]
     },
     "execution_count": 364,
     "metadata": {},
     "output_type": "execute_result"
    }
   ],
   "source": [
    "days"
   ]
  },
  {
   "cell_type": "code",
   "execution_count": 401,
   "metadata": {},
   "outputs": [
    {
     "name": "stdout",
     "output_type": "stream",
     "text": [
      "result:  0\n",
      "[0, 0, 0, 0, 0, 0, 0, 0]\n",
      "[0, 0, 0, 0, 0, 1, 0, 0]\n",
      "[0, 0, 0, 0, 1, 1, 0, 0]\n",
      "2\n",
      "[0, 0, 0, 2, 1, 1, 0, 0]\n",
      "3\n",
      "4\n",
      "[0, 0, 4, 2, 1, 1, 0, 0]\n",
      "[0, 1, 4, 2, 1, 1, 0, 0]\n",
      "[1, 1, 4, 2, 1, 1, 0, 0]\n"
     ]
    }
   ],
   "source": [
    "result = [0] * len(T)\n",
    "for i in range(len(T) - 2, -1, -1):\n",
    "    j = 1\n",
    "    while T[i] >= T[i + j]:\n",
    "        if not result[i + j]:\n",
    "            print(\"result: \", result[i + j])\n",
    "            j = 0\n",
    "            break\n",
    "        \n",
    "        j += result[i + j]\n",
    "        print(j)\n",
    "        \n",
    "    result[i] = j\n",
    "    print(result)\n",
    "\n"
   ]
  },
  {
   "cell_type": "code",
   "execution_count": null,
   "metadata": {},
   "outputs": [],
   "source": []
  }
 ],
 "metadata": {
  "kernelspec": {
   "display_name": "Python 3",
   "language": "python",
   "name": "python3"
  },
  "language_info": {
   "codemirror_mode": {
    "name": "ipython",
    "version": 3
   },
   "file_extension": ".py",
   "mimetype": "text/x-python",
   "name": "python",
   "nbconvert_exporter": "python",
   "pygments_lexer": "ipython3",
   "version": "3.8.3"
  }
 },
 "nbformat": 4,
 "nbformat_minor": 4
}
