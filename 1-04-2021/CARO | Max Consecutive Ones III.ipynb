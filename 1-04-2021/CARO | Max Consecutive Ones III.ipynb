{
 "cells": [
  {
   "cell_type": "markdown",
   "metadata": {},
   "source": [
    "https://leetcode.com/problems/max-consecutive-ones-iii/"
   ]
  },
  {
   "cell_type": "code",
   "execution_count": 16,
   "metadata": {},
   "outputs": [
    {
     "data": {
      "text/plain": [
       "19"
      ]
     },
     "execution_count": 16,
     "metadata": {},
     "output_type": "execute_result"
    }
   ],
   "source": [
    "len(A)"
   ]
  },
  {
   "cell_type": "code",
   "execution_count": 2,
   "metadata": {},
   "outputs": [],
   "source": [
    "index, length, pos = 0, len(A), 0"
   ]
  },
  {
   "cell_type": "code",
   "execution_count": 17,
   "metadata": {},
   "outputs": [
    {
     "name": "stdout",
     "output_type": "stream",
     "text": [
      "1\n",
      "2\n",
      "3\n",
      "4\n",
      "5\n",
      "6\n",
      "7\n",
      "8\n",
      "9\n",
      "10\n",
      "11\n",
      "12\n",
      "13\n",
      "14\n",
      "15\n",
      "16\n",
      "17\n"
     ]
    }
   ],
   "source": [
    "result=[]\n",
    "for i in range(len(A)-2):\n",
    "    pos=i+1\n",
    "    print(pos)\n",
    "    if pos<len(A)-1:\n",
    "        while A[i]==A[pos]:\n",
    "            pos+=1\n",
    "            if pos==len(A)-1:\n",
    "                break\n",
    "        result.append(pos-i)\n",
    "    else:\n",
    "        break\n",
    "        "
   ]
  },
  {
   "cell_type": "code",
   "execution_count": 18,
   "metadata": {},
   "outputs": [
    {
     "name": "stdout",
     "output_type": "stream",
     "text": [
      "6\n"
     ]
    }
   ],
   "source": [
    "print(max(result)+K)"
   ]
  },
  {
   "cell_type": "code",
   "execution_count": 10,
   "metadata": {},
   "outputs": [],
   "source": [
    "A = [0,0,1,1,0,0,1,1,1,0,1,1,0,0,0,1,1,1,1]\n",
    "K = 3"
   ]
  },
  {
   "cell_type": "code",
   "execution_count": 36,
   "metadata": {},
   "outputs": [
    {
     "name": "stdout",
     "output_type": "stream",
     "text": [
      "Changes back to K=  3\n",
      "1\n",
      "pos while loop:  2\n",
      "pos while loop:  3\n",
      "pos while loop:  4\n",
      "pos while loop:  5\n",
      "pos while loop:  6\n",
      "pos while loop:  7\n",
      "pos while loop:  8\n",
      "pos while loop:  9\n",
      "pos while loop:  10\n",
      "pos while loop:  11\n",
      "pos while loop:  12\n",
      "pos while loop:  13\n",
      "pos while loop:  14\n",
      "pos while loop:  15\n",
      "pos while loop:  16\n",
      "pos while loop:  17\n",
      "pos while loop:  18\n",
      "pos:  18\n",
      "i:  0\n",
      "pos-i:  18\n",
      "Changes back to K=  3\n",
      "2\n",
      "pos while loop:  3\n",
      "pos while loop:  4\n",
      "pos while loop:  5\n",
      "pos while loop:  6\n",
      "pos while loop:  7\n",
      "pos while loop:  8\n",
      "pos while loop:  9\n",
      "pos while loop:  10\n",
      "pos while loop:  11\n",
      "pos while loop:  12\n",
      "pos while loop:  13\n",
      "pos while loop:  14\n",
      "pos while loop:  15\n",
      "pos while loop:  16\n",
      "pos while loop:  17\n",
      "pos while loop:  18\n",
      "pos:  18\n",
      "i:  1\n",
      "pos-i:  17\n",
      "Changes back to K=  3\n",
      "3\n",
      "pos while loop:  4\n",
      "pos while loop:  5\n",
      "pos while loop:  6\n",
      "pos while loop:  7\n",
      "pos while loop:  8\n",
      "pos while loop:  9\n",
      "pos while loop:  10\n",
      "pos while loop:  11\n",
      "pos while loop:  12\n",
      "pos while loop:  13\n",
      "pos while loop:  14\n",
      "pos while loop:  15\n",
      "pos while loop:  16\n",
      "pos while loop:  17\n",
      "pos while loop:  18\n",
      "pos:  18\n",
      "i:  2\n",
      "pos-i:  16\n",
      "Changes back to K=  3\n",
      "4\n",
      "pos while loop:  5\n",
      "pos while loop:  6\n",
      "pos while loop:  7\n",
      "pos while loop:  8\n",
      "pos while loop:  9\n",
      "pos while loop:  10\n",
      "pos while loop:  11\n",
      "pos while loop:  12\n",
      "pos while loop:  13\n",
      "pos while loop:  14\n",
      "pos while loop:  15\n",
      "pos while loop:  16\n",
      "pos while loop:  17\n",
      "pos while loop:  18\n",
      "pos:  18\n",
      "i:  3\n",
      "pos-i:  15\n",
      "Changes back to K=  3\n",
      "5\n",
      "pos while loop:  6\n",
      "pos while loop:  7\n",
      "pos while loop:  8\n",
      "pos while loop:  9\n",
      "pos while loop:  10\n",
      "pos while loop:  11\n",
      "pos while loop:  12\n",
      "pos while loop:  13\n",
      "pos while loop:  14\n",
      "pos while loop:  15\n",
      "pos while loop:  16\n",
      "pos while loop:  17\n",
      "pos while loop:  18\n",
      "pos:  18\n",
      "i:  4\n",
      "pos-i:  14\n",
      "Changes back to K=  3\n",
      "6\n",
      "pos while loop:  7\n",
      "pos while loop:  8\n",
      "pos while loop:  9\n",
      "pos while loop:  10\n",
      "pos while loop:  11\n",
      "pos while loop:  12\n",
      "pos while loop:  13\n",
      "pos while loop:  14\n",
      "pos while loop:  15\n",
      "pos while loop:  16\n",
      "pos while loop:  17\n",
      "pos while loop:  18\n",
      "pos:  18\n",
      "i:  5\n",
      "pos-i:  13\n",
      "Changes back to K=  3\n",
      "7\n",
      "pos while loop:  8\n",
      "pos while loop:  9\n",
      "pos while loop:  10\n",
      "pos while loop:  11\n",
      "pos while loop:  12\n",
      "pos while loop:  13\n",
      "pos while loop:  14\n",
      "pos while loop:  15\n",
      "pos while loop:  16\n",
      "pos while loop:  17\n",
      "pos while loop:  18\n",
      "pos:  18\n",
      "i:  6\n",
      "pos-i:  12\n",
      "Changes back to K=  3\n",
      "8\n",
      "pos while loop:  9\n",
      "pos while loop:  10\n",
      "pos while loop:  11\n",
      "pos while loop:  12\n",
      "pos while loop:  13\n",
      "pos while loop:  14\n",
      "pos while loop:  15\n",
      "pos while loop:  16\n",
      "pos while loop:  17\n",
      "pos while loop:  18\n",
      "pos:  18\n",
      "i:  7\n",
      "pos-i:  11\n",
      "Changes back to K=  3\n",
      "9\n",
      "pos while loop:  10\n",
      "pos while loop:  11\n",
      "pos while loop:  12\n",
      "pos while loop:  13\n",
      "pos while loop:  14\n",
      "pos while loop:  15\n",
      "pos while loop:  16\n",
      "pos while loop:  17\n",
      "pos while loop:  18\n",
      "pos:  18\n",
      "i:  8\n",
      "pos-i:  10\n",
      "Changes back to K=  3\n",
      "10\n",
      "pos while loop:  11\n",
      "pos while loop:  12\n",
      "pos while loop:  13\n",
      "pos while loop:  14\n",
      "pos while loop:  15\n",
      "pos while loop:  16\n",
      "pos while loop:  17\n",
      "pos while loop:  18\n",
      "pos:  18\n",
      "i:  9\n",
      "pos-i:  9\n",
      "Changes back to K=  3\n",
      "11\n",
      "pos while loop:  12\n",
      "pos while loop:  13\n",
      "pos while loop:  14\n",
      "pos while loop:  15\n",
      "pos while loop:  16\n",
      "pos while loop:  17\n",
      "pos while loop:  18\n",
      "pos:  18\n",
      "i:  10\n",
      "pos-i:  8\n",
      "Changes back to K=  3\n",
      "12\n",
      "pos while loop:  13\n",
      "pos while loop:  14\n",
      "pos while loop:  15\n",
      "pos while loop:  16\n",
      "pos while loop:  17\n",
      "pos while loop:  18\n",
      "pos:  18\n",
      "i:  11\n",
      "pos-i:  7\n",
      "Changes back to K=  3\n",
      "13\n",
      "pos while loop:  14\n",
      "pos while loop:  15\n",
      "pos while loop:  16\n",
      "pos while loop:  17\n",
      "pos while loop:  18\n",
      "pos:  18\n",
      "i:  12\n",
      "pos-i:  6\n",
      "Changes back to K=  3\n",
      "14\n",
      "pos while loop:  15\n",
      "pos while loop:  16\n",
      "pos while loop:  17\n",
      "pos while loop:  18\n",
      "pos:  18\n",
      "i:  13\n",
      "pos-i:  5\n",
      "Changes back to K=  3\n",
      "15\n",
      "pos while loop:  16\n",
      "pos while loop:  17\n",
      "pos while loop:  18\n",
      "pos:  18\n",
      "i:  14\n",
      "pos-i:  4\n",
      "Changes back to K=  3\n",
      "16\n",
      "pos while loop:  17\n",
      "pos while loop:  18\n",
      "pos:  18\n",
      "i:  15\n",
      "pos-i:  3\n",
      "Changes back to K=  3\n",
      "17\n",
      "pos while loop:  18\n",
      "pos:  18\n",
      "i:  16\n",
      "pos-i:  2\n"
     ]
    }
   ],
   "source": [
    "result=[]\n",
    "for i in range(len(A)-2):\n",
    "    pos=i+1\n",
    "    changes=K\n",
    "    print(\"Changes back to K= \", K)\n",
    "    print(pos)\n",
    "    while A[i]==A[pos]:\n",
    "        pos+=1\n",
    "        print(\"pos while loop: \", pos)\n",
    "        if pos<len(A)-1:\n",
    "            if A[i]==A[pos]:\n",
    "                continue\n",
    "            elif A[i]!=A[pos]:\n",
    "                changes-=1\n",
    "                if changes==0:\n",
    "                    break\n",
    "                else:\n",
    "                    print(\"Before: \", A[pos])\n",
    "                    A[pos]=A[i]\n",
    "                    print(\"After: \", A[pos])\n",
    "        else:\n",
    "            break\n",
    "    print(\"pos: \", pos)\n",
    "    print(\"i: \", i)\n",
    "    print(\"pos-i: \", pos-i)\n",
    "    result.append(pos-i)\n"
   ]
  },
  {
   "cell_type": "code",
   "execution_count": 37,
   "metadata": {},
   "outputs": [
    {
     "data": {
      "text/plain": [
       "[18, 17, 16, 15, 14, 13, 12, 11, 10, 9, 8, 7, 6, 5, 4, 3, 2]"
      ]
     },
     "execution_count": 37,
     "metadata": {},
     "output_type": "execute_result"
    }
   ],
   "source": [
    "result"
   ]
  },
  {
   "cell_type": "code",
   "execution_count": null,
   "metadata": {},
   "outputs": [],
   "source": [
    "A = [0,0,1,1,0,0,1,1,1,0,1,1,0,0,0,1,1,1,1]\n",
    "\n",
    "K = 3"
   ]
  },
  {
   "cell_type": "code",
   "execution_count": null,
   "metadata": {},
   "outputs": [],
   "source": [
    "left = 0 #A[left]=0\n",
    "for right in range(len(A)):\n",
    "    # If we included a zero in the window we reduce the value of K.\n",
    "    # Since K is the maximum zeros allowed in a window.\n",
    "    K -= 1 - A[right]\n",
    "    #K-= 1-0 --> K=2\n",
    "    # A negative K denotes we have consumed all allowed flips and window has\n",
    "    # more than allowed zeros, thus increment left pointer by 1 to keep the window size same.\n",
    "    if K < 0:\n",
    "        # If the left element to be thrown out is zero we increase K.\n",
    "        K += 1 - A[left]\n",
    "        left += 1\n",
    "print(right - left + 1)\n"
   ]
  },
  {
   "cell_type": "markdown",
   "metadata": {},
   "source": [
    "Given a string s, return the length of the longest substring that contains at most two distinct characters.\n",
    "\n",
    "Input: s = \"eceba\"\n",
    "Output: 3\n",
    "Explanation: The substring is \"ece\" which its length is 3.\n",
    "    \n",
    "Input: s = \"ccaabbb\"\n",
    "Output: 5\n",
    "Explanation: The substring is \"aabbb\" which its length is 5."
   ]
  },
  {
   "cell_type": "markdown",
   "metadata": {},
   "source": [
    "https://leetcode.com/problems/longest-substring-with-at-most-two-distinct-characters/"
   ]
  },
  {
   "cell_type": "code",
   "execution_count": 54,
   "metadata": {},
   "outputs": [
    {
     "name": "stdout",
     "output_type": "stream",
     "text": [
      "0\n",
      "{'c'}\n",
      "0\n",
      "{'c'}\n",
      "1\n",
      "{'c', 'a'}\n",
      "2\n",
      "{'c', 'a'}\n",
      "3\n",
      "set()\n",
      "3\n",
      "{'b'}\n",
      "3\n",
      "{'b'}\n"
     ]
    }
   ],
   "source": [
    "left=0\n",
    "result=set()\n",
    "for right in range(len(s)):\n",
    "    result.update(s[right])\n",
    "    if len(result)<2:\n",
    "        left+=1\n",
    "    elif len(result)>2:\n",
    "        result=set()\n",
    "    print(right-left+1)\n",
    "    print(result)"
   ]
  },
  {
   "cell_type": "code",
   "execution_count": 53,
   "metadata": {},
   "outputs": [],
   "source": [
    "from collection \n",
    "#s = \"eceba\"\n",
    "s = \"ccaabbb\""
   ]
  },
  {
   "cell_type": "code",
   "execution_count": null,
   "metadata": {},
   "outputs": [],
   "source": [
    "n = len(s)\n",
    "if n < 3:\n",
    "    return n\n",
    "# sliding window left and right pointers\n",
    "left, right = 0, 0\n",
    "# hashmap character -> its rightmost position\n",
    "# in the sliding window\n",
    "hashmap = defaultdict()\n",
    "max_len = 2\n",
    "while right < n:\n",
    "    # when the slidewindow contains less than 3 characters\n",
    "    hashmap[s[right]] = right\n",
    "    right += 1\n",
    "    # slidewindow contains 3 characters\n",
    "    if len(hashmap) == 3:\n",
    "        # delete the leftmost character\n",
    "        del_idx = min(hashmap.values())\n",
    "        del hashmap[s[del_idx]]\n",
    "        # move left pointer of the slidewindow\n",
    "        left = del_idx + 1\n",
    "    max_len = max(max_len, right - left)\n",
    "return max_len"
   ]
  },
  {
   "cell_type": "code",
   "execution_count": null,
   "metadata": {},
   "outputs": [],
   "source": []
  },
  {
   "cell_type": "code",
   "execution_count": null,
   "metadata": {},
   "outputs": [],
   "source": []
  }
 ],
 "metadata": {
  "kernelspec": {
   "display_name": "Python 3",
   "language": "python",
   "name": "python3"
  },
  "language_info": {
   "codemirror_mode": {
    "name": "ipython",
    "version": 3
   },
   "file_extension": ".py",
   "mimetype": "text/x-python",
   "name": "python",
   "nbconvert_exporter": "python",
   "pygments_lexer": "ipython3",
   "version": "3.8.3"
  }
 },
 "nbformat": 4,
 "nbformat_minor": 4
}
