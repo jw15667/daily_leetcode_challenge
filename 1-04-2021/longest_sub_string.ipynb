{
 "cells": [
  {
   "cell_type": "markdown",
   "metadata": {},
   "source": [
    "https://leetcode.com/problems/longest-substring-with-at-most-two-distinct-characters/solution/"
   ]
  },
  {
   "cell_type": "code",
   "execution_count": 1,
   "metadata": {},
   "outputs": [],
   "source": [
    "from collections import defaultdict\n",
    "class Solution:\n",
    "    def lengthOfLongestSubstringTwoDistinct(self, s: 'str') -> 'int':\n",
    "        n = len(s)\n",
    "        if n < 3:\n",
    "            return n\n",
    "\n",
    "        # sliding window left and right pointers\n",
    "        left, right = 0, 0\n",
    "        # hashmap character -> its rightmost position\n",
    "        # in the sliding window\n",
    "        hashmap = defaultdict()\n",
    "\n",
    "        max_len = 2\n",
    "\n",
    "        while right < n:\n",
    "            # when the slidewindow contains less than 3 characters\n",
    "            hashmap[s[right]] = right\n",
    "            right += 1\n",
    "\n",
    "            # slidewindow contains 3 characters\n",
    "            if len(hashmap) == 3:\n",
    "                # delete the leftmost character\n",
    "                del_idx = min(hashmap.values())\n",
    "                del hashmap[s[del_idx]]\n",
    "                # move left pointer of the slidewindow\n",
    "                left = del_idx + 1\n",
    "\n",
    "            max_len = max(max_len, right - left)\n",
    "\n",
    "        return max_len"
   ]
  },
  {
   "cell_type": "code",
   "execution_count": null,
   "metadata": {},
   "outputs": [],
   "source": []
  }
 ],
 "metadata": {
  "kernelspec": {
   "display_name": "Python 3",
   "language": "python",
   "name": "python3"
  },
  "language_info": {
   "codemirror_mode": {
    "name": "ipython",
    "version": 3
   },
   "file_extension": ".py",
   "mimetype": "text/x-python",
   "name": "python",
   "nbconvert_exporter": "python",
   "pygments_lexer": "ipython3",
   "version": "3.8.5"
  }
 },
 "nbformat": 4,
 "nbformat_minor": 4
}
