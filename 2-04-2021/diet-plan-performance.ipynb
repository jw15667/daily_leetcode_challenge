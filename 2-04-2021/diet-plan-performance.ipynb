{
 "cells": [
  {
   "cell_type": "code",
   "execution_count": 67,
   "metadata": {},
   "outputs": [],
   "source": [
    "c = [3,2]\n",
    "k = 2\n",
    "l = 0\n",
    "u = 1\n"
   ]
  },
  {
   "cell_type": "code",
   "execution_count": 72,
   "metadata": {},
   "outputs": [],
   "source": [
    "c = [1,2,3,4,5]\n",
    "k = 1\n",
    "l = 3 \n",
    "u = 3"
   ]
  },
  {
   "cell_type": "code",
   "execution_count": 73,
   "metadata": {},
   "outputs": [
    {
     "name": "stdout",
     "output_type": "stream",
     "text": [
      "-5\n"
     ]
    }
   ],
   "source": [
    "temp = 0\n",
    "for i in range(k):\n",
    "    temp += c[i]\n",
    "right = k-1\n",
    "left = 0\n",
    "points = 0\n",
    "while right < len(c):\n",
    "    if temp<l:\n",
    "        points-=1\n",
    "    elif temp>u:\n",
    "        points+=1\n",
    "    temp -=c[left]\n",
    "    left+=1\n",
    "    right+=1\n",
    "    if(right >= len(c)):\n",
    "        break\n",
    "        temp+=c[right]\n",
    "print(points)"
   ]
  },
  {
   "cell_type": "code",
   "execution_count": 66,
   "metadata": {},
   "outputs": [
    {
     "name": "stdout",
     "output_type": "stream",
     "text": [
      "3\n"
     ]
    },
    {
     "data": {
      "text/plain": [
       "1"
      ]
     },
     "execution_count": 66,
     "metadata": {},
     "output_type": "execute_result"
    }
   ],
   "source": [
    "total = 0\n",
    "left = 0\n",
    "\n",
    "\n",
    "for right in range(len(calories)// k):\n",
    "    right = left+k-1\n",
    "    T = sum(calories[left:right])\n",
    "    print(T)\n",
    "#     print(calories[left], calories[right])\n",
    "#     print(T)\n",
    "    if T < lower:\n",
    "        total -= 1\n",
    "    elif T > upper:\n",
    "        total+=1\n",
    "\n",
    "        \n",
    "total"
   ]
  },
  {
   "cell_type": "code",
   "execution_count": null,
   "metadata": {},
   "outputs": [],
   "source": [
    "T=0\n",
    "score=0\n",
    "left=0\n",
    "right=left+k\n",
    "T=sum(calories[left: left+k])\n",
    "print(calories[left: left+k])\n",
    "print(calories[left: right])\n",
    "if T>upper:\n",
    "    score+=1\n",
    "elif T<lower:\n",
    "    score-=1\n",
    "while right<len(calories):\n",
    "    T+=calories[right]\n",
    "    T-=calories[left]\n",
    "    left+=1\n",
    "    right+=1\n",
    "    if T>upper:\n",
    "        score+=1\n",
    "    elif T<lower:\n",
    "        score-=1\n",
    "print(\"score: \", score)\n",
    "    "
   ]
  }
 ],
 "metadata": {
  "kernelspec": {
   "display_name": "Python 3",
   "language": "python",
   "name": "python3"
  },
  "language_info": {
   "codemirror_mode": {
    "name": "ipython",
    "version": 3
   },
   "file_extension": ".py",
   "mimetype": "text/x-python",
   "name": "python",
   "nbconvert_exporter": "python",
   "pygments_lexer": "ipython3",
   "version": "3.8.5"
  }
 },
 "nbformat": 4,
 "nbformat_minor": 4
}
