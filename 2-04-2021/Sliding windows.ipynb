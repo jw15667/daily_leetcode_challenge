{
 "cells": [
  {
   "cell_type": "markdown",
   "metadata": {},
   "source": [
    "https://leetcode.com/problems/diet-plan-performance/\n",
    "\n",
    "A dieter consumes calories[i] calories on the i-th day. \n",
    "Given an integer k, for every consecutive sequence of k days (calories[i], calories[i+1], ..., calories[i+k-1] for all 0 <= i <= n-k), they look at T, the total calories consumed during that sequence of k days (calories[i] + calories[i+1] + ... + calories[i+k-1]):\n",
    "If T < lower, they performed poorly on their diet and lose 1 point; \n",
    "If T > upper, they performed well on their diet and gain 1 point;\n",
    "Otherwise, they performed normally and there is no change in points.\n",
    "Initially, the dieter has zero points. Return the total number of points the dieter has after dieting for calories.length days.\n",
    "Note that the total points can be negative."
   ]
  },
  {
   "cell_type": "markdown",
   "metadata": {},
   "source": [
    "Input: calories = [1,2,3,4,5], k = 1, lower = 3, upper = 3\n",
    "Output: 0\n",
    "Explanation: Since k = 1, we consider each element of the array separately and compare it to lower and upper.\n",
    "calories[0] and calories[1] are less than lower so 2 points are lost.\n",
    "calories[3] and calories[4] are greater than upper so 2 points are gained."
   ]
  },
  {
   "cell_type": "code",
   "execution_count": 41,
   "metadata": {},
   "outputs": [],
   "source": [
    "calories = [1,2,3,4,5]\n",
    "k = 1\n",
    "lower = 3\n",
    "upper = 3 \n"
   ]
  },
  {
   "cell_type": "code",
   "execution_count": 52,
   "metadata": {},
   "outputs": [],
   "source": [
    "calories = [3,2]\n",
    "k = 2\n",
    "lower = 0\n",
    "upper = 1"
   ]
  },
  {
   "cell_type": "code",
   "execution_count": 53,
   "metadata": {},
   "outputs": [
    {
     "name": "stdout",
     "output_type": "stream",
     "text": [
      "[3, 2]\n",
      "[3, 2]\n",
      "score:  1\n"
     ]
    }
   ],
   "source": [
    "T=0\n",
    "score=0\n",
    "left=0\n",
    "right=left+k\n",
    "\n",
    "T=sum(calories[left: left+k])\n",
    "print(calories[left: left+k])\n",
    "print(calories[left: right])\n",
    "if T>upper:\n",
    "    score+=1\n",
    "elif T<lower:\n",
    "    score-=1\n",
    "\n",
    "while right<len(calories):\n",
    "    T+=calories[right]\n",
    "    T-=calories[left]\n",
    "    left+=1\n",
    "    right+=1\n",
    "    if T>upper:\n",
    "        score+=1\n",
    "    elif T<lower:\n",
    "        score-=1\n",
    "    \n",
    "print(\"score: \", score)\n",
    "    "
   ]
  },
  {
   "cell_type": "code",
   "execution_count": 21,
   "metadata": {},
   "outputs": [
    {
     "name": "stdout",
     "output_type": "stream",
     "text": [
      "3\n",
      "5\n",
      "7\n",
      "9\n",
      "5\n"
     ]
    }
   ],
   "source": [
    "for right in range(len(calories)):\n",
    "    print(sum(calories[right: right+k]))"
   ]
  },
  {
   "cell_type": "code",
   "execution_count": null,
   "metadata": {},
   "outputs": [],
   "source": [
    "\n",
    "#sum of calories in window size\n",
    "#initial\n",
    "temp_cal=0\n",
    "for i in range(k):\n",
    "    temp_cal+=calories[i]\n",
    "    \n",
    "left = 0\n",
    "score = 0\n",
    "right = k-1 #left-right=window size in index (-1 otherwise one index to far)\n",
    "\n",
    "while right >len(calories):\n",
    "    if temp_cal<1:\n",
    "        score+="
   ]
  }
 ],
 "metadata": {
  "kernelspec": {
   "display_name": "Python 3",
   "language": "python",
   "name": "python3"
  },
  "language_info": {
   "codemirror_mode": {
    "name": "ipython",
    "version": 3
   },
   "file_extension": ".py",
   "mimetype": "text/x-python",
   "name": "python",
   "nbconvert_exporter": "python",
   "pygments_lexer": "ipython3",
   "version": "3.8.3"
  }
 },
 "nbformat": 4,
 "nbformat_minor": 4
}
