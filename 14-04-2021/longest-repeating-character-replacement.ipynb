{
 "cells": [
  {
   "cell_type": "markdown",
   "metadata": {},
   "source": [
    "# 424. Longest Repeating Character Replacement\n"
   ]
  },
  {
   "cell_type": "markdown",
   "metadata": {},
   "source": [
    "https://leetcode.com/problems/longest-repeating-character-replacement/"
   ]
  },
  {
   "cell_type": "code",
   "execution_count": 13,
   "metadata": {},
   "outputs": [],
   "source": [
    "s = \"AABABBA\""
   ]
  },
  {
   "cell_type": "code",
   "execution_count": 6,
   "metadata": {},
   "outputs": [],
   "source": [
    "k = 1"
   ]
  },
  {
   "cell_type": "code",
   "execution_count": 8,
   "metadata": {},
   "outputs": [],
   "source": [
    "# window = 0\n",
    "# for i in range(len(s)):\n",
    "#     while k  > -1:\n",
    "#         temporary_list = s[i:window]\n",
    "#         print(temporary_list)\n",
    "#         window += 1\n",
    "#         if 'B' in temporary_list:\n",
    "#            k-=1   "
   ]
  },
  {
   "cell_type": "code",
   "execution_count": 15,
   "metadata": {},
   "outputs": [
    {
     "name": "stdout",
     "output_type": "stream",
     "text": [
      "{'A': 2, 'B': 2}\n",
      "{'A': 2, 'B': 2}\n",
      "{'A': 2, 'B': 2}\n",
      "{'A': 2, 'B': 2}\n",
      "{'A': 2, 'B': 2}\n",
      "{'A': 2, 'B': 2}\n",
      "{'A': 2, 'B': 2}\n"
     ]
    }
   ],
   "source": [
    "for i in range(len(s)):\n",
    "    right = 1\n",
    "    local_dict = {\"A\": 0, \"B\":0}\n",
    "    while (local_dict['B']!= k+1):\n",
    "        local_dict[s[right]] += 1\n",
    "        right+=1\n",
    "    print(local_dict)"
   ]
  },
  {
   "cell_type": "code",
   "execution_count": 13,
   "metadata": {},
   "outputs": [
    {
     "data": {
      "text/plain": [
       "{'A': 1, 'B': 1}"
      ]
     },
     "execution_count": 13,
     "metadata": {},
     "output_type": "execute_result"
    }
   ],
   "source": [
    "max_window = 0\n",
    "count = Counter()"
   ]
  },
  {
   "cell_type": "code",
   "execution_count": null,
   "metadata": {},
   "outputs": [],
   "source": []
  }
 ],
 "metadata": {
  "kernelspec": {
   "display_name": "Python 3",
   "language": "python",
   "name": "python3"
  }
 },
 "nbformat": 4,
 "nbformat_minor": 4
}
