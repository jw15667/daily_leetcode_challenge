{
 "cells": [
  {
   "cell_type": "markdown",
   "metadata": {},
   "source": [
    "# 413. Arithmetic Slices\n"
   ]
  },
  {
   "cell_type": "markdown",
   "metadata": {},
   "source": [
    "https://leetcode.com/problems/arithmetic-slices/"
   ]
  },
  {
   "cell_type": "code",
   "execution_count": 77,
   "metadata": {},
   "outputs": [],
   "source": [
    "nums = [1,2, 3, 4]"
   ]
  },
  {
   "cell_type": "code",
   "execution_count": 78,
   "metadata": {},
   "outputs": [
    {
     "name": "stdout",
     "output_type": "stream",
     "text": [
      "0\n",
      "3\n",
      "4\n",
      "1\n",
      "2\n",
      "3\n"
     ]
    }
   ],
   "source": [
    "totals = 0\n",
    "left, right = 0, 0\n",
    "\n",
    "if len(nums) < 3:\n",
    "    print(0)\n",
    "else:\n",
    "    for right in range(len(nums)):\n",
    "        print(right)\n",
    "        left = right + 1\n",
    "        while left <= len(nums) -1 :\n",
    "            if nums[left] - nums[right] == left:\n",
    "                if left >= 2:\n",
    "                    print(nums[left])\n",
    "                    totals += 1\n",
    "            left += 1\n"
   ]
  },
  {
   "cell_type": "code",
   "execution_count": 98,
   "metadata": {},
   "outputs": [],
   "source": [
    "# left = 0\n",
    "# for n in range(len(nums)):\n",
    "#     left += n\n",
    "#     print(nums[left])\n",
    "#     while left != len(nums):\n",
    "#         print(nums[left])\n",
    "#         if left == len(nums):\n",
    "#             break\n",
    "#         else:\n",
    "#             left+=1"
   ]
  },
  {
   "cell_type": "code",
   "execution_count": 100,
   "metadata": {},
   "outputs": [
    {
     "name": "stdout",
     "output_type": "stream",
     "text": [
      "3\n"
     ]
    }
   ],
   "source": [
    "count, comb, last_difference = 0,0,0\n",
    "for i in range(len(nums)-1):\n",
    "    difference = nums[i+1] - nums[i]\n",
    "    if i != 0 and difference == last_difference:\n",
    "        comb += 1\n",
    "        count += comb\n",
    "    else:\n",
    "        comb = 0\n",
    "    last_difference = difference\n",
    "print(count)"
   ]
  }
 ],
 "metadata": {
  "kernelspec": {
   "display_name": "Python 3",
   "language": "python",
   "name": "python3"
  },
  "language_info": {
   "codemirror_mode": {
    "name": "ipython",
    "version": 3
   },
   "file_extension": ".py",
   "mimetype": "text/x-python",
   "name": "python",
   "nbconvert_exporter": "python",
   "pygments_lexer": "ipython3",
   "version": "3.8.5"
  }
 },
 "nbformat": 4,
 "nbformat_minor": 4
}
